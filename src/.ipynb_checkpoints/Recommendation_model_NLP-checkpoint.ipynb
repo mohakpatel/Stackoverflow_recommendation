{
 "cells": [
  {
   "cell_type": "markdown",
   "metadata": {},
   "source": [
    "## Stackoverflow tag recommendation"
   ]
  },
  {
   "cell_type": "code",
   "execution_count": 1,
   "metadata": {},
   "outputs": [],
   "source": [
    "import numpy as np\n",
    "import pandas as pd\n",
    "import matplotlib.pyplot as plt\n",
    "import time\n",
    "import re\n",
    "import warnings; warnings.simplefilter('ignore')\n",
    "from sklearn.utils import shuffle\n",
    "from sklearn.feature_extraction.text import CountVectorizer, TfidfVectorizer\n",
    "from sklearn.model_selection import train_test_split\n",
    "from sklearn.utils.class_weight import compute_sample_weight\n",
    "from sklearn.linear_model import LogisticRegression\n",
    "from sklearn.metrics import accuracy_score, precision_score, recall_score, f1_score\n",
    "from sklearn.multiclass import OneVsRestClassifier\n",
    "\n",
    "random_state = 747"
   ]
  },
  {
   "cell_type": "markdown",
   "metadata": {},
   "source": [
    "## Question Data\n",
    "\n",
    "Stackoverflow question data downloaded from Google BigQuery and aggregated into a single csv file. "
   ]
  },
  {
   "cell_type": "code",
   "execution_count": 2,
   "metadata": {},
   "outputs": [
    {
     "data": {
      "text/html": [
       "<div>\n",
       "<style scoped>\n",
       "    .dataframe tbody tr th:only-of-type {\n",
       "        vertical-align: middle;\n",
       "    }\n",
       "\n",
       "    .dataframe tbody tr th {\n",
       "        vertical-align: top;\n",
       "    }\n",
       "\n",
       "    .dataframe thead th {\n",
       "        text-align: right;\n",
       "    }\n",
       "</style>\n",
       "<table border=\"1\" class=\"dataframe\">\n",
       "  <thead>\n",
       "    <tr style=\"text-align: right;\">\n",
       "      <th></th>\n",
       "      <th>title</th>\n",
       "      <th>tags</th>\n",
       "    </tr>\n",
       "  </thead>\n",
       "  <tbody>\n",
       "    <tr>\n",
       "      <th>0</th>\n",
       "      <td>Issue with the webpack-bundler</td>\n",
       "      <td>webpack</td>\n",
       "    </tr>\n",
       "    <tr>\n",
       "      <th>1</th>\n",
       "      <td>Reducing queries on Firebase</td>\n",
       "      <td>javascript|firebase</td>\n",
       "    </tr>\n",
       "    <tr>\n",
       "      <th>2</th>\n",
       "      <td>Passing a Matrix from C++ to MATLAB</td>\n",
       "      <td>c++|matlab|matrix</td>\n",
       "    </tr>\n",
       "    <tr>\n",
       "      <th>3</th>\n",
       "      <td>window.onload vs. body.onload vs. document.onr...</td>\n",
       "      <td>javascript</td>\n",
       "    </tr>\n",
       "    <tr>\n",
       "      <th>4</th>\n",
       "      <td>How to display two fragments vertically (maste...</td>\n",
       "      <td>android|android-layout|listview|android-fragments</td>\n",
       "    </tr>\n",
       "    <tr>\n",
       "      <th>5</th>\n",
       "      <td>How to pass data from servlet to JSP without f...</td>\n",
       "      <td>java|jsp|servlets|jstl</td>\n",
       "    </tr>\n",
       "    <tr>\n",
       "      <th>6</th>\n",
       "      <td>collection from customer model is not retrievi...</td>\n",
       "      <td>collections|model|magento2</td>\n",
       "    </tr>\n",
       "    <tr>\n",
       "      <th>7</th>\n",
       "      <td>I need to generate and display a random number...</td>\n",
       "      <td>java|android|random</td>\n",
       "    </tr>\n",
       "    <tr>\n",
       "      <th>8</th>\n",
       "      <td>Cannot resolve bundle style</td>\n",
       "      <td>python|django|webpack</td>\n",
       "    </tr>\n",
       "    <tr>\n",
       "      <th>9</th>\n",
       "      <td>Python run set.intersection with set of sets a...</td>\n",
       "      <td>python-2.7</td>\n",
       "    </tr>\n",
       "  </tbody>\n",
       "</table>\n",
       "</div>"
      ],
      "text/plain": [
       "                                               title  \\\n",
       "0                     Issue with the webpack-bundler   \n",
       "1                       Reducing queries on Firebase   \n",
       "2                Passing a Matrix from C++ to MATLAB   \n",
       "3  window.onload vs. body.onload vs. document.onr...   \n",
       "4  How to display two fragments vertically (maste...   \n",
       "5  How to pass data from servlet to JSP without f...   \n",
       "6  collection from customer model is not retrievi...   \n",
       "7  I need to generate and display a random number...   \n",
       "8                        Cannot resolve bundle style   \n",
       "9  Python run set.intersection with set of sets a...   \n",
       "\n",
       "                                                tags  \n",
       "0                                            webpack  \n",
       "1                                javascript|firebase  \n",
       "2                                  c++|matlab|matrix  \n",
       "3                                         javascript  \n",
       "4  android|android-layout|listview|android-fragments  \n",
       "5                             java|jsp|servlets|jstl  \n",
       "6                         collections|model|magento2  \n",
       "7                                java|android|random  \n",
       "8                              python|django|webpack  \n",
       "9                                         python-2.7  "
      ]
     },
     "execution_count": 2,
     "metadata": {},
     "output_type": "execute_result"
    }
   ],
   "source": [
    "file = '../../../Data/stackoverflow/questions.csv'\n",
    "df = pd.read_csv(file, usecols=['title', 'tags'])\n",
    "df.head(10)"
   ]
  },
  {
   "cell_type": "markdown",
   "metadata": {},
   "source": [
    "Data size"
   ]
  },
  {
   "cell_type": "code",
   "execution_count": 3,
   "metadata": {},
   "outputs": [
    {
     "data": {
      "text/plain": [
       "(16389567, 2)"
      ]
     },
     "execution_count": 3,
     "metadata": {},
     "output_type": "execute_result"
    }
   ],
   "source": [
    "df.shape"
   ]
  },
  {
   "cell_type": "markdown",
   "metadata": {},
   "source": [
    "Data is too big for taining. We will only consider randomly selected 100,000 rows"
   ]
  },
  {
   "cell_type": "code",
   "execution_count": 4,
   "metadata": {},
   "outputs": [],
   "source": [
    "df = shuffle(df, random_state=random_state)\n",
    "df = df[:1000000]"
   ]
  },
  {
   "cell_type": "markdown",
   "metadata": {},
   "source": [
    "### Clean title text"
   ]
  },
  {
   "cell_type": "code",
   "execution_count": 5,
   "metadata": {},
   "outputs": [
    {
     "data": {
      "text/html": [
       "<div>\n",
       "<style scoped>\n",
       "    .dataframe tbody tr th:only-of-type {\n",
       "        vertical-align: middle;\n",
       "    }\n",
       "\n",
       "    .dataframe tbody tr th {\n",
       "        vertical-align: top;\n",
       "    }\n",
       "\n",
       "    .dataframe thead th {\n",
       "        text-align: right;\n",
       "    }\n",
       "</style>\n",
       "<table border=\"1\" class=\"dataframe\">\n",
       "  <thead>\n",
       "    <tr style=\"text-align: right;\">\n",
       "      <th></th>\n",
       "      <th>title</th>\n",
       "      <th>tags</th>\n",
       "    </tr>\n",
       "  </thead>\n",
       "  <tbody>\n",
       "    <tr>\n",
       "      <th>12755393</th>\n",
       "      <td>uiscrollbar is adding a vertical offset when s...</td>\n",
       "      <td>ios|swift|uiscrollview|uiwebview</td>\n",
       "    </tr>\n",
       "    <tr>\n",
       "      <th>2587603</th>\n",
       "      <td>how can print value of two columns of a table</td>\n",
       "      <td>asp.net-mvc|asp.net-mvc-2|asp.net-mvc-3|razor</td>\n",
       "    </tr>\n",
       "    <tr>\n",
       "      <th>8458851</th>\n",
       "      <td>highcharts time data with irregular intervals ...</td>\n",
       "      <td>javascript|charts|highcharts</td>\n",
       "    </tr>\n",
       "    <tr>\n",
       "      <th>704156</th>\n",
       "      <td>should games request audio focus on android</td>\n",
       "      <td>android|audio|android-audiomanager</td>\n",
       "    </tr>\n",
       "    <tr>\n",
       "      <th>9586367</th>\n",
       "      <td>wpf buttons don t change when pressed</td>\n",
       "      <td>c#|wpf|xaml</td>\n",
       "    </tr>\n",
       "    <tr>\n",
       "      <th>5892363</th>\n",
       "      <td>shrine + dropzone with amazon s3</td>\n",
       "      <td>ruby-on-rails|amazon-s3|coffeescript|dropzone.js</td>\n",
       "    </tr>\n",
       "    <tr>\n",
       "      <th>11863530</th>\n",
       "      <td>forcing a digest in angular</td>\n",
       "      <td>angularjs</td>\n",
       "    </tr>\n",
       "    <tr>\n",
       "      <th>3752365</th>\n",
       "      <td>npm keeps having issues finding my node path</td>\n",
       "      <td>node.js|npm|nowjs</td>\n",
       "    </tr>\n",
       "    <tr>\n",
       "      <th>4442375</th>\n",
       "      <td>expandable list view bottom divider</td>\n",
       "      <td>android|android-layout|android-listview|expand...</td>\n",
       "    </tr>\n",
       "    <tr>\n",
       "      <th>139250</th>\n",
       "      <td>unit test fails in xcode 8</td>\n",
       "      <td>ios|objective-c|xcode|xcode8</td>\n",
       "    </tr>\n",
       "  </tbody>\n",
       "</table>\n",
       "</div>"
      ],
      "text/plain": [
       "                                                      title  \\\n",
       "12755393  uiscrollbar is adding a vertical offset when s...   \n",
       "2587603       how can print value of two columns of a table   \n",
       "8458851   highcharts time data with irregular intervals ...   \n",
       "704156         should games request audio focus on android    \n",
       "9586367               wpf buttons don t change when pressed   \n",
       "5892363                    shrine + dropzone with amazon s3   \n",
       "11863530                        forcing a digest in angular   \n",
       "3752365        npm keeps having issues finding my node path   \n",
       "4442375                 expandable list view bottom divider   \n",
       "139250                           unit test fails in xcode 8   \n",
       "\n",
       "                                                       tags  \n",
       "12755393                   ios|swift|uiscrollview|uiwebview  \n",
       "2587603       asp.net-mvc|asp.net-mvc-2|asp.net-mvc-3|razor  \n",
       "8458851                        javascript|charts|highcharts  \n",
       "704156                   android|audio|android-audiomanager  \n",
       "9586367                                         c#|wpf|xaml  \n",
       "5892363    ruby-on-rails|amazon-s3|coffeescript|dropzone.js  \n",
       "11863530                                          angularjs  \n",
       "3752365                                   node.js|npm|nowjs  \n",
       "4442375   android|android-layout|android-listview|expand...  \n",
       "139250                         ios|objective-c|xcode|xcode8  "
      ]
     },
     "execution_count": 5,
     "metadata": {},
     "output_type": "execute_result"
    }
   ],
   "source": [
    "def clean_text(text):\n",
    "    text = str(text)\n",
    "    text = re.sub(r\"[^a-zA-Z0-9#+-]\", \" \", text.lower())\n",
    "    return text\n",
    "\n",
    "df['title'] = df['title'].apply(clean_text)\n",
    "df.head(10)"
   ]
  },
  {
   "cell_type": "markdown",
   "metadata": {},
   "source": [
    "### Save for later use"
   ]
  },
  {
   "cell_type": "code",
   "execution_count": 6,
   "metadata": {},
   "outputs": [],
   "source": [
    "df.to_csv('../../../Data/stackoverflow/clean_questions.csv')"
   ]
  },
  {
   "cell_type": "markdown",
   "metadata": {},
   "source": [
    "### Load data"
   ]
  },
  {
   "cell_type": "code",
   "execution_count": 7,
   "metadata": {},
   "outputs": [
    {
     "data": {
      "text/html": [
       "<div>\n",
       "<style scoped>\n",
       "    .dataframe tbody tr th:only-of-type {\n",
       "        vertical-align: middle;\n",
       "    }\n",
       "\n",
       "    .dataframe tbody tr th {\n",
       "        vertical-align: top;\n",
       "    }\n",
       "\n",
       "    .dataframe thead th {\n",
       "        text-align: right;\n",
       "    }\n",
       "</style>\n",
       "<table border=\"1\" class=\"dataframe\">\n",
       "  <thead>\n",
       "    <tr style=\"text-align: right;\">\n",
       "      <th></th>\n",
       "      <th>Unnamed: 0</th>\n",
       "      <th>title</th>\n",
       "      <th>tags</th>\n",
       "    </tr>\n",
       "  </thead>\n",
       "  <tbody>\n",
       "    <tr>\n",
       "      <th>0</th>\n",
       "      <td>12755393</td>\n",
       "      <td>uiscrollbar is adding a vertical offset when s...</td>\n",
       "      <td>ios|swift|uiscrollview|uiwebview</td>\n",
       "    </tr>\n",
       "    <tr>\n",
       "      <th>1</th>\n",
       "      <td>2587603</td>\n",
       "      <td>how can print value of two columns of a table</td>\n",
       "      <td>asp.net-mvc|asp.net-mvc-2|asp.net-mvc-3|razor</td>\n",
       "    </tr>\n",
       "    <tr>\n",
       "      <th>2</th>\n",
       "      <td>8458851</td>\n",
       "      <td>highcharts time data with irregular intervals ...</td>\n",
       "      <td>javascript|charts|highcharts</td>\n",
       "    </tr>\n",
       "    <tr>\n",
       "      <th>3</th>\n",
       "      <td>704156</td>\n",
       "      <td>should games request audio focus on android</td>\n",
       "      <td>android|audio|android-audiomanager</td>\n",
       "    </tr>\n",
       "    <tr>\n",
       "      <th>4</th>\n",
       "      <td>9586367</td>\n",
       "      <td>wpf buttons don t change when pressed</td>\n",
       "      <td>c#|wpf|xaml</td>\n",
       "    </tr>\n",
       "    <tr>\n",
       "      <th>5</th>\n",
       "      <td>5892363</td>\n",
       "      <td>shrine + dropzone with amazon s3</td>\n",
       "      <td>ruby-on-rails|amazon-s3|coffeescript|dropzone.js</td>\n",
       "    </tr>\n",
       "    <tr>\n",
       "      <th>6</th>\n",
       "      <td>11863530</td>\n",
       "      <td>forcing a digest in angular</td>\n",
       "      <td>angularjs</td>\n",
       "    </tr>\n",
       "    <tr>\n",
       "      <th>7</th>\n",
       "      <td>3752365</td>\n",
       "      <td>npm keeps having issues finding my node path</td>\n",
       "      <td>node.js|npm|nowjs</td>\n",
       "    </tr>\n",
       "    <tr>\n",
       "      <th>8</th>\n",
       "      <td>4442375</td>\n",
       "      <td>expandable list view bottom divider</td>\n",
       "      <td>android|android-layout|android-listview|expand...</td>\n",
       "    </tr>\n",
       "    <tr>\n",
       "      <th>9</th>\n",
       "      <td>139250</td>\n",
       "      <td>unit test fails in xcode 8</td>\n",
       "      <td>ios|objective-c|xcode|xcode8</td>\n",
       "    </tr>\n",
       "  </tbody>\n",
       "</table>\n",
       "</div>"
      ],
      "text/plain": [
       "   Unnamed: 0                                              title  \\\n",
       "0    12755393  uiscrollbar is adding a vertical offset when s...   \n",
       "1     2587603      how can print value of two columns of a table   \n",
       "2     8458851  highcharts time data with irregular intervals ...   \n",
       "3      704156       should games request audio focus on android    \n",
       "4     9586367              wpf buttons don t change when pressed   \n",
       "5     5892363                   shrine + dropzone with amazon s3   \n",
       "6    11863530                        forcing a digest in angular   \n",
       "7     3752365       npm keeps having issues finding my node path   \n",
       "8     4442375                expandable list view bottom divider   \n",
       "9      139250                         unit test fails in xcode 8   \n",
       "\n",
       "                                                tags  \n",
       "0                   ios|swift|uiscrollview|uiwebview  \n",
       "1      asp.net-mvc|asp.net-mvc-2|asp.net-mvc-3|razor  \n",
       "2                       javascript|charts|highcharts  \n",
       "3                 android|audio|android-audiomanager  \n",
       "4                                        c#|wpf|xaml  \n",
       "5   ruby-on-rails|amazon-s3|coffeescript|dropzone.js  \n",
       "6                                          angularjs  \n",
       "7                                  node.js|npm|nowjs  \n",
       "8  android|android-layout|android-listview|expand...  \n",
       "9                       ios|objective-c|xcode|xcode8  "
      ]
     },
     "execution_count": 7,
     "metadata": {},
     "output_type": "execute_result"
    }
   ],
   "source": [
    "df = pd.read_csv('../../../Data/stackoverflow/clean_questions.csv')\n",
    "df.head(10)"
   ]
  },
  {
   "cell_type": "code",
   "execution_count": 8,
   "metadata": {},
   "outputs": [
    {
     "data": {
      "text/plain": [
       "Unnamed: 0    0\n",
       "title         0\n",
       "tags          0\n",
       "dtype: int64"
      ]
     },
     "execution_count": 8,
     "metadata": {},
     "output_type": "execute_result"
    }
   ],
   "source": [
    "df.isnull().sum()"
   ]
  },
  {
   "cell_type": "markdown",
   "metadata": {},
   "source": [
    "### Save data as list and basic exploration"
   ]
  },
  {
   "cell_type": "code",
   "execution_count": 9,
   "metadata": {},
   "outputs": [],
   "source": [
    "questions = df['title'].tolist()\n",
    "tags = df['tags'].tolist()"
   ]
  },
  {
   "cell_type": "markdown",
   "metadata": {},
   "source": [
    "Find the number of words in the vocabulary"
   ]
  },
  {
   "cell_type": "code",
   "execution_count": 10,
   "metadata": {},
   "outputs": [
    {
     "name": "stdout",
     "output_type": "stream",
     "text": [
      "The total number of words in the data is:  8798904\n",
      "The number of words in the vocabulary is:  151475\n"
     ]
    }
   ],
   "source": [
    "print('The total number of words in the data is: ', sum([len(text.split()) for text in questions]))\n",
    "\n",
    "def tokenize_question(text):\n",
    "    return text.split()\n",
    "\n",
    "question_vect = CountVectorizer(tokenizer=tokenize_question)\n",
    "question_vect.fit(questions)\n",
    "\n",
    "print('The number of words in the vocabulary is: ', len(question_vect.vocabulary_))"
   ]
  },
  {
   "cell_type": "markdown",
   "metadata": {},
   "source": [
    "Find the number of tags"
   ]
  },
  {
   "cell_type": "code",
   "execution_count": 11,
   "metadata": {},
   "outputs": [
    {
     "name": "stdout",
     "output_type": "stream",
     "text": [
      "The total number of tags is:  38909\n"
     ]
    }
   ],
   "source": [
    "def tokenize_tags(text):\n",
    "    return text.split('|')\n",
    "\n",
    "tags_vect = CountVectorizer(tokenizer=tokenize_tags)\n",
    "tags_vect.fit(tags)\n",
    "\n",
    "print('The total number of tags is: ', len(tags_vect.vocabulary_))"
   ]
  },
  {
   "cell_type": "markdown",
   "metadata": {},
   "source": [
    "#### Save tag label as vectorized tokens.\n",
    "\n",
    "There are too many tags to predict. In our model we will only look at the top 100 tags and save the result"
   ]
  },
  {
   "cell_type": "code",
   "execution_count": 12,
   "metadata": {},
   "outputs": [
    {
     "name": "stdout",
     "output_type": "stream",
     "text": [
      "Number of tags:  100\n",
      "The list of tags with frequency is: \n",
      "{'.htaccess': 3873, '.net': 16698, 'ajax': 11743, 'algorithm': 5256, 'amazon-web-services': 3769, 'android': 69219, 'angular': 7932, 'angularjs': 15689, 'apache': 4845, 'api': 3805, 'arrays': 16914, 'asp.net': 20775, 'asp.net-mvc': 10452, 'azure': 3622, 'bash': 6221, 'c': 17322, 'c#': 75600, 'c++': 35400, 'codeigniter': 3783, 'cordova': 3535, 'css': 33322, 'css3': 4693, 'csv': 3539, 'database': 8971, 'django': 10919, 'eclipse': 7023, 'entity-framework': 4789, 'excel': 10683, 'excel-vba': 4954, 'facebook': 5038, 'file': 3604, 'firebase': 3502, 'forms': 5529, 'function': 4203, 'git': 6184, 'google-maps': 3558, 'hibernate': 4458, 'html': 47001, 'html5': 7076, 'image': 5334, 'ios': 35039, 'iphone': 13279, 'java': 88798, 'javascript': 102394, 'jquery': 56638, 'json': 14818, 'laravel': 5815, 'linq': 4277, 'linux': 10227, 'list': 4812, 'loops': 3548, 'macos': 5368, 'matlab': 4887, 'maven': 3755, 'mongodb': 6215, 'multithreading': 6760, 'mysql': 32383, 'node.js': 14574, 'objective-c': 17394, 'oracle': 6061, 'pandas': 4907, 'performance': 4833, 'perl': 3726, 'php': 75227, 'postgresql': 5501, 'powershell': 3699, 'python': 62077, 'python-2.7': 5210, 'python-3.x': 7313, 'qt': 4102, 'r': 15562, 'reactjs': 6019, 'regex': 11691, 'rest': 3999, 'ruby': 12143, 'ruby-on-rails': 18218, 'ruby-on-rails-3': 3411, 'scala': 5154, 'shell': 4027, 'spring': 8562, 'sql': 27967, 'sql-server': 14754, 'sqlite': 3883, 'string': 7926, 'swift': 12569, 'swing': 4284, 'symfony': 3612, 'twitter-bootstrap': 5700, 'typescript': 3763, 'unit-testing': 3568, 'vb.net': 7241, 'vba': 7963, 'visual-studio': 4969, 'web-services': 3567, 'windows': 7727, 'winforms': 4863, 'wordpress': 8452, 'wpf': 8575, 'xcode': 7737, 'xml': 10735}\n"
     ]
    }
   ],
   "source": [
    "max_tags = 100\n",
    "\n",
    "def tokenize_tags(text):\n",
    "    return text.split('|')\n",
    "\n",
    "tags_vect = CountVectorizer(tokenizer=tokenize_tags, max_features=max_tags)\n",
    "tags = tags_vect.fit_transform(tags)\n",
    "tags = tags.toarray()\n",
    "print('Number of tags: ', len(tags_vect.vocabulary_))\n",
    "\n",
    "tags_token = tags_vect.get_feature_names()\n",
    "tag_frequency = tags.sum(axis=0)\n",
    "print('The list of tags with frequency is: ')\n",
    "print(dict(zip(tags_token, tag_frequency)))"
   ]
  },
  {
   "cell_type": "markdown",
   "metadata": {},
   "source": [
    "Histogram of number of tags in each question"
   ]
  },
  {
   "cell_type": "code",
   "execution_count": 13,
   "metadata": {},
   "outputs": [
    {
     "data": {
      "text/plain": [
       "Text(0,0.5,'Number of questions')"
      ]
     },
     "execution_count": 13,
     "metadata": {},
     "output_type": "execute_result"
    },
    {
     "data": {
      "image/png": "[encoded data removed]",
      "text/plain": [
       "<Figure size 432x288 with 1 Axes>"
      ]
     },
     "metadata": {
      "needs_background": "light"
     },
     "output_type": "display_data"
    }
   ],
   "source": [
    "plt.hist(tags.sum(axis=1))\n",
    "plt.xlabel('Number of tags for a question')\n",
    "plt.ylabel('Number of questions')"
   ]
  },
  {
   "cell_type": "markdown",
   "metadata": {},
   "source": [
    "### Split test and train data set"
   ]
  },
  {
   "cell_type": "code",
   "execution_count": 14,
   "metadata": {},
   "outputs": [],
   "source": [
    "X_train, X_test, y_train, y_test = train_test_split(questions, tags, \n",
    "                                                    test_size=0.1, \n",
    "                                                    random_state=random_state)"
   ]
  },
  {
   "cell_type": "markdown",
   "metadata": {},
   "source": [
    "### Sample weight\n",
    "Evaluate sample weight from y_train data"
   ]
  },
  {
   "cell_type": "code",
   "execution_count": 15,
   "metadata": {},
   "outputs": [
    {
     "data": {
      "text/plain": [
       "array([3.24693919e-30, 1.96912514e-27, 8.84745069e-29, ...,\n",
       "       3.24693919e-30, 1.11515719e-26, 1.82416213e-24])"
      ]
     },
     "execution_count": 15,
     "metadata": {},
     "output_type": "execute_result"
    }
   ],
   "source": [
    "sample_weight = compute_sample_weight('balanced', y_test)\n",
    "sample_weight"
   ]
  },
  {
   "cell_type": "code",
   "execution_count": 16,
   "metadata": {},
   "outputs": [
    {
     "data": {
      "text/plain": [
       "900000"
      ]
     },
     "execution_count": 16,
     "metadata": {},
     "output_type": "execute_result"
    }
   ],
   "source": [
    "len(X_train)"
   ]
  },
  {
   "cell_type": "markdown",
   "metadata": {},
   "source": [
    "### Evaluation metrics"
   ]
  },
  {
   "cell_type": "code",
   "execution_count": 17,
   "metadata": {},
   "outputs": [],
   "source": [
    "def eval_metrics(y_test, y_predicted, print_metrics=True):\n",
    "    \n",
    "    accuracy = accuracy_score(y_test, y_predicted)\n",
    "    precision = precision_score(y_test, y_predicted, average='weighted')\n",
    "    recall = recall_score(y_test, y_predicted, average='weighted')\n",
    "    f1 = f1_score(y_test, y_predicted, average='weighted')\n",
    "    \n",
    "    if print_metrics:\n",
    "        print(\"accuracy = %.3f, precision = %.3f, recall = %.3f, f1 = %.3f\" % (\n",
    "            accuracy, precision, recall, f1))\n",
    "    return accuracy, precision, recall, f1\n"
   ]
  },
  {
   "cell_type": "markdown",
   "metadata": {},
   "source": [
    "# Simple first order model: Bag of words with logistic regression\n"
   ]
  },
  {
   "cell_type": "markdown",
   "metadata": {},
   "source": [
    "### Bag of words embedding for quesitons\n",
    "\n",
    "Remove common words and words appearing very less number of times from the corpus"
   ]
  },
  {
   "cell_type": "code",
   "execution_count": 18,
   "metadata": {},
   "outputs": [
    {
     "name": "stdout",
     "output_type": "stream",
     "text": [
      "The number of words in the vocabulary is:  37738\n"
     ]
    }
   ],
   "source": [
    "def tokenize_question(text):\n",
    "    return text.split()\n",
    "\n",
    "bag_vect = CountVectorizer(tokenizer=tokenize_question,\n",
    "                               stop_words='english',\n",
    "                               min_df=3,\n",
    "                               max_df=0.5)\n",
    "\n",
    "X_train_bag = bag_vect.fit_transform(X_train)\n",
    "X_test_bag = bag_vect.transform(X_test)\n",
    "print('The number of words in the vocabulary is: ', len(bag_vect.vocabulary_))"
   ]
  },
  {
   "cell_type": "markdown",
   "metadata": {},
   "source": [
    "### Logistic regression with binary relevance\n",
    "Since this is a multi-label classificaiton, we will use binary relevance on top of logistical regression. This basically splits each label as a seperate classification. "
   ]
  },
  {
   "cell_type": "code",
   "execution_count": 19,
   "metadata": {},
   "outputs": [
    {
     "name": "stdout",
     "output_type": "stream",
     "text": [
      "Train score\n",
      "accuracy = 0.404, precision = 0.792, recall = 0.464, f1 = 0.577\n",
      "Test score\n",
      "accuracy = 0.377, precision = 0.752, recall = 0.442, f1 = 0.550\n",
      "CPU times: user 32min 41s, sys: 28.2 s, total: 33min 9s\n",
      "Wall time: 8min 57s\n"
     ]
    }
   ],
   "source": [
    "%%time\n",
    "bag_log_clf = OneVsRestClassifier(LogisticRegression())\n",
    "\n",
    "bag_log_clf.fit(X_train_bag, y_train)\n",
    "\n",
    "print('Train score')\n",
    "y_train_bag_predict = bag_log_clf.predict(X_train_bag)\n",
    "eval_metrics(y_train, y_train_bag_predict)\n",
    "\n",
    "print('Test score')\n",
    "y_test_bag_predict = bag_log_clf.predict(X_test_bag)\n",
    "eval_metrics(y_test, y_test_bag_predict)"
   ]
  },
  {
   "cell_type": "markdown",
   "metadata": {},
   "source": [
    "### Important words"
   ]
  },
  {
   "cell_type": "code",
   "execution_count": 20,
   "metadata": {},
   "outputs": [
    {
     "data": {
      "text/html": [
       "<div>\n",
       "<style scoped>\n",
       "    .dataframe tbody tr th:only-of-type {\n",
       "        vertical-align: middle;\n",
       "    }\n",
       "\n",
       "    .dataframe tbody tr th {\n",
       "        vertical-align: top;\n",
       "    }\n",
       "\n",
       "    .dataframe thead th {\n",
       "        text-align: right;\n",
       "    }\n",
       "</style>\n",
       "<table border=\"1\" class=\"dataframe\">\n",
       "  <thead>\n",
       "    <tr style=\"text-align: right;\">\n",
       "      <th></th>\n",
       "      <th>feature</th>\n",
       "      <th>importances</th>\n",
       "      <th>cum_imp</th>\n",
       "    </tr>\n",
       "  </thead>\n",
       "  <tbody>\n",
       "    <tr>\n",
       "      <th>0</th>\n",
       "      <td>android</td>\n",
       "      <td>1.000000</td>\n",
       "      <td>0.000937</td>\n",
       "    </tr>\n",
       "    <tr>\n",
       "      <th>1</th>\n",
       "      <td>jquery</td>\n",
       "      <td>0.968408</td>\n",
       "      <td>0.001845</td>\n",
       "    </tr>\n",
       "    <tr>\n",
       "      <th>2</th>\n",
       "      <td>r</td>\n",
       "      <td>0.963109</td>\n",
       "      <td>0.002747</td>\n",
       "    </tr>\n",
       "    <tr>\n",
       "      <th>3</th>\n",
       "      <td>spring</td>\n",
       "      <td>0.945006</td>\n",
       "      <td>0.003633</td>\n",
       "    </tr>\n",
       "    <tr>\n",
       "      <th>4</th>\n",
       "      <td>python</td>\n",
       "      <td>0.924087</td>\n",
       "      <td>0.004499</td>\n",
       "    </tr>\n",
       "    <tr>\n",
       "      <th>5</th>\n",
       "      <td>swift</td>\n",
       "      <td>0.922756</td>\n",
       "      <td>0.005364</td>\n",
       "    </tr>\n",
       "    <tr>\n",
       "      <th>6</th>\n",
       "      <td>wpf</td>\n",
       "      <td>0.917604</td>\n",
       "      <td>0.006224</td>\n",
       "    </tr>\n",
       "    <tr>\n",
       "      <th>7</th>\n",
       "      <td>django</td>\n",
       "      <td>0.902517</td>\n",
       "      <td>0.007070</td>\n",
       "    </tr>\n",
       "    <tr>\n",
       "      <th>8</th>\n",
       "      <td>c++</td>\n",
       "      <td>0.898729</td>\n",
       "      <td>0.007912</td>\n",
       "    </tr>\n",
       "    <tr>\n",
       "      <th>9</th>\n",
       "      <td>laravel</td>\n",
       "      <td>0.864010</td>\n",
       "      <td>0.008722</td>\n",
       "    </tr>\n",
       "    <tr>\n",
       "      <th>10</th>\n",
       "      <td>pandas</td>\n",
       "      <td>0.846416</td>\n",
       "      <td>0.009515</td>\n",
       "    </tr>\n",
       "    <tr>\n",
       "      <th>11</th>\n",
       "      <td>rails</td>\n",
       "      <td>0.839237</td>\n",
       "      <td>0.010302</td>\n",
       "    </tr>\n",
       "    <tr>\n",
       "      <th>12</th>\n",
       "      <td>matlab</td>\n",
       "      <td>0.837929</td>\n",
       "      <td>0.011087</td>\n",
       "    </tr>\n",
       "    <tr>\n",
       "      <th>13</th>\n",
       "      <td>java</td>\n",
       "      <td>0.824993</td>\n",
       "      <td>0.011860</td>\n",
       "    </tr>\n",
       "    <tr>\n",
       "      <th>14</th>\n",
       "      <td>vba</td>\n",
       "      <td>0.820683</td>\n",
       "      <td>0.012629</td>\n",
       "    </tr>\n",
       "    <tr>\n",
       "      <th>15</th>\n",
       "      <td>ios</td>\n",
       "      <td>0.812012</td>\n",
       "      <td>0.013390</td>\n",
       "    </tr>\n",
       "    <tr>\n",
       "      <th>16</th>\n",
       "      <td>angular</td>\n",
       "      <td>0.790569</td>\n",
       "      <td>0.014131</td>\n",
       "    </tr>\n",
       "    <tr>\n",
       "      <th>17</th>\n",
       "      <td>c#</td>\n",
       "      <td>0.789681</td>\n",
       "      <td>0.014871</td>\n",
       "    </tr>\n",
       "    <tr>\n",
       "      <th>18</th>\n",
       "      <td>git</td>\n",
       "      <td>0.788963</td>\n",
       "      <td>0.015611</td>\n",
       "    </tr>\n",
       "    <tr>\n",
       "      <th>19</th>\n",
       "      <td>scala</td>\n",
       "      <td>0.781191</td>\n",
       "      <td>0.016343</td>\n",
       "    </tr>\n",
       "  </tbody>\n",
       "</table>\n",
       "</div>"
      ],
      "text/plain": [
       "    feature  importances   cum_imp\n",
       "0   android     1.000000  0.000937\n",
       "1    jquery     0.968408  0.001845\n",
       "2         r     0.963109  0.002747\n",
       "3    spring     0.945006  0.003633\n",
       "4    python     0.924087  0.004499\n",
       "5     swift     0.922756  0.005364\n",
       "6       wpf     0.917604  0.006224\n",
       "7    django     0.902517  0.007070\n",
       "8       c++     0.898729  0.007912\n",
       "9   laravel     0.864010  0.008722\n",
       "10   pandas     0.846416  0.009515\n",
       "11    rails     0.839237  0.010302\n",
       "12   matlab     0.837929  0.011087\n",
       "13     java     0.824993  0.011860\n",
       "14      vba     0.820683  0.012629\n",
       "15      ios     0.812012  0.013390\n",
       "16  angular     0.790569  0.014131\n",
       "17       c#     0.789681  0.014871\n",
       "18      git     0.788963  0.015611\n",
       "19    scala     0.781191  0.016343"
      ]
     },
     "execution_count": 20,
     "metadata": {},
     "output_type": "execute_result"
    }
   ],
   "source": [
    "importances = importances = bag_log_clf.estimators_[0].coef_[0]\n",
    "for i in range(1,len(bag_log_clf.estimators_)):\n",
    "    importances += bag_log_clf.estimators_[i].coef_[0]\n",
    "\n",
    "importances = importances/sum(importances)\n",
    "    \n",
    "feature_imps = {'importances':importances, 'feature':bag_vect.get_feature_names()}\n",
    "feature_imps = pd.DataFrame(feature_imps)\n",
    "feature_imps = feature_imps.sort_values('importances', ascending=False)\n",
    "# Normalize importance and add cumulative importance\n",
    "feature_imps['cum_imp'] = feature_imps['importances'].cumsum()\n",
    "feature_imps['importances'] = feature_imps['importances']/feature_imps['importances'].max()\n",
    "feature_imps = feature_imps.reset_index(drop=True)\n",
    "feature_imps['no_features'] = feature_imps.index + 1\n",
    "feature_imps[['feature', 'importances', 'cum_imp']].head(20)"
   ]
  },
  {
   "cell_type": "markdown",
   "metadata": {},
   "source": [
    "## TFIDF with logistic regression and binary relevance"
   ]
  },
  {
   "cell_type": "markdown",
   "metadata": {},
   "source": [
    "### TFIDF on bag of words embedding for quesitons"
   ]
  },
  {
   "cell_type": "code",
   "execution_count": 21,
   "metadata": {},
   "outputs": [
    {
     "name": "stdout",
     "output_type": "stream",
     "text": [
      "The number of words in the vocabulary is:  30308\n"
     ]
    }
   ],
   "source": [
    "def tokenize_question(text):\n",
    "    return text.split()\n",
    "\n",
    "tfidf_vect = TfidfVectorizer(tokenizer=tokenize_question,\n",
    "                               stop_words='english',\n",
    "                               min_df=4,\n",
    "                               max_df=0.5)\n",
    "\n",
    "X_train_tfidf = tfidf_vect.fit_transform(X_train)\n",
    "X_test_tfidf = tfidf_vect.transform(X_test)\n",
    "print('The number of words in the vocabulary is: ', len(tfidf_vect.vocabulary_))"
   ]
  },
  {
   "cell_type": "markdown",
   "metadata": {},
   "source": [
    "### Logistic regression with binary relevance"
   ]
  },
  {
   "cell_type": "code",
   "execution_count": 22,
   "metadata": {},
   "outputs": [
    {
     "name": "stdout",
     "output_type": "stream",
     "text": [
      "Train score\n",
      "accuracy = 0.385, precision = 0.785, recall = 0.433, f1 = 0.550\n",
      "Test score\n",
      "accuracy = 0.372, precision = 0.768, recall = 0.423, f1 = 0.538\n",
      "CPU times: user 11min 54s, sys: 7min 23s, total: 19min 18s\n",
      "Wall time: 5min 20s\n"
     ]
    }
   ],
   "source": [
    "%%time\n",
    "tfidf_log_clf = OneVsRestClassifier(LogisticRegression())\n",
    "\n",
    "tfidf_log_clf.fit(X_train_tfidf, y_train)\n",
    "\n",
    "print('Train score')\n",
    "y_train_tfidf_predict = tfidf_log_clf.predict(X_train_tfidf)\n",
    "eval_metrics(y_train, y_train_tfidf_predict)\n",
    "\n",
    "print('Test score')\n",
    "y_test_tfidf_predict = tfidf_log_clf.predict(X_test_tfidf)\n",
    "eval_metrics(y_test, y_test_tfidf_predict)"
   ]
  },
  {
   "cell_type": "markdown",
   "metadata": {},
   "source": [
    "### Importance words"
   ]
  },
  {
   "cell_type": "code",
   "execution_count": 25,
   "metadata": {},
   "outputs": [
    {
     "data": {
      "text/html": [
       "<div>\n",
       "<style scoped>\n",
       "    .dataframe tbody tr th:only-of-type {\n",
       "        vertical-align: middle;\n",
       "    }\n",
       "\n",
       "    .dataframe tbody tr th {\n",
       "        vertical-align: top;\n",
       "    }\n",
       "\n",
       "    .dataframe thead th {\n",
       "        text-align: right;\n",
       "    }\n",
       "</style>\n",
       "<table border=\"1\" class=\"dataframe\">\n",
       "  <thead>\n",
       "    <tr style=\"text-align: right;\">\n",
       "      <th></th>\n",
       "      <th>feature</th>\n",
       "      <th>importances</th>\n",
       "      <th>cum_imp</th>\n",
       "    </tr>\n",
       "  </thead>\n",
       "  <tbody>\n",
       "    <tr>\n",
       "      <th>0</th>\n",
       "      <td>android</td>\n",
       "      <td>1.000000</td>\n",
       "      <td>0.023515</td>\n",
       "    </tr>\n",
       "    <tr>\n",
       "      <th>1</th>\n",
       "      <td>python</td>\n",
       "      <td>0.826409</td>\n",
       "      <td>0.042948</td>\n",
       "    </tr>\n",
       "    <tr>\n",
       "      <th>2</th>\n",
       "      <td>jquery</td>\n",
       "      <td>0.799126</td>\n",
       "      <td>0.061739</td>\n",
       "    </tr>\n",
       "    <tr>\n",
       "      <th>3</th>\n",
       "      <td>java</td>\n",
       "      <td>0.769738</td>\n",
       "      <td>0.079840</td>\n",
       "    </tr>\n",
       "    <tr>\n",
       "      <th>4</th>\n",
       "      <td>php</td>\n",
       "      <td>0.717130</td>\n",
       "      <td>0.096703</td>\n",
       "    </tr>\n",
       "    <tr>\n",
       "      <th>5</th>\n",
       "      <td>r</td>\n",
       "      <td>0.641999</td>\n",
       "      <td>0.111800</td>\n",
       "    </tr>\n",
       "    <tr>\n",
       "      <th>6</th>\n",
       "      <td>c++</td>\n",
       "      <td>0.626198</td>\n",
       "      <td>0.126525</td>\n",
       "    </tr>\n",
       "    <tr>\n",
       "      <th>7</th>\n",
       "      <td>c#</td>\n",
       "      <td>0.602218</td>\n",
       "      <td>0.140686</td>\n",
       "    </tr>\n",
       "    <tr>\n",
       "      <th>8</th>\n",
       "      <td>javascript</td>\n",
       "      <td>0.576617</td>\n",
       "      <td>0.154245</td>\n",
       "    </tr>\n",
       "    <tr>\n",
       "      <th>9</th>\n",
       "      <td>sql</td>\n",
       "      <td>0.574948</td>\n",
       "      <td>0.167765</td>\n",
       "    </tr>\n",
       "    <tr>\n",
       "      <th>10</th>\n",
       "      <td>mysql</td>\n",
       "      <td>0.565034</td>\n",
       "      <td>0.181052</td>\n",
       "    </tr>\n",
       "    <tr>\n",
       "      <th>11</th>\n",
       "      <td>spring</td>\n",
       "      <td>0.561837</td>\n",
       "      <td>0.194263</td>\n",
       "    </tr>\n",
       "    <tr>\n",
       "      <th>12</th>\n",
       "      <td>rails</td>\n",
       "      <td>0.559050</td>\n",
       "      <td>0.207409</td>\n",
       "    </tr>\n",
       "    <tr>\n",
       "      <th>13</th>\n",
       "      <td>ios</td>\n",
       "      <td>0.557869</td>\n",
       "      <td>0.220528</td>\n",
       "    </tr>\n",
       "    <tr>\n",
       "      <th>14</th>\n",
       "      <td>django</td>\n",
       "      <td>0.550162</td>\n",
       "      <td>0.233465</td>\n",
       "    </tr>\n",
       "    <tr>\n",
       "      <th>15</th>\n",
       "      <td>swift</td>\n",
       "      <td>0.516883</td>\n",
       "      <td>0.245619</td>\n",
       "    </tr>\n",
       "    <tr>\n",
       "      <th>16</th>\n",
       "      <td>angular</td>\n",
       "      <td>0.510166</td>\n",
       "      <td>0.257616</td>\n",
       "    </tr>\n",
       "    <tr>\n",
       "      <th>17</th>\n",
       "      <td>laravel</td>\n",
       "      <td>0.488340</td>\n",
       "      <td>0.269099</td>\n",
       "    </tr>\n",
       "    <tr>\n",
       "      <th>18</th>\n",
       "      <td>css</td>\n",
       "      <td>0.481022</td>\n",
       "      <td>0.280410</td>\n",
       "    </tr>\n",
       "    <tr>\n",
       "      <th>19</th>\n",
       "      <td>wpf</td>\n",
       "      <td>0.471576</td>\n",
       "      <td>0.291500</td>\n",
       "    </tr>\n",
       "  </tbody>\n",
       "</table>\n",
       "</div>"
      ],
      "text/plain": [
       "       feature  importances   cum_imp\n",
       "0      android     1.000000  0.023515\n",
       "1       python     0.826409  0.042948\n",
       "2       jquery     0.799126  0.061739\n",
       "3         java     0.769738  0.079840\n",
       "4          php     0.717130  0.096703\n",
       "5            r     0.641999  0.111800\n",
       "6          c++     0.626198  0.126525\n",
       "7           c#     0.602218  0.140686\n",
       "8   javascript     0.576617  0.154245\n",
       "9          sql     0.574948  0.167765\n",
       "10       mysql     0.565034  0.181052\n",
       "11      spring     0.561837  0.194263\n",
       "12       rails     0.559050  0.207409\n",
       "13         ios     0.557869  0.220528\n",
       "14      django     0.550162  0.233465\n",
       "15       swift     0.516883  0.245619\n",
       "16     angular     0.510166  0.257616\n",
       "17     laravel     0.488340  0.269099\n",
       "18         css     0.481022  0.280410\n",
       "19         wpf     0.471576  0.291500"
      ]
     },
     "execution_count": 25,
     "metadata": {},
     "output_type": "execute_result"
    }
   ],
   "source": [
    "importances = importances = tfidf_log_clf.estimators_[0].coef_[0]\n",
    "for i in range(1,len(tfidf_log_clf.estimators_)):\n",
    "    importances += tfidf_log_clf.estimators_[i].coef_[0]\n",
    "\n",
    "importances = importances/sum(importances)\n",
    "    \n",
    "feature_imps = {'importances':importances, 'feature':tfidf_vect.get_feature_names()}\n",
    "feature_imps = pd.DataFrame(feature_imps)\n",
    "feature_imps = feature_imps.sort_values('importances', ascending=False)\n",
    "# Normalize importance and add cumulative importance\n",
    "feature_imps['cum_imp'] = feature_imps['importances'].cumsum()\n",
    "feature_imps['importances'] = feature_imps['importances']/feature_imps['importances'].max()\n",
    "feature_imps = feature_imps.reset_index(drop=True)\n",
    "feature_imps['no_features'] = feature_imps.index + 1\n",
    "feature_imps[['feature', 'importances', 'cum_imp']].head(20)"
   ]
  },
  {
   "cell_type": "code",
   "execution_count": null,
   "metadata": {},
   "outputs": [],
   "source": []
  }
 ],
 "metadata": {
  "kernelspec": {
   "display_name": "Python 3",
   "language": "python",
   "name": "python3"
  },
  "language_info": {
   "codemirror_mode": {
    "name": "ipython",
    "version": 3
   },
   "file_extension": ".py",
   "mimetype": "text/x-python",
   "name": "python",
   "nbconvert_exporter": "python",
   "pygments_lexer": "ipython3",
   "version": "3.6.6"
  }
 },
 "nbformat": 4,
 "nbformat_minor": 2
}
