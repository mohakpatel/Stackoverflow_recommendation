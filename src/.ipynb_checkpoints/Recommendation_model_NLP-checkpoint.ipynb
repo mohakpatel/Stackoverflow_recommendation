{
 "cells": [
  {
   "cell_type": "markdown",
   "metadata": {},
   "source": [
    "## Stackoverflow tag recommendation"
   ]
  },
  {
   "cell_type": "code",
   "execution_count": 1,
   "metadata": {},
   "outputs": [],
   "source": [
    "import numpy as np\n",
    "import pandas as pd\n",
    "import matplotlib.pyplot as plt\n",
    "import time\n",
    "import re\n",
    "import warnings; warnings.simplefilter('ignore')\n",
    "from sklearn.utils import shuffle\n",
    "from sklearn.feature_extraction.text import CountVectorizer, TfidfVectorizer\n",
    "from sklearn.model_selection import train_test_split\n",
    "from sklearn.utils.class_weight import compute_sample_weight\n",
    "from sklearn.linear_model import LogisticRegression, LogisticRegressionCV \n",
    "from sklearn.metrics import accuracy_score, precision_score, recall_score, f1_score\n",
    "from sklearn.multiclass import OneVsRestClassifier\n",
    "from sklearn.naive_bayes import GaussianNB\n",
    "import gensim\n",
    "from model import ConvText\n",
    "\n",
    "random_state = 747"
   ]
  },
  {
   "cell_type": "markdown",
   "metadata": {},
   "source": [
    "## Question Data\n",
    "\n",
    "Stackoverflow question data downloaded from Google BigQuery and aggregated into a single csv file. "
   ]
  },
  {
   "cell_type": "code",
   "execution_count": null,
   "metadata": {},
   "outputs": [],
   "source": [
    "file = '../../../Data/stackoverflow/questions.csv'\n",
    "df = pd.read_csv(file, usecols=['title', 'tags'])\n",
    "df.head(10)"
   ]
  },
  {
   "cell_type": "markdown",
   "metadata": {},
   "source": [
    "Data size"
   ]
  },
  {
   "cell_type": "code",
   "execution_count": null,
   "metadata": {},
   "outputs": [],
   "source": [
    "df.shape"
   ]
  },
  {
   "cell_type": "markdown",
   "metadata": {},
   "source": [
    "### Remove rows with missing data"
   ]
  },
  {
   "cell_type": "code",
   "execution_count": null,
   "metadata": {},
   "outputs": [],
   "source": [
    "df.isnull().sum()"
   ]
  },
  {
   "cell_type": "code",
   "execution_count": null,
   "metadata": {},
   "outputs": [],
   "source": [
    "df = df.dropna()"
   ]
  },
  {
   "cell_type": "markdown",
   "metadata": {},
   "source": [
    "Data is too big for taining for my computer. So I train the model on randomly selected 250,000 rows"
   ]
  },
  {
   "cell_type": "code",
   "execution_count": null,
   "metadata": {},
   "outputs": [],
   "source": [
    "df = shuffle(df, random_state=random_state)\n",
    "df = df[:250000]"
   ]
  },
  {
   "cell_type": "markdown",
   "metadata": {},
   "source": [
    "### Clean title text"
   ]
  },
  {
   "cell_type": "code",
   "execution_count": null,
   "metadata": {},
   "outputs": [],
   "source": [
    "def clean_text(text):\n",
    "    text = str(text)\n",
    "    text = re.sub(r\"[^a-zA-Z0-9#+-]\", \" \", text.lower())\n",
    "    return text\n",
    "\n",
    "df['title'] = df['title'].apply(clean_text)\n",
    "df.head(10)"
   ]
  },
  {
   "cell_type": "markdown",
   "metadata": {},
   "source": [
    "### Save for later use"
   ]
  },
  {
   "cell_type": "code",
   "execution_count": null,
   "metadata": {},
   "outputs": [],
   "source": [
    "df.to_csv('../../../Data/stackoverflow/clean_questions.csv')"
   ]
  },
  {
   "cell_type": "markdown",
   "metadata": {},
   "source": [
    "### Load data"
   ]
  },
  {
   "cell_type": "code",
   "execution_count": 2,
   "metadata": {},
   "outputs": [
    {
     "data": {
      "text/html": [
       "<div>\n",
       "<style scoped>\n",
       "    .dataframe tbody tr th:only-of-type {\n",
       "        vertical-align: middle;\n",
       "    }\n",
       "\n",
       "    .dataframe tbody tr th {\n",
       "        vertical-align: top;\n",
       "    }\n",
       "\n",
       "    .dataframe thead th {\n",
       "        text-align: right;\n",
       "    }\n",
       "</style>\n",
       "<table border=\"1\" class=\"dataframe\">\n",
       "  <thead>\n",
       "    <tr style=\"text-align: right;\">\n",
       "      <th></th>\n",
       "      <th>Unnamed: 0</th>\n",
       "      <th>title</th>\n",
       "      <th>tags</th>\n",
       "    </tr>\n",
       "  </thead>\n",
       "  <tbody>\n",
       "    <tr>\n",
       "      <th>0</th>\n",
       "      <td>11535818</td>\n",
       "      <td>angular 4 use the values from something compon...</td>\n",
       "      <td>javascript|angular|typescript</td>\n",
       "    </tr>\n",
       "    <tr>\n",
       "      <th>1</th>\n",
       "      <td>2504283</td>\n",
       "      <td>why is the  this  keyword required to call an ...</td>\n",
       "      <td>c#|extension-methods</td>\n",
       "    </tr>\n",
       "    <tr>\n",
       "      <th>2</th>\n",
       "      <td>11317072</td>\n",
       "      <td>how do i store information when i run the program</td>\n",
       "      <td>python</td>\n",
       "    </tr>\n",
       "    <tr>\n",
       "      <th>3</th>\n",
       "      <td>13210416</td>\n",
       "      <td>if statement  doesn t work</td>\n",
       "      <td>expect</td>\n",
       "    </tr>\n",
       "    <tr>\n",
       "      <th>4</th>\n",
       "      <td>939640</td>\n",
       "      <td>laravel 5 5 redirect to url with anchor and wi...</td>\n",
       "      <td>laravel|laravel-5|laravel-5.5|laravel-form</td>\n",
       "    </tr>\n",
       "    <tr>\n",
       "      <th>5</th>\n",
       "      <td>10370658</td>\n",
       "      <td>multiline grid extjs</td>\n",
       "      <td>ruby-on-rails|extjs|grid|multiline</td>\n",
       "    </tr>\n",
       "    <tr>\n",
       "      <th>6</th>\n",
       "      <td>4083000</td>\n",
       "      <td>jade access images from parent directory</td>\n",
       "      <td>node.js|express|parent-child|pug|directory-str...</td>\n",
       "    </tr>\n",
       "    <tr>\n",
       "      <th>7</th>\n",
       "      <td>9656308</td>\n",
       "      <td>rails 3 superclass mismatch for class location</td>\n",
       "      <td>ruby-on-rails-3|superclass</td>\n",
       "    </tr>\n",
       "    <tr>\n",
       "      <th>8</th>\n",
       "      <td>3134627</td>\n",
       "      <td>how can i get the number of lines of a text fi...</td>\n",
       "      <td>text|count|specman</td>\n",
       "    </tr>\n",
       "    <tr>\n",
       "      <th>9</th>\n",
       "      <td>5991569</td>\n",
       "      <td>clearcase relocation command</td>\n",
       "      <td>clearcase</td>\n",
       "    </tr>\n",
       "  </tbody>\n",
       "</table>\n",
       "</div>"
      ],
      "text/plain": [
       "   Unnamed: 0                                              title  \\\n",
       "0    11535818  angular 4 use the values from something compon...   \n",
       "1     2504283  why is the  this  keyword required to call an ...   \n",
       "2    11317072  how do i store information when i run the program   \n",
       "3    13210416                         if statement  doesn t work   \n",
       "4      939640  laravel 5 5 redirect to url with anchor and wi...   \n",
       "5    10370658                               multiline grid extjs   \n",
       "6     4083000           jade access images from parent directory   \n",
       "7     9656308     rails 3 superclass mismatch for class location   \n",
       "8     3134627  how can i get the number of lines of a text fi...   \n",
       "9     5991569                       clearcase relocation command   \n",
       "\n",
       "                                                tags  \n",
       "0                      javascript|angular|typescript  \n",
       "1                               c#|extension-methods  \n",
       "2                                             python  \n",
       "3                                             expect  \n",
       "4         laravel|laravel-5|laravel-5.5|laravel-form  \n",
       "5                 ruby-on-rails|extjs|grid|multiline  \n",
       "6  node.js|express|parent-child|pug|directory-str...  \n",
       "7                         ruby-on-rails-3|superclass  \n",
       "8                                 text|count|specman  \n",
       "9                                          clearcase  "
      ]
     },
     "execution_count": 2,
     "metadata": {},
     "output_type": "execute_result"
    }
   ],
   "source": [
    "df = pd.read_csv('../../../Data/stackoverflow/clean_questions.csv')\n",
    "df.head(10)"
   ]
  },
  {
   "cell_type": "code",
   "execution_count": 3,
   "metadata": {},
   "outputs": [
    {
     "data": {
      "text/plain": [
       "Unnamed: 0    0\n",
       "title         0\n",
       "tags          0\n",
       "dtype: int64"
      ]
     },
     "execution_count": 3,
     "metadata": {},
     "output_type": "execute_result"
    }
   ],
   "source": [
    "df.isnull().sum()"
   ]
  },
  {
   "cell_type": "markdown",
   "metadata": {},
   "source": [
    "### Save data as list and basic exploration"
   ]
  },
  {
   "cell_type": "code",
   "execution_count": 4,
   "metadata": {},
   "outputs": [],
   "source": [
    "questions = df['title'].tolist()\n",
    "tags = df['tags'].tolist()"
   ]
  },
  {
   "cell_type": "markdown",
   "metadata": {},
   "source": [
    "Find the number of words in the vocabulary"
   ]
  },
  {
   "cell_type": "code",
   "execution_count": 5,
   "metadata": {},
   "outputs": [
    {
     "name": "stdout",
     "output_type": "stream",
     "text": [
      "The total number of words in the data is:  2199799\n",
      "The number of words in the vocabulary is:  64963\n"
     ]
    }
   ],
   "source": [
    "print('The total number of words in the data is: ', sum([len(text.split()) for text in questions]))\n",
    "\n",
    "def tokenize_question(text):\n",
    "    return text.split()\n",
    "\n",
    "question_vect = CountVectorizer(tokenizer=tokenize_question)\n",
    "question_vect.fit(questions)\n",
    "\n",
    "print('The number of words in the vocabulary is: ', len(question_vect.vocabulary_))"
   ]
  },
  {
   "cell_type": "markdown",
   "metadata": {},
   "source": [
    "Find the number of tags"
   ]
  },
  {
   "cell_type": "code",
   "execution_count": 6,
   "metadata": {},
   "outputs": [
    {
     "name": "stdout",
     "output_type": "stream",
     "text": [
      "The total number of tags is:  26693\n"
     ]
    }
   ],
   "source": [
    "def tokenize_tags(text):\n",
    "    return text.split('|')\n",
    "\n",
    "tags_vect = CountVectorizer(tokenizer=tokenize_tags)\n",
    "tags_vect.fit(tags)\n",
    "\n",
    "print('The total number of tags is: ', len(tags_vect.vocabulary_))"
   ]
  },
  {
   "cell_type": "markdown",
   "metadata": {},
   "source": [
    "#### Save tag label as vectorized tokens.\n",
    "\n",
    "There are too many tags to predict. In our model we will only look at the top 100 tags and save the result"
   ]
  },
  {
   "cell_type": "code",
   "execution_count": 7,
   "metadata": {},
   "outputs": [
    {
     "name": "stdout",
     "output_type": "stream",
     "text": [
      "Number of tags:  100\n",
      "The list of tags with frequency is: \n",
      "{'.htaccess': 946, '.net': 4206, 'ajax': 2879, 'algorithm': 1354, 'amazon-web-services': 956, 'android': 17254, 'angular': 2011, 'angularjs': 3797, 'apache': 1238, 'api': 1013, 'arrays': 4078, 'asp.net': 5132, 'asp.net-mvc': 2709, 'azure': 857, 'bash': 1649, 'c': 4314, 'c#': 18826, 'c++': 8815, 'codeigniter': 901, 'css': 8427, 'css3': 1173, 'csv': 874, 'database': 2248, 'django': 2789, 'eclipse': 1702, 'entity-framework': 1175, 'excel': 2694, 'excel-vba': 1265, 'facebook': 1316, 'file': 875, 'firebase': 879, 'forms': 1380, 'function': 1092, 'git': 1601, 'google-maps': 897, 'hibernate': 1097, 'html': 11885, 'html5': 1707, 'image': 1362, 'ios': 8900, 'iphone': 3457, 'java': 21760, 'javascript': 25537, 'jquery': 14146, 'json': 3879, 'laravel': 1573, 'linq': 1070, 'linux': 2534, 'list': 1256, 'loops': 844, 'macos': 1301, 'matlab': 1227, 'maven': 940, 'mongodb': 1597, 'multithreading': 1687, 'mysql': 8131, 'node.js': 3724, 'objective-c': 4470, 'oracle': 1563, 'pandas': 1202, 'performance': 1249, 'perl': 874, 'php': 18663, 'postgresql': 1391, 'powershell': 862, 'python': 15632, 'python-2.7': 1279, 'python-3.x': 1858, 'qt': 978, 'r': 3848, 'reactjs': 1519, 'regex': 2968, 'rest': 1029, 'ruby': 3014, 'ruby-on-rails': 4561, 'ruby-on-rails-3': 879, 'scala': 1328, 'shell': 1033, 'spring': 2039, 'sql': 6952, 'sql-server': 3612, 'sqlite': 947, 'string': 2006, 'swift': 3144, 'swing': 1120, 'symfony': 882, 'twitter-bootstrap': 1442, 'typescript': 971, 'uitableview': 844, 'unit-testing': 862, 'vb.net': 1916, 'vba': 2000, 'visual-studio': 1221, 'web-services': 896, 'windows': 1921, 'winforms': 1218, 'wordpress': 2139, 'wpf': 2177, 'xcode': 1953, 'xml': 2687}\n"
     ]
    }
   ],
   "source": [
    "max_tags = 100\n",
    "\n",
    "def tokenize_tags(text):\n",
    "    return text.split('|')\n",
    "\n",
    "tags_vect = CountVectorizer(tokenizer=tokenize_tags, max_features=max_tags)\n",
    "tags = tags_vect.fit_transform(tags)\n",
    "tags = tags.toarray()\n",
    "print('Number of tags: ', len(tags_vect.vocabulary_))\n",
    "\n",
    "tags_token = tags_vect.get_feature_names()\n",
    "tag_frequency = tags.sum(axis=0)\n",
    "print('The list of tags with frequency is: ')\n",
    "print(dict(zip(tags_token, tag_frequency)))"
   ]
  },
  {
   "cell_type": "markdown",
   "metadata": {},
   "source": [
    "Histogram of number of tags in each question"
   ]
  },
  {
   "cell_type": "code",
   "execution_count": 8,
   "metadata": {},
   "outputs": [
    {
     "data": {
      "text/plain": [
       "Text(0,0.5,'Number of questions')"
      ]
     },
     "execution_count": 8,
     "metadata": {},
     "output_type": "execute_result"
    },
    {
     "data": {
      "image/png": "[encoded data removed]",
      "text/plain": [
       "<Figure size 432x288 with 1 Axes>"
      ]
     },
     "metadata": {
      "needs_background": "light"
     },
     "output_type": "display_data"
    }
   ],
   "source": [
    "plt.hist(tags.sum(axis=1))\n",
    "plt.xlabel('Number of tags for a question')\n",
    "plt.ylabel('Number of questions')"
   ]
  },
  {
   "cell_type": "markdown",
   "metadata": {},
   "source": [
    "### Split data into train, validation and test set"
   ]
  },
  {
   "cell_type": "code",
   "execution_count": 9,
   "metadata": {},
   "outputs": [],
   "source": [
    "X_train, X_test, y_train, y_test = train_test_split(questions, tags, \n",
    "                                                    test_size=0.2, \n",
    "                                                    random_state=random_state)\n",
    "\n",
    "X_val, X_test, y_val, y_test = train_test_split(X_test, y_test, \n",
    "                                                    test_size=0.5, \n",
    "                                                    random_state=random_state)"
   ]
  },
  {
   "cell_type": "markdown",
   "metadata": {},
   "source": [
    "### Evaluation metrics"
   ]
  },
  {
   "cell_type": "code",
   "execution_count": 10,
   "metadata": {},
   "outputs": [],
   "source": [
    "def eval_metrics(y_test, y_predicted, print_metrics=True):\n",
    "    \n",
    "    accuracy = accuracy_score(y_test, y_predicted)\n",
    "    precision = precision_score(y_test, y_predicted, average='weighted')\n",
    "    recall = recall_score(y_test, y_predicted, average='weighted')\n",
    "    f1 = f1_score(y_test, y_predicted, average='weighted')\n",
    "    \n",
    "    if print_metrics:\n",
    "        print(\"f1: %.3f - precision: %.3f - recall: %.3f - accuracy: %.3f\" % (\n",
    "            f1, precision, recall, accuracy))\n",
    "    return accuracy, precision, recall, f1"
   ]
  },
  {
   "cell_type": "markdown",
   "metadata": {},
   "source": [
    "# Simple first order model: Bag of words with logistic regression\n"
   ]
  },
  {
   "cell_type": "markdown",
   "metadata": {},
   "source": [
    "### Bag of words embedding for quesitons\n",
    "\n",
    "Remove common words and words appearing very less number of times from the corpus"
   ]
  },
  {
   "cell_type": "code",
   "execution_count": 29,
   "metadata": {},
   "outputs": [
    {
     "name": "stdout",
     "output_type": "stream",
     "text": [
      "The number of words in the vocabulary is:  15909\n"
     ]
    }
   ],
   "source": [
    "def tokenize_question(text):\n",
    "    return text.split()\n",
    "\n",
    "bag_vect = CountVectorizer(tokenizer=tokenize_question,\n",
    "                               stop_words='english',\n",
    "                               min_df=3,\n",
    "                               max_df=0.5)\n",
    "\n",
    "X_train_bag = bag_vect.fit_transform(X_train)\n",
    "X_test_bag = bag_vect.transform(X_test)\n",
    "print('The number of words in the vocabulary is: ', len(bag_vect.vocabulary_))"
   ]
  },
  {
   "cell_type": "markdown",
   "metadata": {},
   "source": [
    "### Logistic regression with binary relevance\n",
    "Since this is a multi-label classificaiton, we will use binary relevance on top of logistical regression. This basically splits each label as a seperate classification. "
   ]
  },
  {
   "cell_type": "code",
   "execution_count": 30,
   "metadata": {},
   "outputs": [
    {
     "name": "stdout",
     "output_type": "stream",
     "text": [
      "Train score\n",
      "f1: 0.583 - precision: 0.824 - recall: 0.462 - accuracy: 0.414\n",
      "Test score\n",
      "f1: 0.529 - precision: 0.747 - recall: 0.418 - accuracy: 0.360\n",
      "CPU times: user 2min 58s, sys: 1min 50s, total: 4min 49s\n",
      "Wall time: 1min 15s\n"
     ]
    }
   ],
   "source": [
    "%%time\n",
    "bag_log_clf = OneVsRestClassifier(LogisticRegression())\n",
    "\n",
    "bag_log_clf.fit(X_train_bag, y_train)\n",
    "\n",
    "print('Train score')\n",
    "y_train_bag_predict = bag_log_clf.predict(X_train_bag)\n",
    "eval_metrics(y_train, y_train_bag_predict)\n",
    "\n",
    "print('Test score')\n",
    "y_test_bag_predict = bag_log_clf.predict(X_test_bag)\n",
    "eval_metrics(y_test, y_test_bag_predict)"
   ]
  },
  {
   "cell_type": "markdown",
   "metadata": {},
   "source": [
    "### Important words"
   ]
  },
  {
   "cell_type": "code",
   "execution_count": 31,
   "metadata": {},
   "outputs": [
    {
     "data": {
      "text/html": [
       "<div>\n",
       "<style scoped>\n",
       "    .dataframe tbody tr th:only-of-type {\n",
       "        vertical-align: middle;\n",
       "    }\n",
       "\n",
       "    .dataframe tbody tr th {\n",
       "        vertical-align: top;\n",
       "    }\n",
       "\n",
       "    .dataframe thead th {\n",
       "        text-align: right;\n",
       "    }\n",
       "</style>\n",
       "<table border=\"1\" class=\"dataframe\">\n",
       "  <thead>\n",
       "    <tr style=\"text-align: right;\">\n",
       "      <th></th>\n",
       "      <th>feature</th>\n",
       "      <th>importances</th>\n",
       "      <th>cum_imp</th>\n",
       "    </tr>\n",
       "  </thead>\n",
       "  <tbody>\n",
       "    <tr>\n",
       "      <th>0</th>\n",
       "      <td>android</td>\n",
       "      <td>1.000000</td>\n",
       "      <td>0.002461</td>\n",
       "    </tr>\n",
       "    <tr>\n",
       "      <th>1</th>\n",
       "      <td>jquery</td>\n",
       "      <td>0.902750</td>\n",
       "      <td>0.004682</td>\n",
       "    </tr>\n",
       "    <tr>\n",
       "      <th>2</th>\n",
       "      <td>python</td>\n",
       "      <td>0.863801</td>\n",
       "      <td>0.006808</td>\n",
       "    </tr>\n",
       "    <tr>\n",
       "      <th>3</th>\n",
       "      <td>c++</td>\n",
       "      <td>0.801715</td>\n",
       "      <td>0.008781</td>\n",
       "    </tr>\n",
       "    <tr>\n",
       "      <th>4</th>\n",
       "      <td>r</td>\n",
       "      <td>0.789941</td>\n",
       "      <td>0.010725</td>\n",
       "    </tr>\n",
       "    <tr>\n",
       "      <th>5</th>\n",
       "      <td>java</td>\n",
       "      <td>0.786092</td>\n",
       "      <td>0.012659</td>\n",
       "    </tr>\n",
       "    <tr>\n",
       "      <th>6</th>\n",
       "      <td>spring</td>\n",
       "      <td>0.745138</td>\n",
       "      <td>0.014493</td>\n",
       "    </tr>\n",
       "    <tr>\n",
       "      <th>7</th>\n",
       "      <td>php</td>\n",
       "      <td>0.717334</td>\n",
       "      <td>0.016258</td>\n",
       "    </tr>\n",
       "    <tr>\n",
       "      <th>8</th>\n",
       "      <td>c#</td>\n",
       "      <td>0.713581</td>\n",
       "      <td>0.018014</td>\n",
       "    </tr>\n",
       "    <tr>\n",
       "      <th>9</th>\n",
       "      <td>django</td>\n",
       "      <td>0.702861</td>\n",
       "      <td>0.019744</td>\n",
       "    </tr>\n",
       "    <tr>\n",
       "      <th>10</th>\n",
       "      <td>ios</td>\n",
       "      <td>0.685980</td>\n",
       "      <td>0.021432</td>\n",
       "    </tr>\n",
       "    <tr>\n",
       "      <th>11</th>\n",
       "      <td>rails</td>\n",
       "      <td>0.675560</td>\n",
       "      <td>0.023094</td>\n",
       "    </tr>\n",
       "    <tr>\n",
       "      <th>12</th>\n",
       "      <td>swift</td>\n",
       "      <td>0.651565</td>\n",
       "      <td>0.024698</td>\n",
       "    </tr>\n",
       "    <tr>\n",
       "      <th>13</th>\n",
       "      <td>mysql</td>\n",
       "      <td>0.642900</td>\n",
       "      <td>0.026280</td>\n",
       "    </tr>\n",
       "    <tr>\n",
       "      <th>14</th>\n",
       "      <td>wpf</td>\n",
       "      <td>0.641152</td>\n",
       "      <td>0.027857</td>\n",
       "    </tr>\n",
       "    <tr>\n",
       "      <th>15</th>\n",
       "      <td>javascript</td>\n",
       "      <td>0.638010</td>\n",
       "      <td>0.029427</td>\n",
       "    </tr>\n",
       "    <tr>\n",
       "      <th>16</th>\n",
       "      <td>angular</td>\n",
       "      <td>0.631981</td>\n",
       "      <td>0.030983</td>\n",
       "    </tr>\n",
       "    <tr>\n",
       "      <th>17</th>\n",
       "      <td>sql</td>\n",
       "      <td>0.628529</td>\n",
       "      <td>0.032529</td>\n",
       "    </tr>\n",
       "    <tr>\n",
       "      <th>18</th>\n",
       "      <td>laravel</td>\n",
       "      <td>0.616522</td>\n",
       "      <td>0.034047</td>\n",
       "    </tr>\n",
       "    <tr>\n",
       "      <th>19</th>\n",
       "      <td>css</td>\n",
       "      <td>0.592400</td>\n",
       "      <td>0.035504</td>\n",
       "    </tr>\n",
       "  </tbody>\n",
       "</table>\n",
       "</div>"
      ],
      "text/plain": [
       "       feature  importances   cum_imp\n",
       "0      android     1.000000  0.002461\n",
       "1       jquery     0.902750  0.004682\n",
       "2       python     0.863801  0.006808\n",
       "3          c++     0.801715  0.008781\n",
       "4            r     0.789941  0.010725\n",
       "5         java     0.786092  0.012659\n",
       "6       spring     0.745138  0.014493\n",
       "7          php     0.717334  0.016258\n",
       "8           c#     0.713581  0.018014\n",
       "9       django     0.702861  0.019744\n",
       "10         ios     0.685980  0.021432\n",
       "11       rails     0.675560  0.023094\n",
       "12       swift     0.651565  0.024698\n",
       "13       mysql     0.642900  0.026280\n",
       "14         wpf     0.641152  0.027857\n",
       "15  javascript     0.638010  0.029427\n",
       "16     angular     0.631981  0.030983\n",
       "17         sql     0.628529  0.032529\n",
       "18     laravel     0.616522  0.034047\n",
       "19         css     0.592400  0.035504"
      ]
     },
     "execution_count": 31,
     "metadata": {},
     "output_type": "execute_result"
    }
   ],
   "source": [
    "importances = importances = bag_log_clf.estimators_[0].coef_[0]\n",
    "for i in range(1,len(bag_log_clf.estimators_)):\n",
    "    importances += bag_log_clf.estimators_[i].coef_[0]\n",
    "\n",
    "importances = importances/sum(importances)\n",
    "    \n",
    "feature_imps = {'importances':importances, 'feature':bag_vect.get_feature_names()}\n",
    "feature_imps = pd.DataFrame(feature_imps)\n",
    "feature_imps = feature_imps.sort_values('importances', ascending=False)\n",
    "# Normalize importance and add cumulative importance\n",
    "feature_imps['cum_imp'] = feature_imps['importances'].cumsum()\n",
    "feature_imps['importances'] = feature_imps['importances']/feature_imps['importances'].max()\n",
    "feature_imps = feature_imps.reset_index(drop=True)\n",
    "feature_imps['no_features'] = feature_imps.index + 1\n",
    "feature_imps[['feature', 'importances', 'cum_imp']].head(20)"
   ]
  },
  {
   "cell_type": "markdown",
   "metadata": {},
   "source": [
    "## TFIDF with logistic regression and binary relevance"
   ]
  },
  {
   "cell_type": "markdown",
   "metadata": {},
   "source": [
    "### TFIDF on bag of words embedding for quesitons"
   ]
  },
  {
   "cell_type": "code",
   "execution_count": 26,
   "metadata": {},
   "outputs": [
    {
     "name": "stdout",
     "output_type": "stream",
     "text": [
      "The number of words in the vocabulary is:  12965\n"
     ]
    }
   ],
   "source": [
    "def tokenize_question(text):\n",
    "    return text.split()\n",
    "\n",
    "tfidf_vect = TfidfVectorizer(tokenizer=tokenize_question,\n",
    "                               stop_words='english',\n",
    "                               min_df=4,\n",
    "                               max_df=0.5)\n",
    "\n",
    "X_train_tfidf = tfidf_vect.fit_transform(X_train)\n",
    "X_test_tfidf = tfidf_vect.transform(X_test)\n",
    "print('The number of words in the vocabulary is: ', len(tfidf_vect.vocabulary_))"
   ]
  },
  {
   "cell_type": "markdown",
   "metadata": {},
   "source": [
    "### Logistic regression with binary relevance"
   ]
  },
  {
   "cell_type": "code",
   "execution_count": 27,
   "metadata": {},
   "outputs": [
    {
     "name": "stdout",
     "output_type": "stream",
     "text": [
      "Train score\n",
      "f1: 0.522 - precision: 0.806 - recall: 0.397 - accuracy: 0.372\n",
      "Test score\n",
      "f1: 0.501 - precision: 0.776 - recall: 0.379 - accuracy: 0.351\n",
      "CPU times: user 3min 19s, sys: 2.89 s, total: 3min 22s\n",
      "Wall time: 58 s\n"
     ]
    }
   ],
   "source": [
    "%%time\n",
    "tfidf_log_clf = OneVsRestClassifier(LogisticRegression())\n",
    "\n",
    "tfidf_log_clf.fit(X_train_tfidf, y_train)\n",
    "\n",
    "print('Train score')\n",
    "y_train_tfidf_predict = tfidf_log_clf.predict(X_train_tfidf)\n",
    "eval_metrics(y_train, y_train_tfidf_predict)\n",
    "\n",
    "print('Test score')\n",
    "y_test_tfidf_predict = tfidf_log_clf.predict(X_test_tfidf)\n",
    "eval_metrics(y_test, y_test_tfidf_predict)"
   ]
  },
  {
   "cell_type": "markdown",
   "metadata": {},
   "source": [
    "### Importance words"
   ]
  },
  {
   "cell_type": "code",
   "execution_count": 28,
   "metadata": {},
   "outputs": [
    {
     "data": {
      "text/html": [
       "<div>\n",
       "<style scoped>\n",
       "    .dataframe tbody tr th:only-of-type {\n",
       "        vertical-align: middle;\n",
       "    }\n",
       "\n",
       "    .dataframe tbody tr th {\n",
       "        vertical-align: top;\n",
       "    }\n",
       "\n",
       "    .dataframe thead th {\n",
       "        text-align: right;\n",
       "    }\n",
       "</style>\n",
       "<table border=\"1\" class=\"dataframe\">\n",
       "  <thead>\n",
       "    <tr style=\"text-align: right;\">\n",
       "      <th></th>\n",
       "      <th>feature</th>\n",
       "      <th>importances</th>\n",
       "      <th>cum_imp</th>\n",
       "    </tr>\n",
       "  </thead>\n",
       "  <tbody>\n",
       "    <tr>\n",
       "      <th>0</th>\n",
       "      <td>android</td>\n",
       "      <td>1.000000</td>\n",
       "      <td>0.064203</td>\n",
       "    </tr>\n",
       "    <tr>\n",
       "      <th>1</th>\n",
       "      <td>jquery</td>\n",
       "      <td>0.774219</td>\n",
       "      <td>0.113910</td>\n",
       "    </tr>\n",
       "    <tr>\n",
       "      <th>2</th>\n",
       "      <td>python</td>\n",
       "      <td>0.750050</td>\n",
       "      <td>0.162066</td>\n",
       "    </tr>\n",
       "    <tr>\n",
       "      <th>3</th>\n",
       "      <td>java</td>\n",
       "      <td>0.735756</td>\n",
       "      <td>0.209303</td>\n",
       "    </tr>\n",
       "    <tr>\n",
       "      <th>4</th>\n",
       "      <td>php</td>\n",
       "      <td>0.650266</td>\n",
       "      <td>0.251052</td>\n",
       "    </tr>\n",
       "    <tr>\n",
       "      <th>5</th>\n",
       "      <td>javascript</td>\n",
       "      <td>0.583658</td>\n",
       "      <td>0.288525</td>\n",
       "    </tr>\n",
       "    <tr>\n",
       "      <th>6</th>\n",
       "      <td>c++</td>\n",
       "      <td>0.536687</td>\n",
       "      <td>0.322982</td>\n",
       "    </tr>\n",
       "    <tr>\n",
       "      <th>7</th>\n",
       "      <td>c#</td>\n",
       "      <td>0.536018</td>\n",
       "      <td>0.357396</td>\n",
       "    </tr>\n",
       "    <tr>\n",
       "      <th>8</th>\n",
       "      <td>mysql</td>\n",
       "      <td>0.534831</td>\n",
       "      <td>0.391733</td>\n",
       "    </tr>\n",
       "    <tr>\n",
       "      <th>9</th>\n",
       "      <td>sql</td>\n",
       "      <td>0.526053</td>\n",
       "      <td>0.425508</td>\n",
       "    </tr>\n",
       "    <tr>\n",
       "      <th>10</th>\n",
       "      <td>r</td>\n",
       "      <td>0.520620</td>\n",
       "      <td>0.458933</td>\n",
       "    </tr>\n",
       "    <tr>\n",
       "      <th>11</th>\n",
       "      <td>spring</td>\n",
       "      <td>0.424142</td>\n",
       "      <td>0.486164</td>\n",
       "    </tr>\n",
       "    <tr>\n",
       "      <th>12</th>\n",
       "      <td>rails</td>\n",
       "      <td>0.422590</td>\n",
       "      <td>0.513296</td>\n",
       "    </tr>\n",
       "    <tr>\n",
       "      <th>13</th>\n",
       "      <td>ios</td>\n",
       "      <td>0.420237</td>\n",
       "      <td>0.540276</td>\n",
       "    </tr>\n",
       "    <tr>\n",
       "      <th>14</th>\n",
       "      <td>django</td>\n",
       "      <td>0.408761</td>\n",
       "      <td>0.566520</td>\n",
       "    </tr>\n",
       "    <tr>\n",
       "      <th>15</th>\n",
       "      <td>js</td>\n",
       "      <td>0.405008</td>\n",
       "      <td>0.592522</td>\n",
       "    </tr>\n",
       "    <tr>\n",
       "      <th>16</th>\n",
       "      <td>angular</td>\n",
       "      <td>0.387258</td>\n",
       "      <td>0.617385</td>\n",
       "    </tr>\n",
       "    <tr>\n",
       "      <th>17</th>\n",
       "      <td>net</td>\n",
       "      <td>0.372705</td>\n",
       "      <td>0.641314</td>\n",
       "    </tr>\n",
       "    <tr>\n",
       "      <th>18</th>\n",
       "      <td>css</td>\n",
       "      <td>0.369706</td>\n",
       "      <td>0.665050</td>\n",
       "    </tr>\n",
       "    <tr>\n",
       "      <th>19</th>\n",
       "      <td>google</td>\n",
       "      <td>0.363602</td>\n",
       "      <td>0.688395</td>\n",
       "    </tr>\n",
       "  </tbody>\n",
       "</table>\n",
       "</div>"
      ],
      "text/plain": [
       "       feature  importances   cum_imp\n",
       "0      android     1.000000  0.064203\n",
       "1       jquery     0.774219  0.113910\n",
       "2       python     0.750050  0.162066\n",
       "3         java     0.735756  0.209303\n",
       "4          php     0.650266  0.251052\n",
       "5   javascript     0.583658  0.288525\n",
       "6          c++     0.536687  0.322982\n",
       "7           c#     0.536018  0.357396\n",
       "8        mysql     0.534831  0.391733\n",
       "9          sql     0.526053  0.425508\n",
       "10           r     0.520620  0.458933\n",
       "11      spring     0.424142  0.486164\n",
       "12       rails     0.422590  0.513296\n",
       "13         ios     0.420237  0.540276\n",
       "14      django     0.408761  0.566520\n",
       "15          js     0.405008  0.592522\n",
       "16     angular     0.387258  0.617385\n",
       "17         net     0.372705  0.641314\n",
       "18         css     0.369706  0.665050\n",
       "19      google     0.363602  0.688395"
      ]
     },
     "execution_count": 28,
     "metadata": {},
     "output_type": "execute_result"
    }
   ],
   "source": [
    "importances = importances = tfidf_log_clf.estimators_[0].coef_[0]\n",
    "for i in range(1,len(tfidf_log_clf.estimators_)):\n",
    "    importances += tfidf_log_clf.estimators_[i].coef_[0]\n",
    "\n",
    "importances = importances/sum(importances)\n",
    "    \n",
    "feature_imps = {'importances':importances, 'feature':tfidf_vect.get_feature_names()}\n",
    "feature_imps = pd.DataFrame(feature_imps)\n",
    "feature_imps = feature_imps.sort_values('importances', ascending=False)\n",
    "# Normalize importance and add cumulative importance\n",
    "feature_imps['cum_imp'] = feature_imps['importances'].cumsum()\n",
    "feature_imps['importances'] = feature_imps['importances']/feature_imps['importances'].max()\n",
    "feature_imps = feature_imps.reset_index(drop=True)\n",
    "feature_imps['no_features'] = feature_imps.index + 1\n",
    "feature_imps[['feature', 'importances', 'cum_imp']].head(20)"
   ]
  },
  {
   "cell_type": "markdown",
   "metadata": {},
   "source": [
    "# Convolutional sentence classification model"
   ]
  },
  {
   "cell_type": "markdown",
   "metadata": {},
   "source": [
    "## Load Word2Vec"
   ]
  },
  {
   "cell_type": "code",
   "execution_count": 11,
   "metadata": {},
   "outputs": [],
   "source": [
    "import gensim\n",
    "\n",
    "word2vec_path = '../../../Data/stackoverflow/GoogleNews-vectors-negative300.bin.gz'\n",
    "word2vec = gensim.models.KeyedVectors.load_word2vec_format(word2vec_path, binary=True)"
   ]
  },
  {
   "cell_type": "markdown",
   "metadata": {},
   "source": [
    "### Hyerparameters related to sentece creation"
   ]
  },
  {
   "cell_type": "code",
   "execution_count": 20,
   "metadata": {},
   "outputs": [],
   "source": [
    "max_seq_length = 35\n",
    "vocab_size = 37000\n",
    "embedding_size = 300"
   ]
  },
  {
   "cell_type": "markdown",
   "metadata": {},
   "source": [
    "### Text preprocessing"
   ]
  },
  {
   "cell_type": "code",
   "execution_count": 21,
   "metadata": {},
   "outputs": [],
   "source": [
    "import tensorflow as tf\n",
    "from tensorflow.keras.preprocessing.text import Tokenizer\n",
    "from tensorflow.keras.preprocessing.sequence import pad_sequences"
   ]
  },
  {
   "cell_type": "code",
   "execution_count": 22,
   "metadata": {},
   "outputs": [
    {
     "name": "stdout",
     "output_type": "stream",
     "text": [
      "(37001, 300)\n"
     ]
    }
   ],
   "source": [
    "tokenizer = Tokenizer(lower=True, split=' ', filters='')\n",
    "tokenizer.fit_on_texts(X_train)\n",
    "tokenizer.num_words = vocab_size\n",
    "\n",
    "seq_train = tokenizer.texts_to_sequences(X_train)\n",
    "seq_test = tokenizer.texts_to_sequences(X_test)\n",
    "seq_val = tokenizer.texts_to_sequences(X_val)\n",
    "\n",
    "seq_length = [len(x) for x in seq_train]\n",
    "max_seq_length = max(seq_length)\n",
    "\n",
    "seq_train = pad_sequences(seq_train, maxlen=max_seq_length, padding='post', truncating='post')\n",
    "seq_test = pad_sequences(seq_test, maxlen=max_seq_length, padding='post', truncating='post')\n",
    "seq_val = pad_sequences(seq_val, maxlen=max_seq_length, padding='post', truncating='post')\n",
    "\n",
    "embedding_weights = np.zeros((vocab_size+1, embedding_size))\n",
    "word2vec_counter, randword_counter = 0, 0\n",
    "for word, index in tokenizer.word_index.items():\n",
    "    if index > vocab_size:\n",
    "        break\n",
    "        \n",
    "    if word in word2vec:\n",
    "        embedding_weights[index,:] = word2vec[word]\n",
    "        word2vec_counter += 1\n",
    "    else:\n",
    "        embedding_weights[index,:] = np.random.normal(0, 0.15, embedding_size)\n",
    "        randword_counter += 1\n",
    "embedding_weights[0,:] = np.random.normal(0, 0.15, embedding_size)\n",
    "print(embedding_weights.shape)"
   ]
  },
  {
   "cell_type": "code",
   "execution_count": 23,
   "metadata": {},
   "outputs": [
    {
     "data": {
      "text/plain": [
       "Text(0,0.5,'number')"
      ]
     },
     "execution_count": 23,
     "metadata": {},
     "output_type": "execute_result"
    },
    {
     "data": {
      "image/png": "[encoded data removed]",
      "text/plain": [
       "<Figure size 432x288 with 1 Axes>"
      ]
     },
     "metadata": {
      "needs_background": "light"
     },
     "output_type": "display_data"
    }
   ],
   "source": [
    "plt.hist(seq_length, bins=50)\n",
    "plt.xlabel('Length of sequence')\n",
    "plt.ylabel('number')"
   ]
  },
  {
   "cell_type": "code",
   "execution_count": 24,
   "metadata": {},
   "outputs": [],
   "source": [
    "from model2 import ConvText\n",
    "conv_model = ConvText(max_seq_length, max_tags, embedding_weights)\n"
   ]
  },
  {
   "cell_type": "code",
   "execution_count": 25,
   "metadata": {},
   "outputs": [
    {
     "name": "stdout",
     "output_type": "stream",
     "text": [
      "Epoch 1/10\n",
      "200000/200000 [==============================] - 296s 1ms/step - Loss: 0.0579\n",
      "Training Evaluation Metrics:\n",
      "F1_score: 0.1795 - Precision: 0.4142 - Recall: 0.1191 - Acc: 0.2161\n",
      "Validation evaluation metrics:\n",
      "F1_score: 0.3493 - Precision: 0.5957 - Recall: 0.2632 - Acc: 0.2982 - Loss: 0.0395\n",
      "Epoch 2/10\n",
      "200000/200000 [==============================] - 310s 2ms/step - Loss: 0.0399\n",
      "Training Evaluation Metrics:\n",
      "F1_score: 0.3902 - Precision: 0.6505 - Recall: 0.2971 - Acc: 0.3029\n",
      "Validation evaluation metrics:\n",
      "F1_score: 0.4722 - Precision: 0.6729 - Recall: 0.3801 - Acc: 0.3509 - Loss: 0.0353\n",
      "Epoch 3/10\n",
      "200000/200000 [==============================] - 292s 1ms/step - Loss: 0.0359\n",
      "Training Evaluation Metrics:\n",
      "F1_score: 0.4584 - Precision: 0.6951 - Recall: 0.3618 - Acc: 0.3391\n",
      "Validation evaluation metrics:\n",
      "F1_score: 0.5022 - Precision: 0.6922 - Recall: 0.4070 - Acc: 0.3638 - Loss: 0.0343\n",
      "Epoch 4/10\n",
      "200000/200000 [==============================] - 294s 1ms/step - Loss: 0.0336\n",
      "Training Evaluation Metrics:\n",
      "F1_score: 0.4949 - Precision: 0.7094 - Recall: 0.3983 - Acc: 0.3625\n",
      "Validation evaluation metrics:\n",
      "F1_score: 0.5222 - Precision: 0.7058 - Recall: 0.4328 - Acc: 0.3690 - Loss: 0.0340\n",
      "Epoch 5/10\n",
      "200000/200000 [==============================] - 298s 1ms/step - Loss: 0.0318\n",
      "Training Evaluation Metrics:\n",
      "F1_score: 0.5235 - Precision: 0.7234 - Recall: 0.4286 - Acc: 0.3823\n",
      "Validation evaluation metrics:\n",
      "F1_score: 0.5267 - Precision: 0.7057 - Recall: 0.4403 - Acc: 0.3723 - Loss: 0.0343\n",
      "Epoch 6/10\n",
      "200000/200000 [==============================] - 300s 2ms/step - Loss: 0.0302\n",
      "Training Evaluation Metrics:\n",
      "F1_score: 0.5457 - Precision: 0.7347 - Recall: 0.4524 - Acc: 0.3985\n",
      "Validation evaluation metrics:\n",
      "F1_score: 0.5346 - Precision: 0.7042 - Recall: 0.4501 - Acc: 0.3731 - Loss: 0.0347\n",
      "Epoch 7/10\n",
      "200000/200000 [==============================] - 298s 1ms/step - Loss: 0.0289\n",
      "Training Evaluation Metrics:\n",
      "F1_score: 0.5641 - Precision: 0.7488 - Recall: 0.4731 - Acc: 0.4133\n",
      "Validation evaluation metrics:\n",
      "F1_score: 0.5303 - Precision: 0.7093 - Recall: 0.4442 - Acc: 0.3718 - Loss: 0.0354\n",
      "Epoch 8/10\n",
      "200000/200000 [==============================] - 308s 2ms/step - Loss: 0.0278\n",
      "Training Evaluation Metrics:\n",
      "F1_score: 0.5818 - Precision: 0.7590 - Recall: 0.4930 - Acc: 0.4285\n",
      "Validation evaluation metrics:\n",
      "F1_score: 0.5363 - Precision: 0.6988 - Recall: 0.4530 - Acc: 0.3713 - Loss: 0.0359\n",
      "Epoch 9/10\n",
      "200000/200000 [==============================] - 302s 2ms/step - Loss: 0.0268\n",
      "Training Evaluation Metrics:\n",
      "F1_score: 0.5975 - Precision: 0.7626 - Recall: 0.5108 - Acc: 0.4419\n",
      "Validation evaluation metrics:\n",
      "F1_score: 0.5415 - Precision: 0.6916 - Recall: 0.4633 - Acc: 0.3692 - Loss: 0.0370\n",
      "Epoch 10/10\n",
      "200000/200000 [==============================] - 316s 2ms/step - Loss: 0.0259\n",
      "Training Evaluation Metrics:\n",
      "F1_score: 0.6104 - Precision: 0.7682 - Recall: 0.5257 - Acc: 0.4537\n",
      "Validation evaluation metrics:\n",
      "F1_score: 0.5331 - Precision: 0.7020 - Recall: 0.4474 - Acc: 0.3684 - Loss: 0.0378\n"
     ]
    }
   ],
   "source": [
    "conv_model.fit(x=seq_train, y=y_train, batch_size=100, val_x=seq_val, val_y=y_val, epochs=10)"
   ]
  },
  {
   "cell_type": "code",
   "execution_count": null,
   "metadata": {},
   "outputs": [],
   "source": []
  }
 ],
 "metadata": {
  "kernelspec": {
   "display_name": "Python 3",
   "language": "python",
   "name": "python3"
  },
  "language_info": {
   "codemirror_mode": {
    "name": "ipython",
    "version": 3
   },
   "file_extension": ".py",
   "mimetype": "text/x-python",
   "name": "python",
   "nbconvert_exporter": "python",
   "pygments_lexer": "ipython3",
   "version": "3.6.6"
  }
 },
 "nbformat": 4,
 "nbformat_minor": 2
}
