{
 "cells": [
  {
   "cell_type": "markdown",
   "metadata": {},
   "source": [
    "## Stackoverflow tag recommendation"
   ]
  },
  {
   "cell_type": "code",
   "execution_count": 1,
   "metadata": {},
   "outputs": [],
   "source": [
    "import numpy as np\n",
    "import pandas as pd\n",
    "import matplotlib.pyplot as plt\n",
    "import time\n",
    "import re\n",
    "import warnings; warnings.simplefilter('ignore')\n",
    "from sklearn.utils import shuffle\n",
    "from sklearn.feature_extraction.text import CountVectorizer, TfidfVectorizer\n",
    "from sklearn.model_selection import train_test_split\n",
    "from sklearn.utils.class_weight import compute_sample_weight\n",
    "from sklearn.linear_model import LogisticRegression\n",
    "from sklearn.metrics import accuracy_score, precision_score, recall_score, f1_score\n",
    "from sklearn.multiclass import OneVsRestClassifier\n",
    "\n",
    "random_state = 123"
   ]
  },
  {
   "cell_type": "markdown",
   "metadata": {},
   "source": [
    "## Question Data\n",
    "\n",
    "Stackoverflow question data downloaded from Google BigQuery and aggregated into a single csv file. "
   ]
  },
  {
   "cell_type": "code",
   "execution_count": 2,
   "metadata": {},
   "outputs": [
    {
     "data": {
      "text/html": [
       "<div>\n",
       "<style scoped>\n",
       "    .dataframe tbody tr th:only-of-type {\n",
       "        vertical-align: middle;\n",
       "    }\n",
       "\n",
       "    .dataframe tbody tr th {\n",
       "        vertical-align: top;\n",
       "    }\n",
       "\n",
       "    .dataframe thead th {\n",
       "        text-align: right;\n",
       "    }\n",
       "</style>\n",
       "<table border=\"1\" class=\"dataframe\">\n",
       "  <thead>\n",
       "    <tr style=\"text-align: right;\">\n",
       "      <th></th>\n",
       "      <th>title</th>\n",
       "      <th>tags</th>\n",
       "    </tr>\n",
       "  </thead>\n",
       "  <tbody>\n",
       "    <tr>\n",
       "      <th>0</th>\n",
       "      <td>Issue with the webpack-bundler</td>\n",
       "      <td>webpack</td>\n",
       "    </tr>\n",
       "    <tr>\n",
       "      <th>1</th>\n",
       "      <td>Reducing queries on Firebase</td>\n",
       "      <td>javascript|firebase</td>\n",
       "    </tr>\n",
       "    <tr>\n",
       "      <th>2</th>\n",
       "      <td>Passing a Matrix from C++ to MATLAB</td>\n",
       "      <td>c++|matlab|matrix</td>\n",
       "    </tr>\n",
       "    <tr>\n",
       "      <th>3</th>\n",
       "      <td>window.onload vs. body.onload vs. document.onr...</td>\n",
       "      <td>javascript</td>\n",
       "    </tr>\n",
       "    <tr>\n",
       "      <th>4</th>\n",
       "      <td>How to display two fragments vertically (maste...</td>\n",
       "      <td>android|android-layout|listview|android-fragments</td>\n",
       "    </tr>\n",
       "    <tr>\n",
       "      <th>5</th>\n",
       "      <td>How to pass data from servlet to JSP without f...</td>\n",
       "      <td>java|jsp|servlets|jstl</td>\n",
       "    </tr>\n",
       "    <tr>\n",
       "      <th>6</th>\n",
       "      <td>collection from customer model is not retrievi...</td>\n",
       "      <td>collections|model|magento2</td>\n",
       "    </tr>\n",
       "    <tr>\n",
       "      <th>7</th>\n",
       "      <td>I need to generate and display a random number...</td>\n",
       "      <td>java|android|random</td>\n",
       "    </tr>\n",
       "    <tr>\n",
       "      <th>8</th>\n",
       "      <td>Cannot resolve bundle style</td>\n",
       "      <td>python|django|webpack</td>\n",
       "    </tr>\n",
       "    <tr>\n",
       "      <th>9</th>\n",
       "      <td>Python run set.intersection with set of sets a...</td>\n",
       "      <td>python-2.7</td>\n",
       "    </tr>\n",
       "  </tbody>\n",
       "</table>\n",
       "</div>"
      ],
      "text/plain": [
       "                                               title  \\\n",
       "0                     Issue with the webpack-bundler   \n",
       "1                       Reducing queries on Firebase   \n",
       "2                Passing a Matrix from C++ to MATLAB   \n",
       "3  window.onload vs. body.onload vs. document.onr...   \n",
       "4  How to display two fragments vertically (maste...   \n",
       "5  How to pass data from servlet to JSP without f...   \n",
       "6  collection from customer model is not retrievi...   \n",
       "7  I need to generate and display a random number...   \n",
       "8                        Cannot resolve bundle style   \n",
       "9  Python run set.intersection with set of sets a...   \n",
       "\n",
       "                                                tags  \n",
       "0                                            webpack  \n",
       "1                                javascript|firebase  \n",
       "2                                  c++|matlab|matrix  \n",
       "3                                         javascript  \n",
       "4  android|android-layout|listview|android-fragments  \n",
       "5                             java|jsp|servlets|jstl  \n",
       "6                         collections|model|magento2  \n",
       "7                                java|android|random  \n",
       "8                              python|django|webpack  \n",
       "9                                         python-2.7  "
      ]
     },
     "execution_count": 2,
     "metadata": {},
     "output_type": "execute_result"
    }
   ],
   "source": [
    "file = '../../../Data/stackoverflow/questions.csv'\n",
    "df = pd.read_csv(file, usecols=['title', 'tags'])\n",
    "df.head(10)"
   ]
  },
  {
   "cell_type": "markdown",
   "metadata": {},
   "source": [
    "Data size"
   ]
  },
  {
   "cell_type": "code",
   "execution_count": 3,
   "metadata": {},
   "outputs": [
    {
     "data": {
      "text/plain": [
       "(16389567, 2)"
      ]
     },
     "execution_count": 3,
     "metadata": {},
     "output_type": "execute_result"
    }
   ],
   "source": [
    "df.shape"
   ]
  },
  {
   "cell_type": "markdown",
   "metadata": {},
   "source": [
    "Data is too big for taining. We will only consider randomly selected 100,000 rows"
   ]
  },
  {
   "cell_type": "code",
   "execution_count": 4,
   "metadata": {},
   "outputs": [],
   "source": [
    "df = shuffle(df, random_state=random_state)\n",
    "df = df[:100000]"
   ]
  },
  {
   "cell_type": "markdown",
   "metadata": {},
   "source": [
    "### Clean title text"
   ]
  },
  {
   "cell_type": "code",
   "execution_count": 5,
   "metadata": {},
   "outputs": [
    {
     "data": {
      "text/html": [
       "<div>\n",
       "<style scoped>\n",
       "    .dataframe tbody tr th:only-of-type {\n",
       "        vertical-align: middle;\n",
       "    }\n",
       "\n",
       "    .dataframe tbody tr th {\n",
       "        vertical-align: top;\n",
       "    }\n",
       "\n",
       "    .dataframe thead th {\n",
       "        text-align: right;\n",
       "    }\n",
       "</style>\n",
       "<table border=\"1\" class=\"dataframe\">\n",
       "  <thead>\n",
       "    <tr style=\"text-align: right;\">\n",
       "      <th></th>\n",
       "      <th>title</th>\n",
       "      <th>tags</th>\n",
       "    </tr>\n",
       "  </thead>\n",
       "  <tbody>\n",
       "    <tr>\n",
       "      <th>6162563</th>\n",
       "      <td>gps returns one day ahead</td>\n",
       "      <td>android|gps</td>\n",
       "    </tr>\n",
       "    <tr>\n",
       "      <th>1172178</th>\n",
       "      <td>how to convert files to  rar file node js</td>\n",
       "      <td>angularjs|node.js|rar</td>\n",
       "    </tr>\n",
       "    <tr>\n",
       "      <th>2996673</th>\n",
       "      <td>itextsharp not working in loop</td>\n",
       "      <td>c#|asp.net|itext</td>\n",
       "    </tr>\n",
       "    <tr>\n",
       "      <th>10409937</th>\n",
       "      <td>alter table modify  column  does not work in h...</td>\n",
       "      <td>java|sql|oracle|hsqldb|flyway</td>\n",
       "    </tr>\n",
       "    <tr>\n",
       "      <th>7895037</th>\n",
       "      <td>send data to broadcast receiver from mainactivity</td>\n",
       "      <td>android|broadcastreceiver</td>\n",
       "    </tr>\n",
       "    <tr>\n",
       "      <th>8374230</th>\n",
       "      <td>jquery mobile changepage failed</td>\n",
       "      <td>javascript|jquery|css3|jquery-mobile|dialog</td>\n",
       "    </tr>\n",
       "    <tr>\n",
       "      <th>7358055</th>\n",
       "      <td>jquery dynamic generate array</td>\n",
       "      <td>javascript|jquery</td>\n",
       "    </tr>\n",
       "    <tr>\n",
       "      <th>7333826</th>\n",
       "      <td>outside click on ipad device not working for a...</td>\n",
       "      <td>jquery|ipad</td>\n",
       "    </tr>\n",
       "    <tr>\n",
       "      <th>15668795</th>\n",
       "      <td>rails 4 - render previous template</td>\n",
       "      <td>ruby-on-rails|ruby|templates|ruby-on-rails-4</td>\n",
       "    </tr>\n",
       "    <tr>\n",
       "      <th>6026154</th>\n",
       "      <td>pulling an image online and rendering it throu...</td>\n",
       "      <td>django|image</td>\n",
       "    </tr>\n",
       "  </tbody>\n",
       "</table>\n",
       "</div>"
      ],
      "text/plain": [
       "                                                      title  \\\n",
       "6162563                          gps returns one day ahead    \n",
       "1172178           how to convert files to  rar file node js   \n",
       "2996673                      itextsharp not working in loop   \n",
       "10409937  alter table modify  column  does not work in h...   \n",
       "7895037   send data to broadcast receiver from mainactivity   \n",
       "8374230                     jquery mobile changepage failed   \n",
       "7358055                       jquery dynamic generate array   \n",
       "7333826   outside click on ipad device not working for a...   \n",
       "15668795                 rails 4 - render previous template   \n",
       "6026154   pulling an image online and rendering it throu...   \n",
       "\n",
       "                                                  tags  \n",
       "6162563                                    android|gps  \n",
       "1172178                          angularjs|node.js|rar  \n",
       "2996673                               c#|asp.net|itext  \n",
       "10409937                 java|sql|oracle|hsqldb|flyway  \n",
       "7895037                      android|broadcastreceiver  \n",
       "8374230    javascript|jquery|css3|jquery-mobile|dialog  \n",
       "7358055                              javascript|jquery  \n",
       "7333826                                    jquery|ipad  \n",
       "15668795  ruby-on-rails|ruby|templates|ruby-on-rails-4  \n",
       "6026154                                   django|image  "
      ]
     },
     "execution_count": 5,
     "metadata": {},
     "output_type": "execute_result"
    }
   ],
   "source": [
    "def clean_text(text):\n",
    "    text = str(text)\n",
    "    text = re.sub(r\"[^a-zA-Z0-9#+-]\", \" \", text.lower())\n",
    "    return text\n",
    "\n",
    "df['title'] = df['title'].apply(clean_text)\n",
    "df.head(10)"
   ]
  },
  {
   "cell_type": "markdown",
   "metadata": {},
   "source": [
    "### Save for later use"
   ]
  },
  {
   "cell_type": "code",
   "execution_count": 6,
   "metadata": {},
   "outputs": [],
   "source": [
    "df.to_csv('../../../Data/stackoverflow/clean_questions.csv')"
   ]
  },
  {
   "cell_type": "markdown",
   "metadata": {},
   "source": [
    "### Load data"
   ]
  },
  {
   "cell_type": "code",
   "execution_count": 23,
   "metadata": {},
   "outputs": [
    {
     "data": {
      "text/html": [
       "<div>\n",
       "<style scoped>\n",
       "    .dataframe tbody tr th:only-of-type {\n",
       "        vertical-align: middle;\n",
       "    }\n",
       "\n",
       "    .dataframe tbody tr th {\n",
       "        vertical-align: top;\n",
       "    }\n",
       "\n",
       "    .dataframe thead th {\n",
       "        text-align: right;\n",
       "    }\n",
       "</style>\n",
       "<table border=\"1\" class=\"dataframe\">\n",
       "  <thead>\n",
       "    <tr style=\"text-align: right;\">\n",
       "      <th></th>\n",
       "      <th>Unnamed: 0</th>\n",
       "      <th>title</th>\n",
       "      <th>tags</th>\n",
       "    </tr>\n",
       "  </thead>\n",
       "  <tbody>\n",
       "    <tr>\n",
       "      <th>0</th>\n",
       "      <td>6162563</td>\n",
       "      <td>gps returns one day ahead</td>\n",
       "      <td>android|gps</td>\n",
       "    </tr>\n",
       "    <tr>\n",
       "      <th>1</th>\n",
       "      <td>1172178</td>\n",
       "      <td>how to convert files to  rar file node js</td>\n",
       "      <td>angularjs|node.js|rar</td>\n",
       "    </tr>\n",
       "    <tr>\n",
       "      <th>2</th>\n",
       "      <td>2996673</td>\n",
       "      <td>itextsharp not working in loop</td>\n",
       "      <td>c#|asp.net|itext</td>\n",
       "    </tr>\n",
       "    <tr>\n",
       "      <th>3</th>\n",
       "      <td>10409937</td>\n",
       "      <td>alter table modify  column  does not work in h...</td>\n",
       "      <td>java|sql|oracle|hsqldb|flyway</td>\n",
       "    </tr>\n",
       "    <tr>\n",
       "      <th>4</th>\n",
       "      <td>7895037</td>\n",
       "      <td>send data to broadcast receiver from mainactivity</td>\n",
       "      <td>android|broadcastreceiver</td>\n",
       "    </tr>\n",
       "    <tr>\n",
       "      <th>5</th>\n",
       "      <td>8374230</td>\n",
       "      <td>jquery mobile changepage failed</td>\n",
       "      <td>javascript|jquery|css3|jquery-mobile|dialog</td>\n",
       "    </tr>\n",
       "    <tr>\n",
       "      <th>6</th>\n",
       "      <td>7358055</td>\n",
       "      <td>jquery dynamic generate array</td>\n",
       "      <td>javascript|jquery</td>\n",
       "    </tr>\n",
       "    <tr>\n",
       "      <th>7</th>\n",
       "      <td>7333826</td>\n",
       "      <td>outside click on ipad device not working for a...</td>\n",
       "      <td>jquery|ipad</td>\n",
       "    </tr>\n",
       "    <tr>\n",
       "      <th>8</th>\n",
       "      <td>15668795</td>\n",
       "      <td>rails 4 - render previous template</td>\n",
       "      <td>ruby-on-rails|ruby|templates|ruby-on-rails-4</td>\n",
       "    </tr>\n",
       "    <tr>\n",
       "      <th>9</th>\n",
       "      <td>6026154</td>\n",
       "      <td>pulling an image online and rendering it throu...</td>\n",
       "      <td>django|image</td>\n",
       "    </tr>\n",
       "  </tbody>\n",
       "</table>\n",
       "</div>"
      ],
      "text/plain": [
       "   Unnamed: 0                                              title  \\\n",
       "0     6162563                         gps returns one day ahead    \n",
       "1     1172178          how to convert files to  rar file node js   \n",
       "2     2996673                     itextsharp not working in loop   \n",
       "3    10409937  alter table modify  column  does not work in h...   \n",
       "4     7895037  send data to broadcast receiver from mainactivity   \n",
       "5     8374230                    jquery mobile changepage failed   \n",
       "6     7358055                      jquery dynamic generate array   \n",
       "7     7333826  outside click on ipad device not working for a...   \n",
       "8    15668795                 rails 4 - render previous template   \n",
       "9     6026154  pulling an image online and rendering it throu...   \n",
       "\n",
       "                                           tags  \n",
       "0                                   android|gps  \n",
       "1                         angularjs|node.js|rar  \n",
       "2                              c#|asp.net|itext  \n",
       "3                 java|sql|oracle|hsqldb|flyway  \n",
       "4                     android|broadcastreceiver  \n",
       "5   javascript|jquery|css3|jquery-mobile|dialog  \n",
       "6                             javascript|jquery  \n",
       "7                                   jquery|ipad  \n",
       "8  ruby-on-rails|ruby|templates|ruby-on-rails-4  \n",
       "9                                  django|image  "
      ]
     },
     "execution_count": 23,
     "metadata": {},
     "output_type": "execute_result"
    }
   ],
   "source": [
    "df = pd.read_csv('../../../Data/stackoverflow/clean_questions.csv')\n",
    "df.head(10)"
   ]
  },
  {
   "cell_type": "markdown",
   "metadata": {},
   "source": [
    "### Save data as list and basic exploration"
   ]
  },
  {
   "cell_type": "code",
   "execution_count": 24,
   "metadata": {},
   "outputs": [],
   "source": [
    "questions = df['title'].tolist()\n",
    "tags = df['tags'].tolist()"
   ]
  },
  {
   "cell_type": "markdown",
   "metadata": {},
   "source": [
    "Find the number of words in the vocabulary"
   ]
  },
  {
   "cell_type": "code",
   "execution_count": 25,
   "metadata": {},
   "outputs": [
    {
     "name": "stdout",
     "output_type": "stream",
     "text": [
      "The total number of words in the data is:  880213\n",
      "The number of words in the vocabulary is:  37250\n"
     ]
    }
   ],
   "source": [
    "print('The total number of words in the data is: ', sum([len(text.split()) for text in questions]))\n",
    "\n",
    "def tokenize_question(text):\n",
    "    return text.split()\n",
    "\n",
    "question_vect = CountVectorizer(tokenizer=tokenize_question)\n",
    "question_vect.fit(questions)\n",
    "\n",
    "print('The number of words in the vocabulary is: ', len(question_vect.vocabulary_))"
   ]
  },
  {
   "cell_type": "markdown",
   "metadata": {},
   "source": [
    "Find the number of tags"
   ]
  },
  {
   "cell_type": "code",
   "execution_count": 26,
   "metadata": {},
   "outputs": [
    {
     "name": "stdout",
     "output_type": "stream",
     "text": [
      "The total number of tags is:  18837\n"
     ]
    }
   ],
   "source": [
    "def tokenize_tags(text):\n",
    "    return text.split('|')\n",
    "\n",
    "tags_vect = CountVectorizer(tokenizer=tokenize_tags)\n",
    "tags_vect.fit(tags)\n",
    "\n",
    "print('The total number of tags is: ', len(tags_vect.vocabulary_))"
   ]
  },
  {
   "cell_type": "markdown",
   "metadata": {},
   "source": [
    "#### Save tag label as vectorized tokens.\n",
    "\n",
    "There are too many tags to predict. In our model we will only look at the top 100 tags and save the result"
   ]
  },
  {
   "cell_type": "code",
   "execution_count": 27,
   "metadata": {},
   "outputs": [
    {
     "name": "stdout",
     "output_type": "stream",
     "text": [
      "Number of tags:  500\n",
      "The list of tags with frequency is: \n",
      "{'.htaccess': 389, '.net': 1685, '3d': 90, 'actionscript-3': 291, 'active-directory': 82, 'activerecord': 151, 'ajax': 1126, 'algorithm': 566, 'amazon-ec2': 138, 'amazon-s3': 149, 'amazon-web-services': 375, 'android': 7088, 'android-activity': 179, 'android-asynctask': 87, 'android-fragments': 215, 'android-intent': 152, 'android-layout': 293, 'android-listview': 98, 'android-recyclerview': 80, 'android-studio': 267, 'angular': 764, 'angularjs': 1545, 'angularjs-directive': 104, 'animation': 216, 'ant': 94, 'apache': 526, 'apache-spark': 251, 'api': 349, 'arraylist': 193, 'arrays': 1752, 'asp.net': 2034, 'asp.net-core': 133, 'asp.net-mvc': 1038, 'asp.net-mvc-3': 249, 'asp.net-mvc-4': 257, 'asp.net-mvc-5': 79, 'asp.net-web-api': 139, 'assembly': 182, 'asynchronous': 211, 'audio': 180, 'authentication': 216, 'autocomplete': 81, 'automation': 91, 'awk': 129, 'azure': 399, 'backbone.js': 130, 'background': 82, 'bash': 622, 'batch-file': 267, 'binding': 103, 'bitmap': 86, 'bluetooth': 85, 'boost': 135, 'browser': 137, 'button': 187, 'c': 1734, 'c#': 7562, 'c#-4.0': 151, 'c++': 3463, 'c++11': 273, 'caching': 188, 'cakephp': 224, 'callback': 77, 'camera': 93, 'canvas': 179, 'cassandra': 95, 'casting': 85, 'character-encoding': 81, 'charts': 115, 'checkbox': 140, 'class': 336, 'clojure': 84, 'cmd': 111, 'cocoa': 223, 'cocoa-touch': 176, 'codeigniter': 371, 'coldfusion': 80, 'collections': 98, 'colors': 93, 'combobox': 94, 'command-line': 114, 'compilation': 89, 'compiler-errors': 86, 'concurrency': 90, 'configuration': 87, 'constructor': 91, 'controller': 90, 'cookies': 164, 'cordova': 338, 'core-data': 152, 'count': 97, 'css': 3278, 'css3': 447, 'csv': 342, 'cuda': 78, 'curl': 186, 'd3.js': 169, 'data-binding': 103, 'data-structures': 134, 'database': 888, 'database-design': 123, 'dataframe': 228, 'datagrid': 84, 'datagridview': 98, 'datatable': 110, 'datatables': 97, 'date': 287, 'datepicker': 88, 'datetime': 270, 'debugging': 253, 'delphi': 263, 'dependency-injection': 104, 'deployment': 120, 'design': 112, 'design-patterns': 155, 'devise': 104, 'dictionary': 262, 'django': 1088, 'django-models': 130, 'dll': 123, 'dns': 98, 'docker': 250, 'doctrine2': 79, 'dom': 199, 'download': 80, 'drop-down-menu': 115, 'drupal': 105, 'dynamic': 126, 'eclipse': 779, 'ecmascript-6': 110, 'elasticsearch': 223, 'eloquent': 93, 'emacs': 100, 'email': 304, 'ember.js': 135, 'encoding': 118, 'encryption': 173, 'entity-framework': 522, 'enums': 87, 'error-handling': 103, 'events': 186, 'excel': 1079, 'excel-vba': 495, 'exception': 186, 'exception-handling': 79, 'express': 286, 'extjs': 133, 'f#': 80, 'facebook': 516, 'facebook-graph-api': 204, 'ffmpeg': 93, 'file': 366, 'file-io': 107, 'file-upload': 126, 'filter': 95, 'firebase': 357, 'firebase-realtime-database': 137, 'firefox': 195, 'flash': 228, 'flask': 149, 'flex': 147, 'fonts': 103, 'for-loop': 254, 'foreach': 107, 'forms': 583, 'function': 417, 'gcc': 191, 'generics': 219, 'ggplot2': 142, 'git': 631, 'github': 195, 'go': 178, 'google-api': 83, 'google-app-engine': 251, 'google-apps-script': 146, 'google-chrome': 307, 'google-chrome-extension': 115, 'google-maps': 340, 'google-maps-api-3': 138, 'google-spreadsheet': 111, 'gradle': 187, 'grails': 203, 'graph': 124, 'graphics': 103, 'gridview': 119, 'groovy': 152, 'gwt': 125, 'hadoop': 258, 'hash': 130, 'haskell': 223, 'heroku': 199, 'hibernate': 458, 'highcharts': 138, 'html': 4715, 'html-table': 92, 'html5': 693, 'http': 290, 'https': 105, 'hyperlink': 89, 'if-statement': 239, 'iframe': 149, 'iis': 188, 'image': 547, 'image-processing': 190, 'import': 123, 'indexing': 149, 'inheritance': 207, 'input': 143, 'intellij-idea': 167, 'interface': 91, 'internet-explorer': 190, 'io': 86, 'ionic-framework': 175, 'ionic2': 79, 'ios': 3478, 'ios4': 79, 'ios7': 98, 'ipad': 208, 'iphone': 1312, 'jar': 102, 'java': 9043, 'java-8': 80, 'java-ee': 185, 'javafx': 183, 'javascript': 10054, 'javascript-events': 90, 'jdbc': 163, 'jenkins': 183, 'join': 174, 'joomla': 83, 'jpa': 219, 'jqgrid': 77, 'jquery': 5592, 'jquery-mobile': 136, 'jquery-plugins': 87, 'jquery-ui': 222, 'jsf': 209, 'jsf-2': 111, 'json': 1469, 'jsp': 309, 'junit': 119, 'kendo-ui': 98, 'knockout.js': 106, 'kotlin': 103, 'lambda': 116, 'laravel': 627, 'laravel-4': 81, 'laravel-5': 186, 'layout': 135, 'linked-list': 91, 'linq': 466, 'linq-to-sql': 115, 'linux': 1006, 'list': 509, 'listview': 265, 'logging': 183, 'login': 89, 'loops': 361, 'lua': 87, 'machine-learning': 166, 'macos': 526, 'magento': 229, 'makefile': 119, 'math': 189, 'matlab': 507, 'matplotlib': 191, 'matrix': 183, 'maven': 358, 'memory': 154, 'memory-leaks': 100, 'memory-management': 127, 'menu': 87, 'merge': 80, 'meteor': 173, 'methods': 163, 'mobile': 134, 'mod-rewrite': 176, 'model': 91, 'model-view-controller': 175, 'module': 89, 'mongodb': 653, 'mongoose': 147, 'ms-access': 213, 'multidimensional-array': 150, 'multithreading': 681, 'mvvm': 148, 'mysql': 3205, 'mysqli': 139, 'neo4j': 99, 'netbeans': 136, 'networking': 183, 'neural-network': 90, 'nginx': 171, 'nhibernate': 109, 'node.js': 1493, 'notifications': 82, 'npm': 133, 'null': 87, 'nullpointerexception': 86, 'numpy': 326, 'oauth': 99, 'oauth-2.0': 80, 'object': 261, 'objective-c': 1776, 'oop': 281, 'opencv': 291, 'opengl': 204, 'opengl-es': 88, 'optimization': 141, 'oracle': 600, 'oracle11g': 91, 'orm': 94, 'outlook': 78, 'pagination': 97, 'pandas': 477, 'parallel-processing': 93, 'parse.com': 98, 'parsing': 278, 'paypal': 122, 'pdf': 220, 'pdo': 139, 'performance': 490, 'perl': 382, 'php': 7486, 'phpmyadmin': 87, 'playframework': 115, 'plot': 161, 'plsql': 96, 'plugins': 130, 'pointers': 225, 'post': 213, 'postgresql': 491, 'powershell': 333, 'primefaces': 117, 'printing': 110, 'process': 85, 'promise': 88, 'properties': 97, 'proxy': 93, 'python': 6196, 'python-2.7': 524, 'python-3.x': 710, 'qt': 432, 'r': 1464, 'random': 158, 'razor': 134, 'react-native': 232, 'reactjs': 613, 'recursion': 196, 'redirect': 219, 'redis': 110, 'redux': 105, 'reference': 83, 'reflection': 131, 'regex': 1196, 'replace': 115, 'reporting-services': 132, 'rest': 423, 'routing': 81, 'rspec': 100, 'ruby': 1236, 'ruby-on-rails': 1822, 'ruby-on-rails-3': 339, 'ruby-on-rails-4': 219, 'safari': 90, 'sass': 96, 'scala': 509, 'scipy': 85, 'scope': 85, 'scripting': 81, 'scroll': 90, 'search': 166, 'security': 281, 'sed': 133, 'select': 188, 'selenium': 320, 'selenium-webdriver': 161, 'serialization': 143, 'server': 87, 'service': 109, 'servlets': 186, 'session': 256, 'sharepoint': 167, 'shell': 413, 'shiny': 77, 'silverlight': 164, 'soap': 152, 'socket.io': 85, 'sockets': 326, 'solr': 103, 'sorting': 321, 'split': 82, 'spring': 871, 'spring-boot': 240, 'spring-mvc': 306, 'spring-security': 93, 'sprite-kit': 83, 'sql': 2786, 'sql-server': 1533, 'sql-server-2005': 106, 'sql-server-2008': 344, 'sql-server-2008-r2': 81, 'sqlalchemy': 89, 'sqlite': 412, 'sqlite3': 96, 'ssh': 116, 'ssis': 80, 'ssl': 218, 'static': 82, 'stored-procedures': 198, 'string': 795, 'struct': 127, 'svg': 153, 'svn': 149, 'swift': 1235, 'swift3': 104, 'swing': 410, 'symfony': 385, 'syntax': 112, 'tcp': 97, 'templates': 267, 'tensorflow': 194, 'terminal': 94, 'testing': 199, 'text': 126, 'tfs': 110, 'three.js': 87, 'time': 132, 'timer': 89, 'tkinter': 135, 'tomcat': 220, 'transactions': 90, 'triggers': 89, 'tsql': 353, 'twitter': 123, 'twitter-bootstrap': 558, 'twitter-bootstrap-3': 137, 'types': 84, 'typescript': 375, 'ubuntu': 267, 'uitableview': 361, 'uiview': 107, 'uiviewcontroller': 89, 'unicode': 143, 'unit-testing': 348, 'unity3d': 234, 'unix': 236, 'upload': 82, 'url': 220, 'url-rewriting': 80, 'user-interface': 226, 'utf-8': 105, 'uwp': 81, 'validation': 348, 'variables': 252, 'vb.net': 746, 'vba': 809, 'vbscript': 115, 'vector': 148, 'version-control': 93, 'video': 181, 'view': 108, 'vim': 147, 'visual-c++': 156, 'visual-studio': 491, 'visual-studio-2008': 94, 'visual-studio-2010': 289, 'visual-studio-2012': 148, 'visual-studio-2013': 120, 'visual-studio-2015': 106, 'vue.js': 134, 'wcf': 280, 'web': 166, 'web-applications': 96, 'web-scraping': 122, 'web-services': 348, 'webforms': 84, 'webpack': 126, 'websocket': 95, 'webview': 106, 'while-loop': 105, 'winapi': 210, 'windows': 739, 'windows-phone-7': 113, 'windows-phone-8': 117, 'winforms': 507, 'woocommerce': 98, 'wordpress': 819, 'wpf': 885, 'xamarin': 209, 'xamarin.android': 85, 'xamarin.forms': 98, 'xaml': 310, 'xcode': 747, 'xml': 999, 'xpath': 164, 'xslt': 187, 'yii': 91, 'youtube': 87, 'zend-framework': 112}\n"
     ]
    }
   ],
   "source": [
    "max_tags = 500\n",
    "\n",
    "def tokenize_tags(text):\n",
    "    return text.split('|')\n",
    "\n",
    "tags_vect = CountVectorizer(tokenizer=tokenize_tags, max_features=max_tags)\n",
    "tags = tags_vect.fit_transform(tags)\n",
    "tags = tags.toarray()\n",
    "print('Number of tags: ', len(tags_vect.vocabulary_))\n",
    "\n",
    "tags_token = tags_vect.get_feature_names()\n",
    "tag_frequency = tags.sum(axis=0)\n",
    "print('The list of tags with frequency is: ')\n",
    "print(dict(zip(tags_token, tag_frequency)))"
   ]
  },
  {
   "cell_type": "markdown",
   "metadata": {},
   "source": [
    "Histogram of number of tags in each question"
   ]
  },
  {
   "cell_type": "code",
   "execution_count": 28,
   "metadata": {},
   "outputs": [
    {
     "data": {
      "text/plain": [
       "Text(0,0.5,'Number of questions')"
      ]
     },
     "execution_count": 28,
     "metadata": {},
     "output_type": "execute_result"
    },
    {
     "data": {
      "image/png": "[encoded data removed]",
      "text/plain": [
       "<Figure size 432x288 with 1 Axes>"
      ]
     },
     "metadata": {
      "needs_background": "light"
     },
     "output_type": "display_data"
    }
   ],
   "source": [
    "plt.hist(tags.sum(axis=1))\n",
    "plt.xlabel('Number of tags for a question')\n",
    "plt.ylabel('Number of questions')"
   ]
  },
  {
   "cell_type": "markdown",
   "metadata": {},
   "source": [
    "### Split test and train data set"
   ]
  },
  {
   "cell_type": "code",
   "execution_count": 29,
   "metadata": {},
   "outputs": [],
   "source": [
    "X_train, X_test, y_train, y_test = train_test_split(questions, tags, \n",
    "                                                    test_size=0.1, \n",
    "                                                    random_state=random_state)"
   ]
  },
  {
   "cell_type": "markdown",
   "metadata": {},
   "source": [
    "### Sample weight\n",
    "Evaluate sample weight from y_train data"
   ]
  },
  {
   "cell_type": "code",
   "execution_count": 30,
   "metadata": {},
   "outputs": [
    {
     "data": {
      "text/plain": [
       "array([1.35245077e-148, 7.79405469e-145, 9.16483803e-148, ...,\n",
       "       4.25393746e-143, 3.83532791e-144, 6.37074127e-149])"
      ]
     },
     "execution_count": 30,
     "metadata": {},
     "output_type": "execute_result"
    }
   ],
   "source": [
    "sample_weight = compute_sample_weight('balanced', y_test)\n",
    "sample_weight"
   ]
  },
  {
   "cell_type": "code",
   "execution_count": 31,
   "metadata": {},
   "outputs": [
    {
     "data": {
      "text/plain": [
       "90000"
      ]
     },
     "execution_count": 31,
     "metadata": {},
     "output_type": "execute_result"
    }
   ],
   "source": [
    "len(X_train)"
   ]
  },
  {
   "cell_type": "markdown",
   "metadata": {},
   "source": [
    "### Evaluation metrics"
   ]
  },
  {
   "cell_type": "code",
   "execution_count": 32,
   "metadata": {},
   "outputs": [],
   "source": [
    "def eval_metrics(y_test, y_predicted, print_metrics=True):\n",
    "    \n",
    "    accuracy = accuracy_score(y_test, y_predicted)\n",
    "    precision = precision_score(y_test, y_predicted, average='weighted')\n",
    "    recall = recall_score(y_test, y_predicted, average='weighted')\n",
    "    f1 = f1_score(y_test, y_predicted, average='weighted')\n",
    "    \n",
    "    if print_metrics:\n",
    "        print(\"accuracy = %.3f, precision = %.3f, recall = %.3f, f1 = %.3f\" % (\n",
    "            accuracy, precision, recall, f1))\n",
    "    return accuracy, precision, recall, f1\n"
   ]
  },
  {
   "cell_type": "markdown",
   "metadata": {},
   "source": [
    "# Simple first order model: Bag of words with logistic regression\n"
   ]
  },
  {
   "cell_type": "markdown",
   "metadata": {},
   "source": [
    "### Bag of words embedding for quesitons\n",
    "\n",
    "Remove common words and words appearing very less number of times from the corpus"
   ]
  },
  {
   "cell_type": "code",
   "execution_count": 33,
   "metadata": {},
   "outputs": [
    {
     "name": "stdout",
     "output_type": "stream",
     "text": [
      "The number of words in the vocabulary is:  8267\n"
     ]
    }
   ],
   "source": [
    "def tokenize_question(text):\n",
    "    return text.split()\n",
    "\n",
    "bag_vect = CountVectorizer(tokenizer=tokenize_question,\n",
    "                               stop_words='english',\n",
    "                               min_df=4,\n",
    "                               max_df=0.5)\n",
    "\n",
    "X_train_bag = bag_vect.fit_transform(X_train)\n",
    "X_test_bag = bag_vect.transform(X_test)\n",
    "print('The number of words in the vocabulary is: ', len(bag_vect.vocabulary_))"
   ]
  },
  {
   "cell_type": "markdown",
   "metadata": {},
   "source": [
    "### Logistic regression with binary relevance\n",
    "Since this is a multi-label classificaiton, we will use binary relevance on top of logistical regression. This basically splits each label as a seperate classification. "
   ]
  },
  {
   "cell_type": "code",
   "execution_count": null,
   "metadata": {},
   "outputs": [],
   "source": [
    "%%time\n",
    "bag_log_clf = OneVsRestClassifier(LogisticRegression())\n",
    "\n",
    "bag_log_clf.fit(X_train_bag, y_train)\n",
    "\n",
    "print('Train score')\n",
    "y_train_bag_predict = bag_log_clf.predict(X_train_bag)\n",
    "eval_metrics(y_train, y_train_bag_predict)\n",
    "\n",
    "print('Test score')\n",
    "y_test_bag_predict = bag_log_clf.predict(X_test_bag)\n",
    "eval_metrics(y_test, y_test_bag_predict)"
   ]
  },
  {
   "cell_type": "markdown",
   "metadata": {},
   "source": [
    "### Important words"
   ]
  },
  {
   "cell_type": "code",
   "execution_count": null,
   "metadata": {},
   "outputs": [],
   "source": [
    "importances = importances = bag_log_clf.estimators_[0].coef_[0]\n",
    "for i in range(1,len(bag_log_clf.estimators_)):\n",
    "    importances += bag_log_clf.estimators_[i].coef_[0]\n",
    "\n",
    "importances = importances/sum(importances)\n",
    "    \n",
    "feature_imps = {'importances':importances, 'feature':bag_vect.get_feature_names()}\n",
    "feature_imps = pd.DataFrame(feature_imps)\n",
    "feature_imps = feature_imps.sort_values('importances', ascending=False)\n",
    "# Normalize importance and add cumulative importance\n",
    "feature_imps['cum_imp'] = feature_imps['importances'].cumsum()\n",
    "feature_imps['importances'] = feature_imps['importances']/feature_imps['importances'].max()\n",
    "feature_imps = feature_imps.reset_index(drop=True)\n",
    "feature_imps['no_features'] = feature_imps.index + 1\n",
    "feature_imps[['feature', 'importances', 'cum_imp']].head(20)"
   ]
  },
  {
   "cell_type": "markdown",
   "metadata": {},
   "source": [
    "## TFIDF with logistic regression and binary relevance"
   ]
  },
  {
   "cell_type": "markdown",
   "metadata": {},
   "source": [
    "### TFIDF on bag of words embedding for quesitons"
   ]
  },
  {
   "cell_type": "code",
   "execution_count": null,
   "metadata": {},
   "outputs": [],
   "source": [
    "def tokenize_question(text):\n",
    "    return text.split()\n",
    "\n",
    "tfidf_vect = TfidfVectorizer(tokenizer=tokenize_question,\n",
    "                               stop_words='english',\n",
    "                               min_df=4,\n",
    "                               max_df=0.5)\n",
    "\n",
    "X_train_tfidf = tfidf_vect.fit_transform(X_train)\n",
    "X_test_tfidf = tfidf_vect.transform(X_test)\n",
    "print('The number of words in the vocabulary is: ', len(tfidf_vect.vocabulary_))"
   ]
  },
  {
   "cell_type": "markdown",
   "metadata": {},
   "source": [
    "### Logistic regression with binary relevance"
   ]
  },
  {
   "cell_type": "code",
   "execution_count": null,
   "metadata": {},
   "outputs": [],
   "source": [
    "%%time\n",
    "tfidf_log_clf = OneVsRestClassifier(LogisticRegression())\n",
    "\n",
    "tfidf_log_clf.fit(X_train_tfidf, y_train)\n",
    "\n",
    "print('Train score')\n",
    "y_train_tfidf_predict = tfidf_log_clf.predict(X_train_tfidf)\n",
    "eval_metrics(y_train, y_train_tfidf_predict)\n",
    "\n",
    "print('Test score')\n",
    "y_test_tfidf_predict = tfidf_log_clf.predict(X_test_tfidf)\n",
    "eval_metrics(y_test, y_test_tfidf_predict)"
   ]
  },
  {
   "cell_type": "markdown",
   "metadata": {},
   "source": [
    "### Importance words"
   ]
  },
  {
   "cell_type": "code",
   "execution_count": null,
   "metadata": {},
   "outputs": [],
   "source": [
    "importances = importances = tfidf_log_clf.estimators_[0].coef_[0]\n",
    "for i in range(1,len(tfidf_log_clf.estimators_)):\n",
    "    importances += tfidf_log_clf.estimators_[i].coef_[0]\n",
    "\n",
    "importances = importances/sum(importances)\n",
    "    \n",
    "feature_imps = {'importances':importances, 'feature':bag_vect.get_feature_names()}\n",
    "feature_imps = pd.DataFrame(feature_imps)\n",
    "feature_imps = feature_imps.sort_values('importances', ascending=False)\n",
    "# Normalize importance and add cumulative importance\n",
    "feature_imps['cum_imp'] = feature_imps['importances'].cumsum()\n",
    "feature_imps['importances'] = feature_imps['importances']/feature_imps['importances'].max()\n",
    "feature_imps = feature_imps.reset_index(drop=True)\n",
    "feature_imps['no_features'] = feature_imps.index + 1\n",
    "feature_imps[['feature', 'importances', 'cum_imp']].head(20)"
   ]
  },
  {
   "cell_type": "code",
   "execution_count": null,
   "metadata": {},
   "outputs": [],
   "source": []
  }
 ],
 "metadata": {
  "kernelspec": {
   "display_name": "Python 3",
   "language": "python",
   "name": "python3"
  },
  "language_info": {
   "codemirror_mode": {
    "name": "ipython",
    "version": 3
   },
   "file_extension": ".py",
   "mimetype": "text/x-python",
   "name": "python",
   "nbconvert_exporter": "python",
   "pygments_lexer": "ipython3",
   "version": "3.6.6"
  }
 },
 "nbformat": 4,
 "nbformat_minor": 2
}
