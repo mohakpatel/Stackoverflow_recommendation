{
 "cells": [
  {
   "cell_type": "markdown",
   "metadata": {},
   "source": [
    "## Stackoverflow tag recommendation"
   ]
  },
  {
   "cell_type": "code",
   "execution_count": 1,
   "metadata": {},
   "outputs": [],
   "source": [
    "import numpy as np\n",
    "import pandas as pd\n",
    "import matplotlib.pyplot as plt\n",
    "import time\n",
    "import re\n",
    "import warnings; warnings.simplefilter('ignore')\n",
    "from sklearn.utils import shuffle\n",
    "from sklearn.feature_extraction.text import CountVectorizer, TfidfVectorizer\n",
    "from sklearn.model_selection import train_test_split\n",
    "from sklearn.utils.class_weight import compute_sample_weight\n",
    "from sklearn.linear_model import LogisticRegression, LogisticRegressionCV \n",
    "from sklearn.metrics import accuracy_score, precision_score, recall_score, f1_score\n",
    "from sklearn.multiclass import OneVsRestClassifier\n",
    "from sklearn.naive_bayes import GaussianNB\n",
    "import gensim\n",
    "from model import ConvText\n",
    "\n",
    "random_state = 747"
   ]
  },
  {
   "cell_type": "markdown",
   "metadata": {},
   "source": [
    "## Question Data\n",
    "\n",
    "Stackoverflow question data downloaded from Google BigQuery and aggregated into a single csv file. "
   ]
  },
  {
   "cell_type": "code",
   "execution_count": null,
   "metadata": {},
   "outputs": [],
   "source": [
    "file = '../../../Data/stackoverflow/questions.csv'\n",
    "df = pd.read_csv(file, usecols=['title', 'tags'])\n",
    "df.head(10)"
   ]
  },
  {
   "cell_type": "markdown",
   "metadata": {},
   "source": [
    "Data size"
   ]
  },
  {
   "cell_type": "code",
   "execution_count": null,
   "metadata": {},
   "outputs": [],
   "source": [
    "df.shape"
   ]
  },
  {
   "cell_type": "markdown",
   "metadata": {},
   "source": [
    "Data is too big for taining. We will only consider randomly selected 100,000 rows"
   ]
  },
  {
   "cell_type": "code",
   "execution_count": null,
   "metadata": {},
   "outputs": [],
   "source": [
    "df = shuffle(df, random_state=random_state)\n",
    "df = df[:1000000]"
   ]
  },
  {
   "cell_type": "markdown",
   "metadata": {},
   "source": [
    "### Clean title text"
   ]
  },
  {
   "cell_type": "code",
   "execution_count": null,
   "metadata": {},
   "outputs": [],
   "source": [
    "def clean_text(text):\n",
    "    text = str(text)\n",
    "    text = re.sub(r\"[^a-zA-Z0-9#+-]\", \" \", text.lower())\n",
    "    return text\n",
    "\n",
    "df['title'] = df['title'].apply(clean_text)\n",
    "df.head(10)"
   ]
  },
  {
   "cell_type": "markdown",
   "metadata": {},
   "source": [
    "### Save for later use"
   ]
  },
  {
   "cell_type": "code",
   "execution_count": null,
   "metadata": {},
   "outputs": [],
   "source": [
    "df.to_csv('../../../Data/stackoverflow/clean_questions.csv')"
   ]
  },
  {
   "cell_type": "markdown",
   "metadata": {},
   "source": [
    "### Load data"
   ]
  },
  {
   "cell_type": "code",
   "execution_count": 2,
   "metadata": {},
   "outputs": [
    {
     "data": {
      "text/html": [
       "<div>\n",
       "<style scoped>\n",
       "    .dataframe tbody tr th:only-of-type {\n",
       "        vertical-align: middle;\n",
       "    }\n",
       "\n",
       "    .dataframe tbody tr th {\n",
       "        vertical-align: top;\n",
       "    }\n",
       "\n",
       "    .dataframe thead th {\n",
       "        text-align: right;\n",
       "    }\n",
       "</style>\n",
       "<table border=\"1\" class=\"dataframe\">\n",
       "  <thead>\n",
       "    <tr style=\"text-align: right;\">\n",
       "      <th></th>\n",
       "      <th>Unnamed: 0</th>\n",
       "      <th>title</th>\n",
       "      <th>tags</th>\n",
       "    </tr>\n",
       "  </thead>\n",
       "  <tbody>\n",
       "    <tr>\n",
       "      <th>0</th>\n",
       "      <td>12755393</td>\n",
       "      <td>uiscrollbar is adding a vertical offset when s...</td>\n",
       "      <td>ios|swift|uiscrollview|uiwebview</td>\n",
       "    </tr>\n",
       "    <tr>\n",
       "      <th>1</th>\n",
       "      <td>2587603</td>\n",
       "      <td>how can print value of two columns of a table</td>\n",
       "      <td>asp.net-mvc|asp.net-mvc-2|asp.net-mvc-3|razor</td>\n",
       "    </tr>\n",
       "    <tr>\n",
       "      <th>2</th>\n",
       "      <td>8458851</td>\n",
       "      <td>highcharts time data with irregular intervals ...</td>\n",
       "      <td>javascript|charts|highcharts</td>\n",
       "    </tr>\n",
       "    <tr>\n",
       "      <th>3</th>\n",
       "      <td>704156</td>\n",
       "      <td>should games request audio focus on android</td>\n",
       "      <td>android|audio|android-audiomanager</td>\n",
       "    </tr>\n",
       "    <tr>\n",
       "      <th>4</th>\n",
       "      <td>9586367</td>\n",
       "      <td>wpf buttons don t change when pressed</td>\n",
       "      <td>c#|wpf|xaml</td>\n",
       "    </tr>\n",
       "    <tr>\n",
       "      <th>5</th>\n",
       "      <td>5892363</td>\n",
       "      <td>shrine + dropzone with amazon s3</td>\n",
       "      <td>ruby-on-rails|amazon-s3|coffeescript|dropzone.js</td>\n",
       "    </tr>\n",
       "    <tr>\n",
       "      <th>6</th>\n",
       "      <td>11863530</td>\n",
       "      <td>forcing a digest in angular</td>\n",
       "      <td>angularjs</td>\n",
       "    </tr>\n",
       "    <tr>\n",
       "      <th>7</th>\n",
       "      <td>3752365</td>\n",
       "      <td>npm keeps having issues finding my node path</td>\n",
       "      <td>node.js|npm|nowjs</td>\n",
       "    </tr>\n",
       "    <tr>\n",
       "      <th>8</th>\n",
       "      <td>4442375</td>\n",
       "      <td>expandable list view bottom divider</td>\n",
       "      <td>android|android-layout|android-listview|expand...</td>\n",
       "    </tr>\n",
       "    <tr>\n",
       "      <th>9</th>\n",
       "      <td>139250</td>\n",
       "      <td>unit test fails in xcode 8</td>\n",
       "      <td>ios|objective-c|xcode|xcode8</td>\n",
       "    </tr>\n",
       "  </tbody>\n",
       "</table>\n",
       "</div>"
      ],
      "text/plain": [
       "   Unnamed: 0                                              title  \\\n",
       "0    12755393  uiscrollbar is adding a vertical offset when s...   \n",
       "1     2587603      how can print value of two columns of a table   \n",
       "2     8458851  highcharts time data with irregular intervals ...   \n",
       "3      704156       should games request audio focus on android    \n",
       "4     9586367              wpf buttons don t change when pressed   \n",
       "5     5892363                   shrine + dropzone with amazon s3   \n",
       "6    11863530                        forcing a digest in angular   \n",
       "7     3752365       npm keeps having issues finding my node path   \n",
       "8     4442375                expandable list view bottom divider   \n",
       "9      139250                         unit test fails in xcode 8   \n",
       "\n",
       "                                                tags  \n",
       "0                   ios|swift|uiscrollview|uiwebview  \n",
       "1      asp.net-mvc|asp.net-mvc-2|asp.net-mvc-3|razor  \n",
       "2                       javascript|charts|highcharts  \n",
       "3                 android|audio|android-audiomanager  \n",
       "4                                        c#|wpf|xaml  \n",
       "5   ruby-on-rails|amazon-s3|coffeescript|dropzone.js  \n",
       "6                                          angularjs  \n",
       "7                                  node.js|npm|nowjs  \n",
       "8  android|android-layout|android-listview|expand...  \n",
       "9                       ios|objective-c|xcode|xcode8  "
      ]
     },
     "execution_count": 2,
     "metadata": {},
     "output_type": "execute_result"
    }
   ],
   "source": [
    "df = pd.read_csv('../../../Data/stackoverflow/clean_questions.csv')\n",
    "df.head(10)"
   ]
  },
  {
   "cell_type": "code",
   "execution_count": 3,
   "metadata": {},
   "outputs": [
    {
     "data": {
      "text/plain": [
       "Unnamed: 0    0\n",
       "title         0\n",
       "tags          0\n",
       "dtype: int64"
      ]
     },
     "execution_count": 3,
     "metadata": {},
     "output_type": "execute_result"
    }
   ],
   "source": [
    "df.isnull().sum()"
   ]
  },
  {
   "cell_type": "markdown",
   "metadata": {},
   "source": [
    "### Save data as list and basic exploration"
   ]
  },
  {
   "cell_type": "code",
   "execution_count": 4,
   "metadata": {},
   "outputs": [],
   "source": [
    "questions = df['title'].tolist()\n",
    "tags = df['tags'].tolist()"
   ]
  },
  {
   "cell_type": "markdown",
   "metadata": {},
   "source": [
    "Find the number of words in the vocabulary"
   ]
  },
  {
   "cell_type": "code",
   "execution_count": 5,
   "metadata": {},
   "outputs": [
    {
     "name": "stdout",
     "output_type": "stream",
     "text": [
      "The total number of words in the data is:  8798904\n",
      "The number of words in the vocabulary is:  151475\n"
     ]
    }
   ],
   "source": [
    "print('The total number of words in the data is: ', sum([len(text.split()) for text in questions]))\n",
    "\n",
    "def tokenize_question(text):\n",
    "    return text.split()\n",
    "\n",
    "question_vect = CountVectorizer(tokenizer=tokenize_question)\n",
    "question_vect.fit(questions)\n",
    "\n",
    "print('The number of words in the vocabulary is: ', len(question_vect.vocabulary_))"
   ]
  },
  {
   "cell_type": "markdown",
   "metadata": {},
   "source": [
    "Find the number of tags"
   ]
  },
  {
   "cell_type": "code",
   "execution_count": 6,
   "metadata": {},
   "outputs": [
    {
     "name": "stdout",
     "output_type": "stream",
     "text": [
      "The total number of tags is:  38909\n"
     ]
    }
   ],
   "source": [
    "def tokenize_tags(text):\n",
    "    return text.split('|')\n",
    "\n",
    "tags_vect = CountVectorizer(tokenizer=tokenize_tags)\n",
    "tags_vect.fit(tags)\n",
    "\n",
    "print('The total number of tags is: ', len(tags_vect.vocabulary_))"
   ]
  },
  {
   "cell_type": "markdown",
   "metadata": {},
   "source": [
    "#### Save tag label as vectorized tokens.\n",
    "\n",
    "There are too many tags to predict. In our model we will only look at the top 100 tags and save the result"
   ]
  },
  {
   "cell_type": "code",
   "execution_count": 7,
   "metadata": {},
   "outputs": [
    {
     "name": "stdout",
     "output_type": "stream",
     "text": [
      "Number of tags:  100\n",
      "The list of tags with frequency is: \n",
      "{'.htaccess': 3873, '.net': 16698, 'ajax': 11743, 'algorithm': 5256, 'amazon-web-services': 3769, 'android': 69219, 'angular': 7932, 'angularjs': 15689, 'apache': 4845, 'api': 3805, 'arrays': 16914, 'asp.net': 20775, 'asp.net-mvc': 10452, 'azure': 3622, 'bash': 6221, 'c': 17322, 'c#': 75600, 'c++': 35400, 'codeigniter': 3783, 'cordova': 3535, 'css': 33322, 'css3': 4693, 'csv': 3539, 'database': 8971, 'django': 10919, 'eclipse': 7023, 'entity-framework': 4789, 'excel': 10683, 'excel-vba': 4954, 'facebook': 5038, 'file': 3604, 'firebase': 3502, 'forms': 5529, 'function': 4203, 'git': 6184, 'google-maps': 3558, 'hibernate': 4458, 'html': 47001, 'html5': 7076, 'image': 5334, 'ios': 35039, 'iphone': 13279, 'java': 88798, 'javascript': 102394, 'jquery': 56638, 'json': 14818, 'laravel': 5815, 'linq': 4277, 'linux': 10227, 'list': 4812, 'loops': 3548, 'macos': 5368, 'matlab': 4887, 'maven': 3755, 'mongodb': 6215, 'multithreading': 6760, 'mysql': 32383, 'node.js': 14574, 'objective-c': 17394, 'oracle': 6061, 'pandas': 4907, 'performance': 4833, 'perl': 3726, 'php': 75227, 'postgresql': 5501, 'powershell': 3699, 'python': 62077, 'python-2.7': 5210, 'python-3.x': 7313, 'qt': 4102, 'r': 15562, 'reactjs': 6019, 'regex': 11691, 'rest': 3999, 'ruby': 12143, 'ruby-on-rails': 18218, 'ruby-on-rails-3': 3411, 'scala': 5154, 'shell': 4027, 'spring': 8562, 'sql': 27967, 'sql-server': 14754, 'sqlite': 3883, 'string': 7926, 'swift': 12569, 'swing': 4284, 'symfony': 3612, 'twitter-bootstrap': 5700, 'typescript': 3763, 'unit-testing': 3568, 'vb.net': 7241, 'vba': 7963, 'visual-studio': 4969, 'web-services': 3567, 'windows': 7727, 'winforms': 4863, 'wordpress': 8452, 'wpf': 8575, 'xcode': 7737, 'xml': 10735}\n"
     ]
    }
   ],
   "source": [
    "max_tags = 100\n",
    "\n",
    "def tokenize_tags(text):\n",
    "    return text.split('|')\n",
    "\n",
    "tags_vect = CountVectorizer(tokenizer=tokenize_tags, max_features=max_tags)\n",
    "tags = tags_vect.fit_transform(tags)\n",
    "tags = tags.toarray()\n",
    "print('Number of tags: ', len(tags_vect.vocabulary_))\n",
    "\n",
    "tags_token = tags_vect.get_feature_names()\n",
    "tag_frequency = tags.sum(axis=0)\n",
    "print('The list of tags with frequency is: ')\n",
    "print(dict(zip(tags_token, tag_frequency)))"
   ]
  },
  {
   "cell_type": "markdown",
   "metadata": {},
   "source": [
    "Histogram of number of tags in each question"
   ]
  },
  {
   "cell_type": "code",
   "execution_count": 8,
   "metadata": {},
   "outputs": [
    {
     "data": {
      "text/plain": [
       "Text(0,0.5,'Number of questions')"
      ]
     },
     "execution_count": 8,
     "metadata": {},
     "output_type": "execute_result"
    },
    {
     "data": {
      "image/png": "[encoded data removed]",
      "text/plain": [
       "<Figure size 432x288 with 1 Axes>"
      ]
     },
     "metadata": {
      "needs_background": "light"
     },
     "output_type": "display_data"
    }
   ],
   "source": [
    "plt.hist(tags.sum(axis=1))\n",
    "plt.xlabel('Number of tags for a question')\n",
    "plt.ylabel('Number of questions')"
   ]
  },
  {
   "cell_type": "markdown",
   "metadata": {},
   "source": [
    "### Split test and train data set"
   ]
  },
  {
   "cell_type": "code",
   "execution_count": 9,
   "metadata": {},
   "outputs": [],
   "source": [
    "X_train, X_test, y_train, y_test = train_test_split(questions, tags, \n",
    "                                                    test_size=0.1, \n",
    "                                                    random_state=random_state)"
   ]
  },
  {
   "cell_type": "markdown",
   "metadata": {},
   "source": [
    "### Sample weight\n",
    "Evaluate sample weight from y_train data"
   ]
  },
  {
   "cell_type": "code",
   "execution_count": null,
   "metadata": {},
   "outputs": [],
   "source": [
    "sample_weight = compute_sample_weight('balanced', y_test)\n",
    "sample_weight"
   ]
  },
  {
   "cell_type": "code",
   "execution_count": null,
   "metadata": {},
   "outputs": [],
   "source": [
    "np.sum(sample_weight)"
   ]
  },
  {
   "cell_type": "markdown",
   "metadata": {},
   "source": [
    "### Evaluation metrics"
   ]
  },
  {
   "cell_type": "code",
   "execution_count": 10,
   "metadata": {},
   "outputs": [],
   "source": [
    "def eval_metrics(y_test, y_predicted, print_metrics=True):\n",
    "    \n",
    "    accuracy = accuracy_score(y_test, y_predicted)\n",
    "    precision = precision_score(y_test, y_predicted, average='weighted')\n",
    "    recall = recall_score(y_test, y_predicted, average='weighted')\n",
    "    f1 = f1_score(y_test, y_predicted, average='weighted')\n",
    "    \n",
    "    if print_metrics:\n",
    "        print(\"accuracy: %.3f - precision: %.3f - recall: %.3f - f1: %.3f\" % (\n",
    "            accuracy, precision, recall, f1))\n",
    "    return accuracy, precision, recall, f1"
   ]
  },
  {
   "cell_type": "markdown",
   "metadata": {},
   "source": [
    "# Simple first order model: Bag of words with logistic regression\n"
   ]
  },
  {
   "cell_type": "markdown",
   "metadata": {},
   "source": [
    "### Bag of words embedding for quesitons\n",
    "\n",
    "Remove common words and words appearing very less number of times from the corpus"
   ]
  },
  {
   "cell_type": "code",
   "execution_count": null,
   "metadata": {},
   "outputs": [],
   "source": [
    "def tokenize_question(text):\n",
    "    return text.split()\n",
    "\n",
    "bag_vect = CountVectorizer(tokenizer=tokenize_question,\n",
    "                               stop_words='english',\n",
    "                               min_df=3,\n",
    "                               max_df=0.5)\n",
    "\n",
    "X_train_bag = bag_vect.fit_transform(X_train)\n",
    "X_test_bag = bag_vect.transform(X_test)\n",
    "print('The number of words in the vocabulary is: ', len(bag_vect.vocabulary_))"
   ]
  },
  {
   "cell_type": "markdown",
   "metadata": {},
   "source": [
    "### Logistic regression with binary relevance\n",
    "Since this is a multi-label classificaiton, we will use binary relevance on top of logistical regression. This basically splits each label as a seperate classification. "
   ]
  },
  {
   "cell_type": "code",
   "execution_count": null,
   "metadata": {},
   "outputs": [],
   "source": [
    "%%time\n",
    "bag_log_clf = OneVsRestClassifier(LogisticRegression())\n",
    "\n",
    "bag_log_clf.fit(X_train_bag, y_train)\n",
    "\n",
    "print('Train score')\n",
    "y_train_bag_predict = bag_log_clf.predict(X_train_bag)\n",
    "eval_metrics(y_train, y_train_bag_predict)\n",
    "\n",
    "print('Test score')\n",
    "y_test_bag_predict = bag_log_clf.predict(X_test_bag)\n",
    "eval_metrics(y_test, y_test_bag_predict)"
   ]
  },
  {
   "cell_type": "markdown",
   "metadata": {},
   "source": [
    "### Important words"
   ]
  },
  {
   "cell_type": "code",
   "execution_count": null,
   "metadata": {},
   "outputs": [],
   "source": [
    "importances = importances = bag_log_clf.estimators_[0].coef_[0]\n",
    "for i in range(1,len(bag_log_clf.estimators_)):\n",
    "    importances += bag_log_clf.estimators_[i].coef_[0]\n",
    "\n",
    "importances = importances/sum(importances)\n",
    "    \n",
    "feature_imps = {'importances':importances, 'feature':bag_vect.get_feature_names()}\n",
    "feature_imps = pd.DataFrame(feature_imps)\n",
    "feature_imps = feature_imps.sort_values('importances', ascending=False)\n",
    "# Normalize importance and add cumulative importance\n",
    "feature_imps['cum_imp'] = feature_imps['importances'].cumsum()\n",
    "feature_imps['importances'] = feature_imps['importances']/feature_imps['importances'].max()\n",
    "feature_imps = feature_imps.reset_index(drop=True)\n",
    "feature_imps['no_features'] = feature_imps.index + 1\n",
    "feature_imps[['feature', 'importances', 'cum_imp']].head(20)"
   ]
  },
  {
   "cell_type": "markdown",
   "metadata": {},
   "source": [
    "## TFIDF with logistic regression and binary relevance"
   ]
  },
  {
   "cell_type": "markdown",
   "metadata": {},
   "source": [
    "### TFIDF on bag of words embedding for quesitons"
   ]
  },
  {
   "cell_type": "code",
   "execution_count": 19,
   "metadata": {},
   "outputs": [
    {
     "name": "stdout",
     "output_type": "stream",
     "text": [
      "The number of words in the vocabulary is:  30308\n"
     ]
    }
   ],
   "source": [
    "def tokenize_question(text):\n",
    "    return text.split()\n",
    "\n",
    "tfidf_vect = TfidfVectorizer(tokenizer=tokenize_question,\n",
    "                               stop_words='english',\n",
    "                               min_df=4,\n",
    "                               max_df=0.5)\n",
    "\n",
    "X_train_tfidf = tfidf_vect.fit_transform(X_train)\n",
    "X_test_tfidf = tfidf_vect.transform(X_test)\n",
    "print('The number of words in the vocabulary is: ', len(tfidf_vect.vocabulary_))"
   ]
  },
  {
   "cell_type": "markdown",
   "metadata": {},
   "source": [
    "### Logistic regression with binary relevance"
   ]
  },
  {
   "cell_type": "code",
   "execution_count": 20,
   "metadata": {},
   "outputs": [
    {
     "name": "stdout",
     "output_type": "stream",
     "text": [
      "Train score\n",
      "accuracy: 0.385 - precision: 0.785 - recall: 0.433 - f1: 0.550\n",
      "Test score\n",
      "accuracy: 0.372 - precision: 0.768 - recall: 0.423 - f1: 0.538\n",
      "CPU times: user 18min 59s, sys: 17.3 s, total: 19min 16s\n",
      "Wall time: 5min 7s\n"
     ]
    }
   ],
   "source": [
    "%%time\n",
    "tfidf_log_clf = OneVsRestClassifier(LogisticRegression())\n",
    "\n",
    "tfidf_log_clf.fit(X_train_tfidf, y_train)\n",
    "\n",
    "print('Train score')\n",
    "y_train_tfidf_predict = tfidf_log_clf.predict(X_train_tfidf)\n",
    "eval_metrics(y_train, y_train_tfidf_predict)\n",
    "\n",
    "print('Test score')\n",
    "y_test_tfidf_predict = tfidf_log_clf.predict(X_test_tfidf)\n",
    "eval_metrics(y_test, y_test_tfidf_predict)"
   ]
  },
  {
   "cell_type": "markdown",
   "metadata": {},
   "source": [
    "### Importance words"
   ]
  },
  {
   "cell_type": "code",
   "execution_count": null,
   "metadata": {},
   "outputs": [],
   "source": [
    "importances = importances = tfidf_log_clf.estimators_[0].coef_[0]\n",
    "for i in range(1,len(tfidf_log_clf.estimators_)):\n",
    "    importances += tfidf_log_clf.estimators_[i].coef_[0]\n",
    "\n",
    "importances = importances/sum(importances)\n",
    "    \n",
    "feature_imps = {'importances':importances, 'feature':tfidf_vect.get_feature_names()}\n",
    "feature_imps = pd.DataFrame(feature_imps)\n",
    "feature_imps = feature_imps.sort_values('importances', ascending=False)\n",
    "# Normalize importance and add cumulative importance\n",
    "feature_imps['cum_imp'] = feature_imps['importances'].cumsum()\n",
    "feature_imps['importances'] = feature_imps['importances']/feature_imps['importances'].max()\n",
    "feature_imps = feature_imps.reset_index(drop=True)\n",
    "feature_imps['no_features'] = feature_imps.index + 1\n",
    "feature_imps[['feature', 'importances', 'cum_imp']].head(20)"
   ]
  },
  {
   "cell_type": "markdown",
   "metadata": {},
   "source": [
    "## TFIDF with Naives Bayes Classifier and binary relevance"
   ]
  },
  {
   "cell_type": "markdown",
   "metadata": {},
   "source": [
    "### TFIDF on bag of words embedding for quesitons"
   ]
  },
  {
   "cell_type": "code",
   "execution_count": null,
   "metadata": {},
   "outputs": [],
   "source": [
    "def tokenize_question(text):\n",
    "    return text.split()\n",
    "\n",
    "tfidf_vect = TfidfVectorizer(tokenizer=tokenize_question,\n",
    "                               stop_words='english',\n",
    "                               min_df=4,\n",
    "                               max_df=0.5)\n",
    "\n",
    "X_train_tfidf = tfidf_vect.fit_transform(X_train)\n",
    "X_test_tfidf = tfidf_vect.transform(X_test)\n",
    "print('The number of words in the vocabulary is: ', len(tfidf_vect.vocabulary_))"
   ]
  },
  {
   "cell_type": "markdown",
   "metadata": {},
   "source": [
    "### Naives Bayes with binary relevance"
   ]
  },
  {
   "cell_type": "code",
   "execution_count": null,
   "metadata": {},
   "outputs": [],
   "source": [
    "%%time\n",
    "tfidf_log_clf = OneVsRestClassifier(GaussianNB())\n",
    "\n",
    "tfidf_log_clf.fit(X_train_tfidf, y_train)\n",
    "\n",
    "print('Train score')\n",
    "y_train_tfidf_predict = tfidf_log_clf.predict(X_train_tfidf)\n",
    "eval_metrics(y_train, y_train_tfidf_predict)\n",
    "\n",
    "print('Test score')\n",
    "y_test_tfidf_predict = tfidf_log_clf.predict(X_test_tfidf)\n",
    "eval_metrics(y_test, y_test_tfidf_predict)"
   ]
  },
  {
   "cell_type": "markdown",
   "metadata": {},
   "source": [
    "### Importance Words"
   ]
  },
  {
   "cell_type": "code",
   "execution_count": null,
   "metadata": {},
   "outputs": [],
   "source": [
    "importances = importances = tfidf_log_clf.estimators_[0].coef_[0]\n",
    "for i in range(1,len(tfidf_log_clf.estimators_)):\n",
    "    importances += tfidf_log_clf.estimators_[i].coef_[0]\n",
    "\n",
    "importances = importances/sum(importances)\n",
    "    \n",
    "feature_imps = {'importances':importances, 'feature':tfidf_vect.get_feature_names()}\n",
    "feature_imps = pd.DataFrame(feature_imps)\n",
    "feature_imps = feature_imps.sort_values('importances', ascending=False)\n",
    "# Normalize importance and add cumulative importance\n",
    "feature_imps['cum_imp'] = feature_imps['importances'].cumsum()\n",
    "feature_imps['importances'] = feature_imps['importances']/feature_imps['importances'].max()\n",
    "feature_imps = feature_imps.reset_index(drop=True)\n",
    "feature_imps['no_features'] = feature_imps.index + 1\n",
    "feature_imps[['feature', 'importances', 'cum_imp']].head(20)"
   ]
  },
  {
   "cell_type": "markdown",
   "metadata": {},
   "source": [
    "# Convolutional sentence classification model"
   ]
  },
  {
   "cell_type": "markdown",
   "metadata": {},
   "source": [
    "## Load Word2Vec"
   ]
  },
  {
   "cell_type": "code",
   "execution_count": 11,
   "metadata": {},
   "outputs": [],
   "source": [
    "import gensim\n",
    "\n",
    "word2vec_path = '../../../Data/stackoverflow/GoogleNews-vectors-negative300.bin.gz'\n",
    "word2vec = gensim.models.KeyedVectors.load_word2vec_format(word2vec_path, binary=True)"
   ]
  },
  {
   "cell_type": "markdown",
   "metadata": {},
   "source": [
    "### Sequence length"
   ]
  },
  {
   "cell_type": "code",
   "execution_count": 12,
   "metadata": {},
   "outputs": [
    {
     "data": {
      "text/plain": [
       "Text(0,0.5,'number')"
      ]
     },
     "execution_count": 12,
     "metadata": {},
     "output_type": "execute_result"
    },
    {
     "data": {
      "image/png": "[encoded data removed]",
      "text/plain": [
       "<Figure size 432x288 with 1 Axes>"
      ]
     },
     "metadata": {
      "needs_background": "light"
     },
     "output_type": "display_data"
    }
   ],
   "source": [
    "plt.hist([len(x) for x in X_train], bins=50)\n",
    "plt.xlabel('Length of sequence')\n",
    "plt.ylabel('number')"
   ]
  },
  {
   "cell_type": "markdown",
   "metadata": {},
   "source": [
    "### Hyerparameters related to sentece creation"
   ]
  },
  {
   "cell_type": "code",
   "execution_count": 13,
   "metadata": {},
   "outputs": [],
   "source": [
    "max_seq_length = 35\n",
    "vocab_size = 100000\n",
    "embedding_size = 300"
   ]
  },
  {
   "cell_type": "markdown",
   "metadata": {},
   "source": [
    "### Text preprocessing"
   ]
  },
  {
   "cell_type": "code",
   "execution_count": 14,
   "metadata": {},
   "outputs": [],
   "source": [
    "import tensorflow as tf\n",
    "from tensorflow.keras.preprocessing.text import Tokenizer\n",
    "from tensorflow.keras.preprocessing.sequence import pad_sequences"
   ]
  },
  {
   "cell_type": "code",
   "execution_count": 15,
   "metadata": {},
   "outputs": [
    {
     "name": "stdout",
     "output_type": "stream",
     "text": [
      "(100001, 300)\n"
     ]
    }
   ],
   "source": [
    "tokenizer = Tokenizer(lower=True, split=' ', filters='')\n",
    "tokenizer.fit_on_texts(X_train)\n",
    "tokenizer.num_words = vocab_size\n",
    "\n",
    "seq_train = tokenizer.texts_to_sequences(X_train)\n",
    "seq_test = tokenizer.texts_to_sequences(X_test)\n",
    "\n",
    "seq_length = [len(x) for x in seq_train]\n",
    "max_seq_length = max(seq_length)\n",
    "\n",
    "seq_train = pad_sequences(seq_train, maxlen=max_seq_length, padding='post', truncating='post')\n",
    "seq_test = pad_sequences(seq_test, maxlen=max_seq_length, padding='post', truncating='post')\n",
    "\n",
    "embedding_weights = np.zeros((vocab_size+1, embedding_size))\n",
    "word2vec_counter, randword_counter = 0, 0\n",
    "for word, index in tokenizer.word_index.items():\n",
    "    if index > vocab_size:\n",
    "        break\n",
    "        \n",
    "    if word in word2vec:\n",
    "        embedding_weights[index,:] = word2vec[word]\n",
    "        word2vec_counter += 1\n",
    "    else:\n",
    "        embedding_weights[index,:] = np.random.normal(0, 0.15, embedding_size)\n",
    "        randword_counter += 1\n",
    "        \n",
    "print(embedding_weights.shape)"
   ]
  },
  {
   "cell_type": "code",
   "execution_count": 16,
   "metadata": {},
   "outputs": [
    {
     "data": {
      "text/plain": [
       "Text(0,0.5,'number')"
      ]
     },
     "execution_count": 16,
     "metadata": {},
     "output_type": "execute_result"
    },
    {
     "data": {
      "image/png": "[encoded data removed]",
      "text/plain": [
       "<Figure size 432x288 with 1 Axes>"
      ]
     },
     "metadata": {
      "needs_background": "light"
     },
     "output_type": "display_data"
    }
   ],
   "source": [
    "plt.hist(seq_length, bins=50)\n",
    "plt.xlabel('Length of sequence')\n",
    "plt.ylabel('number')"
   ]
  },
  {
   "cell_type": "code",
   "execution_count": null,
   "metadata": {},
   "outputs": [],
   "source": [
    "from tensorflow.keras.layers import Embedding\n",
    "from tensorflow.keras.layers import Dense, Input, Flatten\n",
    "from tensorflow.keras.layers import Conv1D, MaxPooling1D, Embedding, concatenate, Dropout\n",
    "from tensorflow.keras.models import Model"
   ]
  },
  {
   "cell_type": "code",
   "execution_count": null,
   "metadata": {},
   "outputs": [],
   "source": [
    "max_seq_length=35\n",
    "embedding_layer = Embedding(embedding_weights.shape[0],\n",
    "                            embedding_weights.shape[1],\n",
    "                            weights=[embedding_weights],\n",
    "                            input_length=max_seq_length,\n",
    "                            trainable=True)\n",
    "\n",
    "sequence_input = Input(shape=(max_seq_length,), dtype='int32')\n",
    "embedded_sequences = embedding_layer(sequence_input)\n",
    "\n",
    "convs = []\n",
    "filter_sizes = [3,4,5]\n",
    "\n",
    "\n",
    "for fsz in filter_sizes:\n",
    "    l_conv = Conv1D(128,fsz,activation='relu',strides=1)(embedded_sequences)\n",
    "#     l_pool = MaxPooling1D(3)(l_conv)\n",
    "    convs.append(l_conv)\n",
    "\n",
    "l_merge = concatenate(convs, axis=1)\n",
    "\n",
    "l_cov1= Conv1D(64, 5, activation='relu',strides=2)(l_merge)\n",
    "# l_pool1 = MaxPooling1D(3)(l_cov1)\n",
    "\n",
    "l_cov2 = Conv1D(16, 5, activation='relu',strides=2)(l_cov1)\n",
    "# l_pool2 = MaxPooling1D(3)(l_cov2)\n",
    "\n",
    "l_flat = Flatten()(l_cov2)\n",
    "l_dense = Dense(250, activation='relu')(l_flat)\n",
    "preds = Dense(100, activation='softmax')(l_dense)\n",
    "\n",
    "\n",
    "model = Model(sequence_input, preds)\n",
    "model.compile(loss='categorical_crossentropy',\n",
    "              optimizer='rmsprop',\n",
    "              metrics=['acc'])\n",
    "\n",
    "print(\"model fitting - simplified convolutional neural network\")\n",
    "model.summary()"
   ]
  },
  {
   "cell_type": "code",
   "execution_count": null,
   "metadata": {},
   "outputs": [],
   "source": [
    "y_train.dtype"
   ]
  },
  {
   "cell_type": "code",
   "execution_count": null,
   "metadata": {},
   "outputs": [],
   "source": [
    "np.max(tags)\n",
    "max_seq_length = 35\n",
    "vocab_size = 100000\n",
    "embedding_size = 300"
   ]
  },
  {
   "cell_type": "code",
   "execution_count": 21,
   "metadata": {},
   "outputs": [],
   "source": [
    "from model import ConvText\n",
    "conv_model = ConvText(max_seq_length, max_tags, embedding_weights)"
   ]
  },
  {
   "cell_type": "code",
   "execution_count": 22,
   "metadata": {},
   "outputs": [
    {
     "name": "stdout",
     "output_type": "stream",
     "text": [
      "Epoch 1/3\n",
      "200000/200000 [==============================] - 717s 4ms/step - Loss: 0.0499\n",
      "Training Evaluation Metrics:\n",
      "F1_score: 0.3184 - Precision: 0.6069 - Recall: 0.2219 - Acc: 0.2700\n",
      "Validation evaluation metrics:\n",
      "F1_score: 0.4892 - Precision: 0.7416 - Recall: 0.3824 - Acc: 0.3513 - Loss: 0.0355\n",
      "Epoch 2/3\n",
      "200000/200000 [==============================] - 720s 4ms/step - Loss: 0.0319\n",
      "Training Evaluation Metrics:\n",
      "F1_score: 0.5381 - Precision: 0.7491 - Recall: 0.4346 - Acc: 0.3810\n",
      "Validation evaluation metrics:\n",
      "F1_score: 0.5389 - Precision: 0.7232 - Recall: 0.4478 - Acc: 0.3686 - Loss: 0.0337\n",
      "Epoch 3/3\n",
      "200000/200000 [==============================] - 760s 4ms/step - Loss: 0.0272\n",
      "Training Evaluation Metrics:\n",
      "F1_score: 0.6028 - Precision: 0.7744 - Recall: 0.5092 - Acc: 0.4320\n",
      "Validation evaluation metrics:\n",
      "F1_score: 0.5434 - Precision: 0.7124 - Recall: 0.4534 - Acc: 0.3688 - Loss: 0.0345\n"
     ]
    }
   ],
   "source": [
    "conv_model.fit(x=seq_train[:200000,:], y=y_train[:200000,:], batch_size=100, val_x=seq_test, val_y=y_test, epochs=3)"
   ]
  },
  {
   "cell_type": "code",
   "execution_count": null,
   "metadata": {},
   "outputs": [],
   "source": [
    "y_train.dtype"
   ]
  },
  {
   "cell_type": "code",
   "execution_count": 25,
   "metadata": {},
   "outputs": [
    {
     "name": "stdout",
     "output_type": "stream",
     "text": [
      "Epoch 1/3\n",
      "200000/200000 [==============================] - 782s 4ms/step - Loss: 0.0491\n",
      "Training Evaluation Metrics:\n",
      "F1_score: 0.3274 - Precision: 0.6045 - Recall: 0.2311 - Acc: 0.2720\n",
      "Validation evaluation metrics:\n",
      "F1_score: 0.4893 - Precision: 0.7323 - Recall: 0.3870 - Acc: 0.3485 - Loss: 0.0357\n",
      "Epoch 2/3\n",
      "200000/200000 [==============================] - 765s 4ms/step - Loss: 0.0318\n",
      "Training Evaluation Metrics:\n",
      "F1_score: 0.5395 - Precision: 0.7436 - Recall: 0.4369 - Acc: 0.3828\n",
      "Validation evaluation metrics:\n",
      "F1_score: 0.5267 - Precision: 0.7453 - Recall: 0.4271 - Acc: 0.3699 - Loss: 0.0337\n",
      "Epoch 3/3\n",
      "200000/200000 [==============================] - 741s 4ms/step - Loss: 0.0270\n",
      "Training Evaluation Metrics:\n",
      "F1_score: 0.6037 - Precision: 0.7769 - Recall: 0.5104 - Acc: 0.4340\n",
      "Validation evaluation metrics:\n",
      "F1_score: 0.5278 - Precision: 0.7448 - Recall: 0.4260 - Acc: 0.3718 - Loss: 0.0345\n"
     ]
    }
   ],
   "source": [
    "from model2 import ConvText\n",
    "conv_model = ConvText(max_seq_length, max_tags, embedding_weights)\n",
    "conv_model.fit(x=seq_train[:200000,:], y=y_train[:200000,:], batch_size=100, val_x=seq_test, val_y=y_test, epochs=3)"
   ]
  },
  {
   "cell_type": "code",
   "execution_count": null,
   "metadata": {},
   "outputs": [],
   "source": []
  }
 ],
 "metadata": {
  "kernelspec": {
   "display_name": "Python 3",
   "language": "python",
   "name": "python3"
  },
  "language_info": {
   "codemirror_mode": {
    "name": "ipython",
    "version": 3
   },
   "file_extension": ".py",
   "mimetype": "text/x-python",
   "name": "python",
   "nbconvert_exporter": "python",
   "pygments_lexer": "ipython3",
   "version": "3.6.6"
  }
 },
 "nbformat": 4,
 "nbformat_minor": 2
}
