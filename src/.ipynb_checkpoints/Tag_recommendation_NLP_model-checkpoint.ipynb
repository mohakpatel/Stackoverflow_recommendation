{
 "cells": [
  {
   "cell_type": "markdown",
   "metadata": {},
   "source": [
    "## StackOverflow Question Tagging\n",
    "\n",
    "Here, I implement a natural language processing model to auto-tag questions on StackOverflow from the question title.\n",
    "\n",
    "StackOerflow is a content based website where users post questions and answers usually related to programming. This allows other users to learn from the community. To improve search and categorization of the questions, tags are very useful meta-data associated with the question. Usually, the users provide tags for their questions. But it can be challending for a beginner to properly tag the question. And an incorrectly tagged question would be harder for the community to find and answer. This not just an issue for begineer users, even experienced users can find the feature of auto-suggested tags to be very useful. It just makes a better user experiences. Moreover, suggesting appropriate tags reduces duplication of similar tags on the platform. \n",
    "\n",
    "As we can see tagging questions can be very useful, so in this project I try two NLP model to tag the questions from the question title. The two approaches that I use are:\n",
    "1. TFIDF with logistic regression and binary relevance\n",
    "2. Convolutional multi-label sentence classificaiton model"
   ]
  },
  {
   "cell_type": "code",
   "execution_count": 1,
   "metadata": {},
   "outputs": [],
   "source": [
    "import numpy as np\n",
    "import pandas as pd\n",
    "import matplotlib.pyplot as plt\n",
    "import time\n",
    "import re\n",
    "import warnings; warnings.simplefilter('ignore')\n",
    "from sklearn.utils import shuffle\n",
    "from sklearn.feature_extraction.text import CountVectorizer, TfidfVectorizer\n",
    "from sklearn.model_selection import train_test_split\n",
    "from sklearn.utils.class_weight import compute_sample_weight\n",
    "from sklearn.linear_model import LogisticRegression, LogisticRegressionCV \n",
    "from sklearn.metrics import accuracy_score, precision_score, recall_score, f1_score\n",
    "from sklearn.multiclass import OneVsRestClassifier\n",
    "from sklearn.naive_bayes import GaussianNB\n",
    "import gensim\n",
    "import tensorflow as tf\n",
    "from tensorflow.keras.preprocessing.text import Tokenizer\n",
    "from tensorflow.keras.preprocessing.sequence import pad_sequences\n",
    "\n",
    "random_state = 747"
   ]
  },
  {
   "cell_type": "markdown",
   "metadata": {},
   "source": [
    "## StackOverflow Question Data\n",
    "\n",
    "Thankfully, StackOverflow provides there data easily availabe from Google BigQuery. Since the data quantity is huge, I can not directly download it from BigQuery. So I transferred it to Google Could Storage and downloaded it from their in multiple csv files. And wrote up a script to aggregate all the data into a single csv file. \n",
    "\n",
    "So lets just load the data and look into it."
   ]
  },
  {
   "cell_type": "code",
   "execution_count": 2,
   "metadata": {},
   "outputs": [
    {
     "data": {
      "text/html": [
       "<div>\n",
       "<style scoped>\n",
       "    .dataframe tbody tr th:only-of-type {\n",
       "        vertical-align: middle;\n",
       "    }\n",
       "\n",
       "    .dataframe tbody tr th {\n",
       "        vertical-align: top;\n",
       "    }\n",
       "\n",
       "    .dataframe thead th {\n",
       "        text-align: right;\n",
       "    }\n",
       "</style>\n",
       "<table border=\"1\" class=\"dataframe\">\n",
       "  <thead>\n",
       "    <tr style=\"text-align: right;\">\n",
       "      <th></th>\n",
       "      <th>title</th>\n",
       "      <th>tags</th>\n",
       "    </tr>\n",
       "  </thead>\n",
       "  <tbody>\n",
       "    <tr>\n",
       "      <th>0</th>\n",
       "      <td>Issue with the webpack-bundler</td>\n",
       "      <td>webpack</td>\n",
       "    </tr>\n",
       "    <tr>\n",
       "      <th>1</th>\n",
       "      <td>Reducing queries on Firebase</td>\n",
       "      <td>javascript|firebase</td>\n",
       "    </tr>\n",
       "    <tr>\n",
       "      <th>2</th>\n",
       "      <td>Passing a Matrix from C++ to MATLAB</td>\n",
       "      <td>c++|matlab|matrix</td>\n",
       "    </tr>\n",
       "    <tr>\n",
       "      <th>3</th>\n",
       "      <td>window.onload vs. body.onload vs. document.onr...</td>\n",
       "      <td>javascript</td>\n",
       "    </tr>\n",
       "    <tr>\n",
       "      <th>4</th>\n",
       "      <td>How to display two fragments vertically (maste...</td>\n",
       "      <td>android|android-layout|listview|android-fragments</td>\n",
       "    </tr>\n",
       "    <tr>\n",
       "      <th>5</th>\n",
       "      <td>How to pass data from servlet to JSP without f...</td>\n",
       "      <td>java|jsp|servlets|jstl</td>\n",
       "    </tr>\n",
       "    <tr>\n",
       "      <th>6</th>\n",
       "      <td>collection from customer model is not retrievi...</td>\n",
       "      <td>collections|model|magento2</td>\n",
       "    </tr>\n",
       "    <tr>\n",
       "      <th>7</th>\n",
       "      <td>I need to generate and display a random number...</td>\n",
       "      <td>java|android|random</td>\n",
       "    </tr>\n",
       "    <tr>\n",
       "      <th>8</th>\n",
       "      <td>Cannot resolve bundle style</td>\n",
       "      <td>python|django|webpack</td>\n",
       "    </tr>\n",
       "    <tr>\n",
       "      <th>9</th>\n",
       "      <td>Python run set.intersection with set of sets a...</td>\n",
       "      <td>python-2.7</td>\n",
       "    </tr>\n",
       "  </tbody>\n",
       "</table>\n",
       "</div>"
      ],
      "text/plain": [
       "                                               title  \\\n",
       "0                     Issue with the webpack-bundler   \n",
       "1                       Reducing queries on Firebase   \n",
       "2                Passing a Matrix from C++ to MATLAB   \n",
       "3  window.onload vs. body.onload vs. document.onr...   \n",
       "4  How to display two fragments vertically (maste...   \n",
       "5  How to pass data from servlet to JSP without f...   \n",
       "6  collection from customer model is not retrievi...   \n",
       "7  I need to generate and display a random number...   \n",
       "8                        Cannot resolve bundle style   \n",
       "9  Python run set.intersection with set of sets a...   \n",
       "\n",
       "                                                tags  \n",
       "0                                            webpack  \n",
       "1                                javascript|firebase  \n",
       "2                                  c++|matlab|matrix  \n",
       "3                                         javascript  \n",
       "4  android|android-layout|listview|android-fragments  \n",
       "5                             java|jsp|servlets|jstl  \n",
       "6                         collections|model|magento2  \n",
       "7                                java|android|random  \n",
       "8                              python|django|webpack  \n",
       "9                                         python-2.7  "
      ]
     },
     "execution_count": 2,
     "metadata": {},
     "output_type": "execute_result"
    }
   ],
   "source": [
    "file = '../../../Data/stackoverflow/questions.csv'\n",
    "df = pd.read_csv(file, usecols=['title', 'tags'])\n",
    "df.head(10)"
   ]
  },
  {
   "cell_type": "markdown",
   "metadata": {},
   "source": [
    "Amount of data"
   ]
  },
  {
   "cell_type": "code",
   "execution_count": 3,
   "metadata": {},
   "outputs": [
    {
     "data": {
      "text/plain": [
       "(16389567, 2)"
      ]
     },
     "execution_count": 3,
     "metadata": {},
     "output_type": "execute_result"
    }
   ],
   "source": [
    "df.shape"
   ]
  },
  {
   "cell_type": "markdown",
   "metadata": {},
   "source": [
    "### Data cleaning\n",
    "\n",
    "I checked the data, and most of the content is very good. Just some rows and missing data and I'm removing it. "
   ]
  },
  {
   "cell_type": "code",
   "execution_count": 4,
   "metadata": {},
   "outputs": [
    {
     "data": {
      "text/plain": [
       "title     0\n",
       "tags     24\n",
       "dtype: int64"
      ]
     },
     "execution_count": 4,
     "metadata": {},
     "output_type": "execute_result"
    }
   ],
   "source": [
    "df.isnull().sum()"
   ]
  },
  {
   "cell_type": "code",
   "execution_count": 5,
   "metadata": {},
   "outputs": [],
   "source": [
    "df = df.dropna()"
   ]
  },
  {
   "cell_type": "markdown",
   "metadata": {},
   "source": [
    "### Reduce data size\n",
    "\n",
    "Data is too big to train on my computer. So I will train the model on randomly selected 250,000 rows."
   ]
  },
  {
   "cell_type": "code",
   "execution_count": 6,
   "metadata": {},
   "outputs": [],
   "source": [
    "df = shuffle(df, random_state=random_state)\n",
    "df = df[:250000]"
   ]
  },
  {
   "cell_type": "markdown",
   "metadata": {},
   "source": [
    "### Save trimmed data"
   ]
  },
  {
   "cell_type": "code",
   "execution_count": 7,
   "metadata": {},
   "outputs": [],
   "source": [
    "df.to_csv('../../../Data/stackoverflow/clean_questions.csv')"
   ]
  },
  {
   "cell_type": "markdown",
   "metadata": {},
   "source": [
    "### Load data"
   ]
  },
  {
   "cell_type": "code",
   "execution_count": 8,
   "metadata": {},
   "outputs": [
    {
     "data": {
      "text/html": [
       "<div>\n",
       "<style scoped>\n",
       "    .dataframe tbody tr th:only-of-type {\n",
       "        vertical-align: middle;\n",
       "    }\n",
       "\n",
       "    .dataframe tbody tr th {\n",
       "        vertical-align: top;\n",
       "    }\n",
       "\n",
       "    .dataframe thead th {\n",
       "        text-align: right;\n",
       "    }\n",
       "</style>\n",
       "<table border=\"1\" class=\"dataframe\">\n",
       "  <thead>\n",
       "    <tr style=\"text-align: right;\">\n",
       "      <th></th>\n",
       "      <th>Unnamed: 0</th>\n",
       "      <th>title</th>\n",
       "      <th>tags</th>\n",
       "    </tr>\n",
       "  </thead>\n",
       "  <tbody>\n",
       "    <tr>\n",
       "      <th>0</th>\n",
       "      <td>11535818</td>\n",
       "      <td>Angular 4 use the values from something.compon...</td>\n",
       "      <td>javascript|angular|typescript</td>\n",
       "    </tr>\n",
       "    <tr>\n",
       "      <th>1</th>\n",
       "      <td>2504283</td>\n",
       "      <td>Why is the 'this' keyword required to call an ...</td>\n",
       "      <td>c#|extension-methods</td>\n",
       "    </tr>\n",
       "    <tr>\n",
       "      <th>2</th>\n",
       "      <td>11317072</td>\n",
       "      <td>How do I store Information when I run the program</td>\n",
       "      <td>python</td>\n",
       "    </tr>\n",
       "    <tr>\n",
       "      <th>3</th>\n",
       "      <td>13210416</td>\n",
       "      <td>if statement, doesn't work</td>\n",
       "      <td>expect</td>\n",
       "    </tr>\n",
       "    <tr>\n",
       "      <th>4</th>\n",
       "      <td>939640</td>\n",
       "      <td>Laravel 5.5 redirect to url with anchor and wi...</td>\n",
       "      <td>laravel|laravel-5|laravel-5.5|laravel-form</td>\n",
       "    </tr>\n",
       "    <tr>\n",
       "      <th>5</th>\n",
       "      <td>10370658</td>\n",
       "      <td>multiline grid extjs</td>\n",
       "      <td>ruby-on-rails|extjs|grid|multiline</td>\n",
       "    </tr>\n",
       "    <tr>\n",
       "      <th>6</th>\n",
       "      <td>4083000</td>\n",
       "      <td>Jade access images from parent directory</td>\n",
       "      <td>node.js|express|parent-child|pug|directory-str...</td>\n",
       "    </tr>\n",
       "    <tr>\n",
       "      <th>7</th>\n",
       "      <td>9656308</td>\n",
       "      <td>Rails 3 superclass mismatch for class Location</td>\n",
       "      <td>ruby-on-rails-3|superclass</td>\n",
       "    </tr>\n",
       "    <tr>\n",
       "      <th>8</th>\n",
       "      <td>3134627</td>\n",
       "      <td>How can I get the number of lines of a text fi...</td>\n",
       "      <td>text|count|specman</td>\n",
       "    </tr>\n",
       "    <tr>\n",
       "      <th>9</th>\n",
       "      <td>5991569</td>\n",
       "      <td>Clearcase Relocation command</td>\n",
       "      <td>clearcase</td>\n",
       "    </tr>\n",
       "  </tbody>\n",
       "</table>\n",
       "</div>"
      ],
      "text/plain": [
       "   Unnamed: 0                                              title  \\\n",
       "0    11535818  Angular 4 use the values from something.compon...   \n",
       "1     2504283  Why is the 'this' keyword required to call an ...   \n",
       "2    11317072  How do I store Information when I run the program   \n",
       "3    13210416                         if statement, doesn't work   \n",
       "4      939640  Laravel 5.5 redirect to url with anchor and wi...   \n",
       "5    10370658                               multiline grid extjs   \n",
       "6     4083000           Jade access images from parent directory   \n",
       "7     9656308     Rails 3 superclass mismatch for class Location   \n",
       "8     3134627  How can I get the number of lines of a text fi...   \n",
       "9     5991569                       Clearcase Relocation command   \n",
       "\n",
       "                                                tags  \n",
       "0                      javascript|angular|typescript  \n",
       "1                               c#|extension-methods  \n",
       "2                                             python  \n",
       "3                                             expect  \n",
       "4         laravel|laravel-5|laravel-5.5|laravel-form  \n",
       "5                 ruby-on-rails|extjs|grid|multiline  \n",
       "6  node.js|express|parent-child|pug|directory-str...  \n",
       "7                         ruby-on-rails-3|superclass  \n",
       "8                                 text|count|specman  \n",
       "9                                          clearcase  "
      ]
     },
     "execution_count": 8,
     "metadata": {},
     "output_type": "execute_result"
    }
   ],
   "source": [
    "df = pd.read_csv('../../../Data/stackoverflow/clean_questions.csv')\n",
    "df.head(10)"
   ]
  },
  {
   "cell_type": "markdown",
   "metadata": {},
   "source": [
    "### Clean title\n",
    "\n",
    "Here, for text classification, I clean the title by only allowing to keep alphabets, numbers and few symbols in the quesiton title. After this step, my tokenization step will only keep up words based on spaces. This approach seems rather simple but making a approach to account for different alphnumeric combinations associate with programming question turned out to be too complex. "
   ]
  },
  {
   "cell_type": "code",
   "execution_count": 9,
   "metadata": {},
   "outputs": [
    {
     "data": {
      "text/html": [
       "<div>\n",
       "<style scoped>\n",
       "    .dataframe tbody tr th:only-of-type {\n",
       "        vertical-align: middle;\n",
       "    }\n",
       "\n",
       "    .dataframe tbody tr th {\n",
       "        vertical-align: top;\n",
       "    }\n",
       "\n",
       "    .dataframe thead th {\n",
       "        text-align: right;\n",
       "    }\n",
       "</style>\n",
       "<table border=\"1\" class=\"dataframe\">\n",
       "  <thead>\n",
       "    <tr style=\"text-align: right;\">\n",
       "      <th></th>\n",
       "      <th>Unnamed: 0</th>\n",
       "      <th>title</th>\n",
       "      <th>tags</th>\n",
       "    </tr>\n",
       "  </thead>\n",
       "  <tbody>\n",
       "    <tr>\n",
       "      <th>0</th>\n",
       "      <td>11535818</td>\n",
       "      <td>angular 4 use the values from something compon...</td>\n",
       "      <td>javascript|angular|typescript</td>\n",
       "    </tr>\n",
       "    <tr>\n",
       "      <th>1</th>\n",
       "      <td>2504283</td>\n",
       "      <td>why is the  this  keyword required to call an ...</td>\n",
       "      <td>c#|extension-methods</td>\n",
       "    </tr>\n",
       "    <tr>\n",
       "      <th>2</th>\n",
       "      <td>11317072</td>\n",
       "      <td>how do i store information when i run the program</td>\n",
       "      <td>python</td>\n",
       "    </tr>\n",
       "    <tr>\n",
       "      <th>3</th>\n",
       "      <td>13210416</td>\n",
       "      <td>if statement  doesn t work</td>\n",
       "      <td>expect</td>\n",
       "    </tr>\n",
       "    <tr>\n",
       "      <th>4</th>\n",
       "      <td>939640</td>\n",
       "      <td>laravel 5 5 redirect to url with anchor and wi...</td>\n",
       "      <td>laravel|laravel-5|laravel-5.5|laravel-form</td>\n",
       "    </tr>\n",
       "    <tr>\n",
       "      <th>5</th>\n",
       "      <td>10370658</td>\n",
       "      <td>multiline grid extjs</td>\n",
       "      <td>ruby-on-rails|extjs|grid|multiline</td>\n",
       "    </tr>\n",
       "    <tr>\n",
       "      <th>6</th>\n",
       "      <td>4083000</td>\n",
       "      <td>jade access images from parent directory</td>\n",
       "      <td>node.js|express|parent-child|pug|directory-str...</td>\n",
       "    </tr>\n",
       "    <tr>\n",
       "      <th>7</th>\n",
       "      <td>9656308</td>\n",
       "      <td>rails 3 superclass mismatch for class location</td>\n",
       "      <td>ruby-on-rails-3|superclass</td>\n",
       "    </tr>\n",
       "    <tr>\n",
       "      <th>8</th>\n",
       "      <td>3134627</td>\n",
       "      <td>how can i get the number of lines of a text fi...</td>\n",
       "      <td>text|count|specman</td>\n",
       "    </tr>\n",
       "    <tr>\n",
       "      <th>9</th>\n",
       "      <td>5991569</td>\n",
       "      <td>clearcase relocation command</td>\n",
       "      <td>clearcase</td>\n",
       "    </tr>\n",
       "  </tbody>\n",
       "</table>\n",
       "</div>"
      ],
      "text/plain": [
       "   Unnamed: 0                                              title  \\\n",
       "0    11535818  angular 4 use the values from something compon...   \n",
       "1     2504283  why is the  this  keyword required to call an ...   \n",
       "2    11317072  how do i store information when i run the program   \n",
       "3    13210416                         if statement  doesn t work   \n",
       "4      939640  laravel 5 5 redirect to url with anchor and wi...   \n",
       "5    10370658                               multiline grid extjs   \n",
       "6     4083000           jade access images from parent directory   \n",
       "7     9656308     rails 3 superclass mismatch for class location   \n",
       "8     3134627  how can i get the number of lines of a text fi...   \n",
       "9     5991569                       clearcase relocation command   \n",
       "\n",
       "                                                tags  \n",
       "0                      javascript|angular|typescript  \n",
       "1                               c#|extension-methods  \n",
       "2                                             python  \n",
       "3                                             expect  \n",
       "4         laravel|laravel-5|laravel-5.5|laravel-form  \n",
       "5                 ruby-on-rails|extjs|grid|multiline  \n",
       "6  node.js|express|parent-child|pug|directory-str...  \n",
       "7                         ruby-on-rails-3|superclass  \n",
       "8                                 text|count|specman  \n",
       "9                                          clearcase  "
      ]
     },
     "execution_count": 9,
     "metadata": {},
     "output_type": "execute_result"
    }
   ],
   "source": [
    "def clean_text(text):\n",
    "    text = str(text)\n",
    "    text = re.sub(r\"[^a-zA-Z0-9#+-]\", \" \", text.lower())\n",
    "    return text\n",
    "\n",
    "df['title'] = df['title'].apply(clean_text)\n",
    "df.head(10)"
   ]
  },
  {
   "cell_type": "markdown",
   "metadata": {},
   "source": [
    "## Exploration \n",
    "\n",
    "Basic exploration over here. Trying to look at things like the number of words in vocabulury, number of tags, and variation of number of tags in questions. "
   ]
  },
  {
   "cell_type": "markdown",
   "metadata": {},
   "source": [
    "Convert data to list"
   ]
  },
  {
   "cell_type": "code",
   "execution_count": 10,
   "metadata": {},
   "outputs": [],
   "source": [
    "questions = df['title'].tolist()\n",
    "tags = df['tags'].tolist()"
   ]
  },
  {
   "cell_type": "markdown",
   "metadata": {},
   "source": [
    "### Number of words in the vocabulary"
   ]
  },
  {
   "cell_type": "code",
   "execution_count": 11,
   "metadata": {},
   "outputs": [
    {
     "name": "stdout",
     "output_type": "stream",
     "text": [
      "The total number of words in the data is:  2199799\n",
      "The number of words in the vocabulary is:  64963\n"
     ]
    }
   ],
   "source": [
    "print('The total number of words in the data is: ', sum([len(text.split()) for text in questions]))\n",
    "\n",
    "def tokenize_question(text):\n",
    "    return text.split()\n",
    "\n",
    "question_vect = CountVectorizer(tokenizer=tokenize_question)\n",
    "question_vect.fit(questions)\n",
    "\n",
    "print('The number of words in the vocabulary is: ', len(question_vect.vocabulary_))"
   ]
  },
  {
   "cell_type": "markdown",
   "metadata": {},
   "source": [
    "### Number of tags"
   ]
  },
  {
   "cell_type": "code",
   "execution_count": 12,
   "metadata": {},
   "outputs": [
    {
     "name": "stdout",
     "output_type": "stream",
     "text": [
      "The total number of tags is:  26693\n"
     ]
    }
   ],
   "source": [
    "def tokenize_tags(text):\n",
    "    return text.split('|')\n",
    "\n",
    "tags_vect = CountVectorizer(tokenizer=tokenize_tags)\n",
    "tags_vect.fit(tags)\n",
    "\n",
    "print('The total number of tags is: ', len(tags_vect.vocabulary_))"
   ]
  },
  {
   "cell_type": "markdown",
   "metadata": {},
   "source": [
    "### Save tag label as vectorized tokens.\n",
    "\n",
    "There are too many tags to predict. In our model we will only look at the top 100 tags and save the result"
   ]
  },
  {
   "cell_type": "code",
   "execution_count": 13,
   "metadata": {},
   "outputs": [
    {
     "name": "stdout",
     "output_type": "stream",
     "text": [
      "Number of tags:  100\n",
      "The list of tags with frequency is: \n",
      "{'.htaccess': 946, '.net': 4206, 'ajax': 2879, 'algorithm': 1354, 'amazon-web-services': 956, 'android': 17254, 'angular': 2011, 'angularjs': 3797, 'apache': 1238, 'api': 1013, 'arrays': 4078, 'asp.net': 5132, 'asp.net-mvc': 2709, 'azure': 857, 'bash': 1649, 'c': 4314, 'c#': 18826, 'c++': 8815, 'codeigniter': 901, 'css': 8427, 'css3': 1173, 'csv': 874, 'database': 2248, 'django': 2789, 'eclipse': 1702, 'entity-framework': 1175, 'excel': 2694, 'excel-vba': 1265, 'facebook': 1316, 'file': 875, 'firebase': 879, 'forms': 1380, 'function': 1092, 'git': 1601, 'google-maps': 897, 'hibernate': 1097, 'html': 11885, 'html5': 1707, 'image': 1362, 'ios': 8900, 'iphone': 3457, 'java': 21760, 'javascript': 25537, 'jquery': 14146, 'json': 3879, 'laravel': 1573, 'linq': 1070, 'linux': 2534, 'list': 1256, 'loops': 844, 'macos': 1301, 'matlab': 1227, 'maven': 940, 'mongodb': 1597, 'multithreading': 1687, 'mysql': 8131, 'node.js': 3724, 'objective-c': 4470, 'oracle': 1563, 'pandas': 1202, 'performance': 1249, 'perl': 874, 'php': 18663, 'postgresql': 1391, 'powershell': 862, 'python': 15632, 'python-2.7': 1279, 'python-3.x': 1858, 'qt': 978, 'r': 3848, 'reactjs': 1519, 'regex': 2968, 'rest': 1029, 'ruby': 3014, 'ruby-on-rails': 4561, 'ruby-on-rails-3': 879, 'scala': 1328, 'shell': 1033, 'spring': 2039, 'sql': 6952, 'sql-server': 3612, 'sqlite': 947, 'string': 2006, 'swift': 3144, 'swing': 1120, 'symfony': 882, 'twitter-bootstrap': 1442, 'typescript': 971, 'uitableview': 844, 'unit-testing': 862, 'vb.net': 1916, 'vba': 2000, 'visual-studio': 1221, 'web-services': 896, 'windows': 1921, 'winforms': 1218, 'wordpress': 2139, 'wpf': 2177, 'xcode': 1953, 'xml': 2687}\n"
     ]
    }
   ],
   "source": [
    "max_tags = 100\n",
    "\n",
    "def tokenize_tags(text):\n",
    "    return text.split('|')\n",
    "\n",
    "tags_vect = CountVectorizer(tokenizer=tokenize_tags, max_features=max_tags)\n",
    "tags = tags_vect.fit_transform(tags)\n",
    "tags = tags.toarray()\n",
    "print('Number of tags: ', len(tags_vect.vocabulary_))\n",
    "\n",
    "tags_token = tags_vect.get_feature_names()\n",
    "tag_frequency = tags.sum(axis=0)\n",
    "print('The list of tags with frequency is: ')\n",
    "print(dict(zip(tags_token, tag_frequency)))"
   ]
  },
  {
   "cell_type": "markdown",
   "metadata": {},
   "source": [
    "### Most common tags"
   ]
  },
  {
   "cell_type": "code",
   "execution_count": 14,
   "metadata": {},
   "outputs": [
    {
     "name": "stdout",
     "output_type": "stream",
     "text": [
      "Rank     Tag      Count\n",
      "1   javascript   25537\n",
      "2   java   21760\n",
      "3   c#   18826\n",
      "4   php   18663\n",
      "5   android   17254\n",
      "6   python   15632\n",
      "7   jquery   14146\n",
      "8   html   11885\n",
      "9   ios   8900\n",
      "10   c++   8815\n",
      "11   css   8427\n",
      "12   mysql   8131\n",
      "13   sql   6952\n",
      "14   asp.net   5132\n",
      "15   ruby-on-rails   4561\n",
      "16   objective-c   4470\n",
      "17   c   4314\n",
      "18   .net   4206\n",
      "19   arrays   4078\n",
      "20   json   3879\n",
      "21   r   3848\n",
      "22   angularjs   3797\n",
      "23   node.js   3724\n",
      "24   sql-server   3612\n",
      "25   iphone   3457\n",
      "26   swift   3144\n",
      "27   ruby   3014\n",
      "28   regex   2968\n",
      "29   ajax   2879\n",
      "30   django   2789\n"
     ]
    }
   ],
   "source": [
    "tag_count = [[x[0],x[1]] for x in zip(tags_token, tag_frequency)]\n",
    "tag_count = sorted(tag_count, key = lambda x: x[1], reverse=True)\n",
    "\n",
    "print('Rank     Tag      Count')\n",
    "for i in range(30):\n",
    "    print(\"%d   %s   %d\" % (i+1, tag_count[i][0], tag_count[i][1]))"
   ]
  },
  {
   "cell_type": "markdown",
   "metadata": {},
   "source": [
    "### Histogram of number of tags in each question"
   ]
  },
  {
   "cell_type": "code",
   "execution_count": 15,
   "metadata": {},
   "outputs": [
    {
     "data": {
      "text/plain": [
       "Text(0,0.5,'Number of questions')"
      ]
     },
     "execution_count": 15,
     "metadata": {},
     "output_type": "execute_result"
    },
    {
     "data": {
      "image/png": "[encoded data removed]",
      "text/plain": [
       "<Figure size 432x288 with 1 Axes>"
      ]
     },
     "metadata": {
      "needs_background": "light"
     },
     "output_type": "display_data"
    }
   ],
   "source": [
    "plt.hist(tags.sum(axis=1))\n",
    "plt.xlabel('Number of tags for a question')\n",
    "plt.ylabel('Number of questions')"
   ]
  },
  {
   "cell_type": "markdown",
   "metadata": {},
   "source": [
    "## Split data into train, validation and test set\n",
    "\n",
    "Splitting data into 80, 20, 20 split"
   ]
  },
  {
   "cell_type": "code",
   "execution_count": 16,
   "metadata": {},
   "outputs": [],
   "source": [
    "X_train, X_test, y_train, y_test = train_test_split(questions, tags, \n",
    "                                                    test_size=0.2, \n",
    "                                                    random_state=random_state)\n",
    "\n",
    "X_val, X_test, y_val, y_test = train_test_split(X_test, y_test, \n",
    "                                                    test_size=0.5, \n",
    "                                                    random_state=random_state)"
   ]
  },
  {
   "cell_type": "markdown",
   "metadata": {},
   "source": [
    "## Evaluation metrics\n",
    "\n",
    "This is not a simple case where accuracy will cut it. Each tag in itself is a very imbalanced classification, so a model just not predicting any tag can have a very high accuracy. \n",
    "\n",
    "\n",
    "So we can instead look at the precision and recall. Since this is multi-label classification problem with different number of tag instances for each tag. We look at weighted precision and recall, which computes the metric for each lable, and computes the weighted average based on the number of true instances for each label.\n",
    "\n",
    "To look at a single metric for comparison, we look at the f1-score which is the harmonic mean of recall and precision. \n",
    "\n",
    "\n",
    "A high value of precision indicates we have very few falsely positive detected tags, and a high value of recall inicates that we have small number of false negatives, that is the model recommends the correctly recommends the right tag for question, instead of not recommending a tag. \n",
    "\n",
    "### What do we want: High precision or recall?\n",
    "\n",
    "The choice of whether we need high precision or high recall, depends on how the model will be used. If we want to built a system where we show users bunch of tags and users select some of the tags from the recommendation than we should aim for high recall. However, if the system is going to be used on auto-mode, it might make sense to have high precision, since we don't want to falsely label a tag for a question. \n",
    "\n",
    "But if the community if we expect a strong community response in correcting mistakes, it might actually be better to have higher recall than precision. Because if a question is given a wrong tag, we can hope the community will see it and remove it. But in case we are too cautious in tagging the quesiton, we will run into a situation where the community will not be able to find the quesiton in the right category, and it might remain unanswered for a while. "
   ]
  },
  {
   "cell_type": "code",
   "execution_count": 17,
   "metadata": {},
   "outputs": [],
   "source": [
    "def eval_metrics(y_test, y_predicted, print_metrics=True):\n",
    "    \n",
    "    accuracy = accuracy_score(y_test, y_predicted)\n",
    "    precision = precision_score(y_test, y_predicted, average='weighted')\n",
    "    recall = recall_score(y_test, y_predicted, average='weighted')\n",
    "    f1 = f1_score(y_test, y_predicted, average='weighted')\n",
    "    \n",
    "    if print_metrics:\n",
    "        print(\"f1: %.3f - precision: %.3f - recall: %.3f - accuracy: %.3f\" % (\n",
    "            f1, precision, recall, accuracy))\n",
    "    return f1, precision, recall, accuracy"
   ]
  },
  {
   "cell_type": "markdown",
   "metadata": {},
   "source": [
    "# TFIDF on Bag of Words with logistic regression"
   ]
  },
  {
   "cell_type": "markdown",
   "metadata": {},
   "source": [
    "### TFIDF on bag of words embedding\n",
    "\n",
    "We first convert the questions into bag of words embedding. The idea here is that the we want to find the association with the the kind of words which appear for a particular tag. \n",
    "\n",
    "On top of the bag of words embedding, we aply TF-IDF score (Term Frequency, Inverse Document Frequency). TF-IDF weighs the words to reduce effect of common words appearing too frequently which act as noise."
   ]
  },
  {
   "cell_type": "code",
   "execution_count": 18,
   "metadata": {},
   "outputs": [
    {
     "name": "stdout",
     "output_type": "stream",
     "text": [
      "The number of words in the vocabulary is:  12965\n"
     ]
    }
   ],
   "source": [
    "def tokenize_question(text):\n",
    "    return text.split()\n",
    "\n",
    "tfidf_vect = TfidfVectorizer(tokenizer=tokenize_question,\n",
    "                               stop_words='english',\n",
    "                               min_df=4,\n",
    "                               max_df=0.5)\n",
    "\n",
    "X_train_tfidf = tfidf_vect.fit_transform(X_train)\n",
    "X_test_tfidf = tfidf_vect.transform(X_test)\n",
    "print('The number of words in the vocabulary is: ', len(tfidf_vect.vocabulary_))"
   ]
  },
  {
   "cell_type": "markdown",
   "metadata": {},
   "source": [
    "### Classification Model\n",
    "\n",
    "Recommending tags to question is a multi-label classification problem. So we use binary relevance or one vs rest classifier on top of logistic regression. \n",
    "\n",
    "Basically, we break the classificaiton problem into multiple one vs rest classifer, as this allows to get multiple labeles for each question. Now, this results in the fact that too many classifiers need to be trained. This approach seems quite inefficient, as classifier should share some information between them.\n",
    "\n",
    "I decided to choose the basic Logistic Regression because training a more complex model would take too much time, as I would have to train multiple of these models. And moreover, logistic regression perform quite well in NLP classificaiton problems. So it also serves as a goog base model.\n",
    "\n",
    "#### One vs rest classifier on top of individual logistic regression for each tag"
   ]
  },
  {
   "cell_type": "code",
   "execution_count": 19,
   "metadata": {},
   "outputs": [
    {
     "name": "stdout",
     "output_type": "stream",
     "text": [
      "CPU times: user 3min 4s, sys: 2.37 s, total: 3min 6s\n",
      "Wall time: 47.5 s\n"
     ]
    }
   ],
   "source": [
    "%%time\n",
    "tfidf_log_clf = OneVsRestClassifier(LogisticRegression())\n",
    "\n",
    "tfidf_log_clf.fit(X_train_tfidf, y_train)\n",
    "\n"
   ]
  },
  {
   "cell_type": "markdown",
   "metadata": {},
   "source": [
    "### Train evaluation metrics"
   ]
  },
  {
   "cell_type": "code",
   "execution_count": 20,
   "metadata": {},
   "outputs": [
    {
     "name": "stdout",
     "output_type": "stream",
     "text": [
      "Train score\n",
      "f1: 0.522 - precision: 0.806 - recall: 0.397 - accuracy: 0.372\n"
     ]
    },
    {
     "data": {
      "text/plain": [
       "(0.5220477699429826, 0.805504836855018, 0.3967599347075563, 0.37155)"
      ]
     },
     "execution_count": 20,
     "metadata": {},
     "output_type": "execute_result"
    }
   ],
   "source": [
    "print('Train score')\n",
    "y_train_tfidf_predict = tfidf_log_clf.predict(X_train_tfidf)\n",
    "eval_metrics(y_train, y_train_tfidf_predict)"
   ]
  },
  {
   "cell_type": "markdown",
   "metadata": {},
   "source": [
    "### Results\n",
    "\n",
    "Performance on the test data"
   ]
  },
  {
   "cell_type": "code",
   "execution_count": 21,
   "metadata": {},
   "outputs": [
    {
     "name": "stdout",
     "output_type": "stream",
     "text": [
      "Test score\n",
      "f1: 0.501 - precision: 0.776 - recall: 0.379 - accuracy: 0.351\n"
     ]
    },
    {
     "data": {
      "text/plain": [
       "(0.5006936259609652, 0.7757441541250483, 0.3791344934885329, 0.35076)"
      ]
     },
     "execution_count": 21,
     "metadata": {},
     "output_type": "execute_result"
    }
   ],
   "source": [
    "print('Test score')\n",
    "y_test_tfidf_predict = tfidf_log_clf.predict(X_test_tfidf)\n",
    "eval_metrics(y_test, y_test_tfidf_predict)"
   ]
  },
  {
   "cell_type": "markdown",
   "metadata": {},
   "source": [
    "### Examples\n",
    "\n",
    "Lets print some quesitons and see the tags predicted by the model."
   ]
  },
  {
   "cell_type": "code",
   "execution_count": 22,
   "metadata": {},
   "outputs": [
    {
     "name": "stdout",
     "output_type": "stream",
     "text": [
      "Question:  why textview text is empty\n",
      "Tags:  ['android']\n",
      "Question:  return after   ajax call\n",
      "Tags:  ['ajax', 'jquery']\n",
      "Question:  opposite of hex   in sqlite \n",
      "Tags:  ['sqlite']\n",
      "Question:  progressdialog does not appear in method onprogressupdate\n",
      "Tags:  []\n",
      "Question:  sitemappath breadcrump disappears when navigating to a child page\n",
      "Tags:  []\n",
      "Question:  chr 34  returning two double quotes characters instead of one\n",
      "Tags:  []\n",
      "Question:  bootstrap div exceeds its content on image gallery\n",
      "Tags:  ['css', 'html', 'twitter-bootstrap']\n",
      "Question:  mysql getting last month instead of specific week\n",
      "Tags:  ['mysql']\n",
      "Question:  nullability warnings in macos headers after updating to xcode 8 3\n",
      "Tags:  ['xcode']\n",
      "Question:  exact value after floating point not rounding up\n",
      "Tags:  []\n",
      "Question:  laravel blade  include after  section\n",
      "Tags:  ['laravel', 'php']\n",
      "Question:  paramiko and nohup   \n",
      "Tags:  []\n",
      "Question:  how to update a surfaceview between fixed intervals in android \n",
      "Tags:  ['android']\n",
      "Question:  use  dll to store other  dlls or  libs\n",
      "Tags:  []\n",
      "Question:  my view isn t returning dropdownlist information\n",
      "Tags:  []\n",
      "Question:  checking mutual exclusivity of binary variables in spss\n",
      "Tags:  []\n",
      "Question:  java defining methods in objects\n",
      "Tags:  ['java']\n",
      "Question:  drop table if it exists in oracle  if exist \n",
      "Tags:  ['oracle', 'sql']\n",
      "Question:  use classes of php before declaring\n",
      "Tags:  ['php']\n",
      "Question:  mongodb collections to data frames\n",
      "Tags:  ['mongodb']\n"
     ]
    }
   ],
   "source": [
    "n_examples = 20\n",
    "thres = 0.2\n",
    "\n",
    "preds = y_test_tfidf_predict[:n_examples,:]>thres\n",
    "\n",
    "for i in range(n_examples):\n",
    "    print('Question: ', X_test[i])\n",
    "    print('Tags: ', [tags_token[i] for i in np.where(preds[i,:] == 1)[0].tolist()])"
   ]
  },
  {
   "cell_type": "markdown",
   "metadata": {},
   "source": [
    "### Importance words\n",
    "\n",
    "Lets look at some of the important words that the classifer considered in making the recommendation. \n",
    "\n",
    "We can see that the most common words are actually the tags in the problem. This makes sense because most of the tag will be as a word in the question. "
   ]
  },
  {
   "cell_type": "code",
   "execution_count": 23,
   "metadata": {},
   "outputs": [
    {
     "data": {
      "text/html": [
       "<div>\n",
       "<style scoped>\n",
       "    .dataframe tbody tr th:only-of-type {\n",
       "        vertical-align: middle;\n",
       "    }\n",
       "\n",
       "    .dataframe tbody tr th {\n",
       "        vertical-align: top;\n",
       "    }\n",
       "\n",
       "    .dataframe thead th {\n",
       "        text-align: right;\n",
       "    }\n",
       "</style>\n",
       "<table border=\"1\" class=\"dataframe\">\n",
       "  <thead>\n",
       "    <tr style=\"text-align: right;\">\n",
       "      <th></th>\n",
       "      <th>feature</th>\n",
       "      <th>importances</th>\n",
       "      <th>cum_imp</th>\n",
       "    </tr>\n",
       "  </thead>\n",
       "  <tbody>\n",
       "    <tr>\n",
       "      <th>0</th>\n",
       "      <td>android</td>\n",
       "      <td>1.000000</td>\n",
       "      <td>0.064203</td>\n",
       "    </tr>\n",
       "    <tr>\n",
       "      <th>1</th>\n",
       "      <td>jquery</td>\n",
       "      <td>0.774219</td>\n",
       "      <td>0.113910</td>\n",
       "    </tr>\n",
       "    <tr>\n",
       "      <th>2</th>\n",
       "      <td>python</td>\n",
       "      <td>0.750050</td>\n",
       "      <td>0.162066</td>\n",
       "    </tr>\n",
       "    <tr>\n",
       "      <th>3</th>\n",
       "      <td>java</td>\n",
       "      <td>0.735756</td>\n",
       "      <td>0.209303</td>\n",
       "    </tr>\n",
       "    <tr>\n",
       "      <th>4</th>\n",
       "      <td>php</td>\n",
       "      <td>0.650266</td>\n",
       "      <td>0.251052</td>\n",
       "    </tr>\n",
       "    <tr>\n",
       "      <th>5</th>\n",
       "      <td>javascript</td>\n",
       "      <td>0.583658</td>\n",
       "      <td>0.288525</td>\n",
       "    </tr>\n",
       "    <tr>\n",
       "      <th>6</th>\n",
       "      <td>c++</td>\n",
       "      <td>0.536687</td>\n",
       "      <td>0.322982</td>\n",
       "    </tr>\n",
       "    <tr>\n",
       "      <th>7</th>\n",
       "      <td>c#</td>\n",
       "      <td>0.536018</td>\n",
       "      <td>0.357396</td>\n",
       "    </tr>\n",
       "    <tr>\n",
       "      <th>8</th>\n",
       "      <td>mysql</td>\n",
       "      <td>0.534831</td>\n",
       "      <td>0.391733</td>\n",
       "    </tr>\n",
       "    <tr>\n",
       "      <th>9</th>\n",
       "      <td>sql</td>\n",
       "      <td>0.526053</td>\n",
       "      <td>0.425508</td>\n",
       "    </tr>\n",
       "    <tr>\n",
       "      <th>10</th>\n",
       "      <td>r</td>\n",
       "      <td>0.520620</td>\n",
       "      <td>0.458933</td>\n",
       "    </tr>\n",
       "    <tr>\n",
       "      <th>11</th>\n",
       "      <td>spring</td>\n",
       "      <td>0.424142</td>\n",
       "      <td>0.486164</td>\n",
       "    </tr>\n",
       "    <tr>\n",
       "      <th>12</th>\n",
       "      <td>rails</td>\n",
       "      <td>0.422590</td>\n",
       "      <td>0.513296</td>\n",
       "    </tr>\n",
       "    <tr>\n",
       "      <th>13</th>\n",
       "      <td>ios</td>\n",
       "      <td>0.420237</td>\n",
       "      <td>0.540276</td>\n",
       "    </tr>\n",
       "    <tr>\n",
       "      <th>14</th>\n",
       "      <td>django</td>\n",
       "      <td>0.408761</td>\n",
       "      <td>0.566520</td>\n",
       "    </tr>\n",
       "    <tr>\n",
       "      <th>15</th>\n",
       "      <td>js</td>\n",
       "      <td>0.405008</td>\n",
       "      <td>0.592522</td>\n",
       "    </tr>\n",
       "    <tr>\n",
       "      <th>16</th>\n",
       "      <td>angular</td>\n",
       "      <td>0.387258</td>\n",
       "      <td>0.617385</td>\n",
       "    </tr>\n",
       "    <tr>\n",
       "      <th>17</th>\n",
       "      <td>net</td>\n",
       "      <td>0.372705</td>\n",
       "      <td>0.641314</td>\n",
       "    </tr>\n",
       "    <tr>\n",
       "      <th>18</th>\n",
       "      <td>css</td>\n",
       "      <td>0.369706</td>\n",
       "      <td>0.665050</td>\n",
       "    </tr>\n",
       "    <tr>\n",
       "      <th>19</th>\n",
       "      <td>google</td>\n",
       "      <td>0.363602</td>\n",
       "      <td>0.688395</td>\n",
       "    </tr>\n",
       "  </tbody>\n",
       "</table>\n",
       "</div>"
      ],
      "text/plain": [
       "       feature  importances   cum_imp\n",
       "0      android     1.000000  0.064203\n",
       "1       jquery     0.774219  0.113910\n",
       "2       python     0.750050  0.162066\n",
       "3         java     0.735756  0.209303\n",
       "4          php     0.650266  0.251052\n",
       "5   javascript     0.583658  0.288525\n",
       "6          c++     0.536687  0.322982\n",
       "7           c#     0.536018  0.357396\n",
       "8        mysql     0.534831  0.391733\n",
       "9          sql     0.526053  0.425508\n",
       "10           r     0.520620  0.458933\n",
       "11      spring     0.424142  0.486164\n",
       "12       rails     0.422590  0.513296\n",
       "13         ios     0.420237  0.540276\n",
       "14      django     0.408761  0.566520\n",
       "15          js     0.405008  0.592522\n",
       "16     angular     0.387258  0.617385\n",
       "17         net     0.372705  0.641314\n",
       "18         css     0.369706  0.665050\n",
       "19      google     0.363602  0.688395"
      ]
     },
     "execution_count": 23,
     "metadata": {},
     "output_type": "execute_result"
    }
   ],
   "source": [
    "importances = importances = tfidf_log_clf.estimators_[0].coef_[0]\n",
    "for i in range(1,len(tfidf_log_clf.estimators_)):\n",
    "    importances += tfidf_log_clf.estimators_[i].coef_[0]\n",
    "\n",
    "importances = importances/sum(importances)\n",
    "    \n",
    "feature_imps = {'importances':importances, 'feature':tfidf_vect.get_feature_names()}\n",
    "feature_imps = pd.DataFrame(feature_imps)\n",
    "feature_imps = feature_imps.sort_values('importances', ascending=False)\n",
    "# Normalize importance and add cumulative importance\n",
    "feature_imps['cum_imp'] = feature_imps['importances'].cumsum()\n",
    "feature_imps['importances'] = feature_imps['importances']/feature_imps['importances'].max()\n",
    "feature_imps = feature_imps.reset_index(drop=True)\n",
    "feature_imps['no_features'] = feature_imps.index + 1\n",
    "feature_imps[['feature', 'importances', 'cum_imp']].head(20)"
   ]
  },
  {
   "cell_type": "markdown",
   "metadata": {},
   "source": [
    "# Convolutional multi-label sentence classification model\n",
    "\n",
    "\n",
    "In the previous model, we only used the frequency in which the word appeared in our model to make the prediction. So here I aim to improve on the following aspects compared to the previous model:\n",
    "\n",
    "1. **Semantic word meaning**: Our previous model did not care about the semantic meaning of the words in the quesitons. But here, we want our model to learn some extra features from the semantic meanings of the words in the quesiton. \n",
    "\n",
    "2. **Text Structure**: To understand the true meaning of the sentence we also need to understand the order and structure in which the words are appearing the sentence. \n",
    "\n",
    "Neural networks are currently the peak for NLP tasks, and they take care of both the issues. Now most of the NN for NLP tasks are RNNs. But they are take a very long time to train. So instead I use convolutional neural network to recommend the tags. The advantage of CNN for NLP tasks is that they are very fast to train, and recently they have been shown to have compareable performance to RNNs for many NLP tasks."
   ]
  },
  {
   "cell_type": "markdown",
   "metadata": {},
   "source": [
    "## Word and sentence embedding\n",
    "\n",
    "First of all we need word embedding for the words in the quesiton. To make the training faster, we will use the pre-trained embedding from word2vec. \n",
    "\n",
    "Second each sentence now needs to be converted to a sequence of equal length. And then this sentence is populated as a matrix of constant sequence length by word embedding size."
   ]
  },
  {
   "cell_type": "markdown",
   "metadata": {},
   "source": [
    "#### Hyperparameters"
   ]
  },
  {
   "cell_type": "code",
   "execution_count": 24,
   "metadata": {},
   "outputs": [],
   "source": [
    "max_seq_length = 35\n",
    "vocab_size = 20000\n",
    "embedding_size = 300"
   ]
  },
  {
   "cell_type": "markdown",
   "metadata": {},
   "source": [
    "### Make sequence of equal length"
   ]
  },
  {
   "cell_type": "code",
   "execution_count": 25,
   "metadata": {},
   "outputs": [],
   "source": [
    "tokenizer = Tokenizer(lower=True, split=' ', filters='')\n",
    "tokenizer.fit_on_texts(X_train)\n",
    "tokenizer.num_words = vocab_size\n",
    "\n",
    "seq_train = tokenizer.texts_to_sequences(X_train)\n",
    "seq_test = tokenizer.texts_to_sequences(X_test)\n",
    "seq_val = tokenizer.texts_to_sequences(X_val)\n",
    "\n",
    "seq_length = [len(x) for x in seq_train]\n",
    "max_seq_length = max(seq_length)\n",
    "\n",
    "seq_train = pad_sequences(seq_train, maxlen=max_seq_length, padding='post', truncating='post')\n",
    "seq_test = pad_sequences(seq_test, maxlen=max_seq_length, padding='post', truncating='post')\n",
    "seq_val = pad_sequences(seq_val, maxlen=max_seq_length, padding='post', truncating='post')"
   ]
  },
  {
   "cell_type": "markdown",
   "metadata": {},
   "source": [
    "#### Plot to look at the original length of question sequences"
   ]
  },
  {
   "cell_type": "code",
   "execution_count": 26,
   "metadata": {},
   "outputs": [
    {
     "data": {
      "text/plain": [
       "Text(0.5,1,'Histogram of sequence length')"
      ]
     },
     "execution_count": 26,
     "metadata": {},
     "output_type": "execute_result"
    },
    {
     "data": {
      "image/png": "[encoded data removed]",
      "text/plain": [
       "<Figure size 504x360 with 1 Axes>"
      ]
     },
     "metadata": {
      "needs_background": "light"
     },
     "output_type": "display_data"
    }
   ],
   "source": [
    "plt.figure(figsize=(7,5))\n",
    "plt.hist(seq_length, bins=50)\n",
    "plt.xlabel('Length of sequence')\n",
    "plt.ylabel('Number')\n",
    "plt.title('Histogram of sequence length')"
   ]
  },
  {
   "cell_type": "markdown",
   "metadata": {},
   "source": [
    "### Initialize word embedding from word2vec"
   ]
  },
  {
   "cell_type": "code",
   "execution_count": 27,
   "metadata": {},
   "outputs": [
    {
     "name": "stdout",
     "output_type": "stream",
     "text": [
      "Number of common words from word2vec: 10908\n",
      "Number of randomly initialized embeddings: 9092\n"
     ]
    }
   ],
   "source": [
    "# Load word2vec\n",
    "word2vec_path = '../../../Data/stackoverflow/GoogleNews-vectors-negative300.bin.gz'\n",
    "word2vec = gensim.models.KeyedVectors.load_word2vec_format(word2vec_path, binary=True)\n",
    "\n",
    "#Randomly initialize embedding\n",
    "embedding_weights = np.random.normal(0, 0.15, (vocab_size+1, embedding_size))\n",
    "word2vec_counter, randword_counter = 0, 0\n",
    "\n",
    "for word, index in tokenizer.word_index.items():\n",
    "\n",
    "    if index > vocab_size:\n",
    "        continue\n",
    "\n",
    "    if word in word2vec:\n",
    "        embedding_weights[index,:] = word2vec[word]\n",
    "        word2vec_counter += 1\n",
    "    else:\n",
    "        randword_counter += 1\n",
    "        \n",
    "        \n",
    "print('Number of common words from word2vec: %d'%(word2vec_counter))\n",
    "print('Number of randomly initialized embeddings: %d'%(randword_counter))"
   ]
  },
  {
   "cell_type": "markdown",
   "metadata": {},
   "source": [
    "### Convolutional Neural Network\n",
    "\n",
    "\n",
    "My network is based of form the work of Yoon Kim on Convolutional Neural Networks for Sentence Classification. The network architecture can be seen in the figure below\n",
    "\n",
    "![Model architecture](model.png)"
   ]
  },
  {
   "cell_type": "markdown",
   "metadata": {},
   "source": [
    "In this model I start with with word embedding of size 300 and each sequence of size 35 as the input sequence to the model. The embedding weights are initialized from word2vec, but they can be trained.\n",
    "\n",
    "In the first layer we perform three parallel 1D convolution with a filter size of 3, 4, 5 each with a stride of 1 followed by relu activation. In the end, I merge the results from these three parallel 1D convolution. \n",
    "\n",
    "In the second layer, I perform a convolution operation with a filter size of 5 and stride of 2 with relute activation. Followed by a dense layer with with 250 units and a dense layer with 100 units to get final logits. I compute the sigmoids of the logits to get the probability of each tag for a quesiton. \n",
    "\n",
    "To train the model I use sigmoid cross-entropy which I minimze using Adam optimizer to trian the model"
   ]
  },
  {
   "cell_type": "markdown",
   "metadata": {},
   "source": [
    "### Model implementation\n",
    "\n",
    "I implement the model in tensorflow with keras like api to train, predict, save and restore the model. Here, I am just importing the model in the notebook. "
   ]
  },
  {
   "cell_type": "code",
   "execution_count": 28,
   "metadata": {},
   "outputs": [],
   "source": [
    "from model import ConvText\n",
    "conv_model = ConvText(max_seq_length, max_tags, embedding_weights)\n"
   ]
  },
  {
   "cell_type": "code",
   "execution_count": 29,
   "metadata": {},
   "outputs": [
    {
     "name": "stdout",
     "output_type": "stream",
     "text": [
      "Epoch 1/6\n",
      "200000/200000 [==============================] - 212s 1ms/step - Loss: 0.0595\n",
      "Training Evaluation Metrics:\n",
      "F1_score: 0.1864 - Precision: 0.4176 - Recall: 0.1243 - Acc: 0.2172\n",
      "Validation evaluation metrics:\n",
      "F1_score: 0.3792 - Precision: 0.5913 - Recall: 0.3025 - Acc: 0.3063 - Loss: 0.0421\n",
      "Epoch 2/6\n",
      "200000/200000 [==============================] - 211s 1ms/step - Loss: 0.0417\n",
      "Training Evaluation Metrics:\n",
      "F1_score: 0.3985 - Precision: 0.6480 - Recall: 0.3050 - Acc: 0.3055\n",
      "Validation evaluation metrics:\n",
      "F1_score: 0.4691 - Precision: 0.7038 - Recall: 0.3743 - Acc: 0.3516 - Loss: 0.0372\n",
      "Epoch 3/6\n",
      "200000/200000 [==============================] - 210s 1ms/step - Loss: 0.0382\n",
      "Training Evaluation Metrics:\n",
      "F1_score: 0.4611 - Precision: 0.6852 - Recall: 0.3633 - Acc: 0.3375\n",
      "Validation evaluation metrics:\n",
      "F1_score: 0.5080 - Precision: 0.7117 - Recall: 0.4156 - Acc: 0.3644 - Loss: 0.0364\n",
      "Epoch 4/6\n",
      "200000/200000 [==============================] - 211s 1ms/step - Loss: 0.0363\n",
      "Training Evaluation Metrics:\n",
      "F1_score: 0.4891 - Precision: 0.7019 - Recall: 0.3915 - Acc: 0.3543\n",
      "Validation evaluation metrics:\n",
      "F1_score: 0.5133 - Precision: 0.7095 - Recall: 0.4207 - Acc: 0.3712 - Loss: 0.0360\n",
      "Epoch 5/6\n",
      "200000/200000 [==============================] - 209s 1ms/step - Loss: 0.0349\n",
      "Training Evaluation Metrics:\n",
      "F1_score: 0.5109 - Precision: 0.7191 - Recall: 0.4144 - Acc: 0.3675\n",
      "Validation evaluation metrics:\n",
      "F1_score: 0.5259 - Precision: 0.7054 - Recall: 0.4378 - Acc: 0.3716 - Loss: 0.0362\n",
      "Epoch 6/6\n",
      "200000/200000 [==============================] - 219s 1ms/step - Loss: 0.0336\n",
      "Training Evaluation Metrics:\n",
      "F1_score: 0.5278 - Precision: 0.7248 - Recall: 0.4328 - Acc: 0.3802\n",
      "Validation evaluation metrics:\n",
      "F1_score: 0.5287 - Precision: 0.7205 - Recall: 0.4412 - Acc: 0.3703 - Loss: 0.0364\n"
     ]
    }
   ],
   "source": [
    "conv_model.fit(x=seq_train, y=y_train, batch_size=100, val_x=seq_val, val_y=y_val, epochs=6)"
   ]
  },
  {
   "cell_type": "markdown",
   "metadata": {},
   "source": [
    "### Visualize training loss and error\n",
    "\n",
    "We can see that the validation loss and error is slightly higher than training cases. But the difference is very small, and we can assume that the model does not overfit. "
   ]
  },
  {
   "cell_type": "code",
   "execution_count": 30,
   "metadata": {},
   "outputs": [
    {
     "data": {
      "image/png": "[encoded data removed]",
      "text/plain": [
       "<Figure size 1080x360 with 2 Axes>"
      ]
     },
     "metadata": {
      "needs_background": "light"
     },
     "output_type": "display_data"
    }
   ],
   "source": [
    "f, axs = plt.subplots(1,2,figsize=(15,5));\n",
    "\n",
    "axs[0].plot(conv_model.train_epoch, conv_model.train_loss, 'b', label='Training')\n",
    "axs[0].plot(conv_model.train_epoch, conv_model.val_loss, 'g', label='Validation')\n",
    "axs[0].legend()\n",
    "axs[0].set_title('Loss vs training epochs')\n",
    "axs[0].set_xlabel('Number of epochs')\n",
    "axs[0].set_ylabel('Loss')\n",
    "\n",
    "axs[1].plot(conv_model.train_epoch, conv_model.train_f1score, 'b', label='Training')\n",
    "axs[1].plot(conv_model.train_epoch, conv_model.val_f1score, 'g', label='Validation')\n",
    "axs[1].legend()\n",
    "axs[1].set_title('F1 score vs training epochs')\n",
    "axs[1].set_xlabel('Number of epochs')\n",
    "axs[1].set_ylabel('F1 score');"
   ]
  },
  {
   "cell_type": "markdown",
   "metadata": {},
   "source": [
    "## Save model for future\n",
    "\n",
    "Save model for future use and restore it."
   ]
  },
  {
   "cell_type": "code",
   "execution_count": 31,
   "metadata": {},
   "outputs": [
    {
     "name": "stdout",
     "output_type": "stream",
     "text": [
      "Model saved in path: ./final_model/my_model.ckpt\n"
     ]
    }
   ],
   "source": [
    "save_path = './final_model/my_model.ckpt'\n",
    "conv_model.save(save_path=save_path)"
   ]
  },
  {
   "cell_type": "markdown",
   "metadata": {},
   "source": [
    "Restore saved model"
   ]
  },
  {
   "cell_type": "code",
   "execution_count": 32,
   "metadata": {},
   "outputs": [
    {
     "name": "stdout",
     "output_type": "stream",
     "text": [
      "INFO:tensorflow:Restoring parameters from ./final_model/my_model.ckpt\n",
      "Model restored.\n"
     ]
    }
   ],
   "source": [
    "save_path = './final_model/my_model.ckpt'\n",
    "\n",
    "conv_model = ConvText(max_seq_length, max_tags, embedding_weights)\n",
    "conv_model.restore(save_path=save_path)"
   ]
  },
  {
   "cell_type": "markdown",
   "metadata": {},
   "source": [
    "## Results\n",
    "\n",
    "### Evaluation metrics\n",
    "\n",
    "Lets first look at the evaluation metrics"
   ]
  },
  {
   "cell_type": "code",
   "execution_count": 33,
   "metadata": {},
   "outputs": [
    {
     "name": "stdout",
     "output_type": "stream",
     "text": [
      "f1: 0.533 - precision: 0.715 - recall: 0.444 - accuracy: 0.368\n"
     ]
    },
    {
     "data": {
      "text/plain": [
       "(0.5325594749933861, 0.7145270373873903, 0.4442203526564481, 0.36772)"
      ]
     },
     "execution_count": 33,
     "metadata": {},
     "output_type": "execute_result"
    }
   ],
   "source": [
    "y_cnn_predict = conv_model.predict(seq_test, batch_size = 100)\n",
    "_ = eval_metrics(y_test, y_cnn_predict>0.5)"
   ]
  },
  {
   "cell_type": "markdown",
   "metadata": {},
   "source": [
    "### Optimize the performance of the model \n",
    "\n",
    "The model outputs the probabilities for each tag. We use a threshold value of 0.5 to convert each probability into a valid tag (1) or no tag (0). We can also change the threshold value to increase the recall or the precision.\n",
    "\n",
    "So first lets plot the the precision and recall for various threshold values."
   ]
  },
  {
   "cell_type": "code",
   "execution_count": 34,
   "metadata": {},
   "outputs": [
    {
     "data": {
      "text/html": [
       "<div>\n",
       "<style scoped>\n",
       "    .dataframe tbody tr th:only-of-type {\n",
       "        vertical-align: middle;\n",
       "    }\n",
       "\n",
       "    .dataframe tbody tr th {\n",
       "        vertical-align: top;\n",
       "    }\n",
       "\n",
       "    .dataframe thead th {\n",
       "        text-align: right;\n",
       "    }\n",
       "</style>\n",
       "<table border=\"1\" class=\"dataframe\">\n",
       "  <thead>\n",
       "    <tr style=\"text-align: right;\">\n",
       "      <th></th>\n",
       "      <th>threshold</th>\n",
       "      <th>f1_score</th>\n",
       "      <th>precision</th>\n",
       "      <th>recall</th>\n",
       "      <th>accuracy</th>\n",
       "    </tr>\n",
       "  </thead>\n",
       "  <tbody>\n",
       "    <tr>\n",
       "      <th>0</th>\n",
       "      <td>0.05</td>\n",
       "      <td>0.417094</td>\n",
       "      <td>0.293628</td>\n",
       "      <td>0.779705</td>\n",
       "      <td>0.08412</td>\n",
       "    </tr>\n",
       "    <tr>\n",
       "      <th>1</th>\n",
       "      <td>0.10</td>\n",
       "      <td>0.503076</td>\n",
       "      <td>0.408181</td>\n",
       "      <td>0.710730</td>\n",
       "      <td>0.16168</td>\n",
       "    </tr>\n",
       "    <tr>\n",
       "      <th>2</th>\n",
       "      <td>0.15</td>\n",
       "      <td>0.540232</td>\n",
       "      <td>0.480790</td>\n",
       "      <td>0.664141</td>\n",
       "      <td>0.22868</td>\n",
       "    </tr>\n",
       "    <tr>\n",
       "      <th>3</th>\n",
       "      <td>0.20</td>\n",
       "      <td>0.558434</td>\n",
       "      <td>0.534166</td>\n",
       "      <td>0.625158</td>\n",
       "      <td>0.28080</td>\n",
       "    </tr>\n",
       "    <tr>\n",
       "      <th>4</th>\n",
       "      <td>0.25</td>\n",
       "      <td>0.567039</td>\n",
       "      <td>0.578746</td>\n",
       "      <td>0.590728</td>\n",
       "      <td>0.31724</td>\n",
       "    </tr>\n",
       "    <tr>\n",
       "      <th>5</th>\n",
       "      <td>0.30</td>\n",
       "      <td>0.568622</td>\n",
       "      <td>0.610766</td>\n",
       "      <td>0.560303</td>\n",
       "      <td>0.33892</td>\n",
       "    </tr>\n",
       "    <tr>\n",
       "      <th>6</th>\n",
       "      <td>0.35</td>\n",
       "      <td>0.565671</td>\n",
       "      <td>0.645653</td>\n",
       "      <td>0.530713</td>\n",
       "      <td>0.35312</td>\n",
       "    </tr>\n",
       "    <tr>\n",
       "      <th>7</th>\n",
       "      <td>0.40</td>\n",
       "      <td>0.558375</td>\n",
       "      <td>0.670524</td>\n",
       "      <td>0.502190</td>\n",
       "      <td>0.36152</td>\n",
       "    </tr>\n",
       "    <tr>\n",
       "      <th>8</th>\n",
       "      <td>0.45</td>\n",
       "      <td>0.548313</td>\n",
       "      <td>0.701649</td>\n",
       "      <td>0.474617</td>\n",
       "      <td>0.36700</td>\n",
       "    </tr>\n",
       "    <tr>\n",
       "      <th>9</th>\n",
       "      <td>0.50</td>\n",
       "      <td>0.532559</td>\n",
       "      <td>0.714527</td>\n",
       "      <td>0.444220</td>\n",
       "      <td>0.36772</td>\n",
       "    </tr>\n",
       "    <tr>\n",
       "      <th>10</th>\n",
       "      <td>0.55</td>\n",
       "      <td>0.513306</td>\n",
       "      <td>0.735843</td>\n",
       "      <td>0.412815</td>\n",
       "      <td>0.36656</td>\n",
       "    </tr>\n",
       "    <tr>\n",
       "      <th>11</th>\n",
       "      <td>0.60</td>\n",
       "      <td>0.486344</td>\n",
       "      <td>0.749936</td>\n",
       "      <td>0.378299</td>\n",
       "      <td>0.36064</td>\n",
       "    </tr>\n",
       "    <tr>\n",
       "      <th>12</th>\n",
       "      <td>0.65</td>\n",
       "      <td>0.457189</td>\n",
       "      <td>0.764715</td>\n",
       "      <td>0.345252</td>\n",
       "      <td>0.35168</td>\n",
       "    </tr>\n",
       "    <tr>\n",
       "      <th>13</th>\n",
       "      <td>0.70</td>\n",
       "      <td>0.422095</td>\n",
       "      <td>0.781029</td>\n",
       "      <td>0.310591</td>\n",
       "      <td>0.34208</td>\n",
       "    </tr>\n",
       "    <tr>\n",
       "      <th>14</th>\n",
       "      <td>0.75</td>\n",
       "      <td>0.382800</td>\n",
       "      <td>0.798917</td>\n",
       "      <td>0.275066</td>\n",
       "      <td>0.32864</td>\n",
       "    </tr>\n",
       "    <tr>\n",
       "      <th>15</th>\n",
       "      <td>0.80</td>\n",
       "      <td>0.342956</td>\n",
       "      <td>0.764700</td>\n",
       "      <td>0.240953</td>\n",
       "      <td>0.31456</td>\n",
       "    </tr>\n",
       "    <tr>\n",
       "      <th>16</th>\n",
       "      <td>0.85</td>\n",
       "      <td>0.294416</td>\n",
       "      <td>0.752074</td>\n",
       "      <td>0.200127</td>\n",
       "      <td>0.29364</td>\n",
       "    </tr>\n",
       "    <tr>\n",
       "      <th>17</th>\n",
       "      <td>0.90</td>\n",
       "      <td>0.224145</td>\n",
       "      <td>0.707024</td>\n",
       "      <td>0.145759</td>\n",
       "      <td>0.26252</td>\n",
       "    </tr>\n",
       "    <tr>\n",
       "      <th>18</th>\n",
       "      <td>0.95</td>\n",
       "      <td>0.116780</td>\n",
       "      <td>0.651414</td>\n",
       "      <td>0.072375</td>\n",
       "      <td>0.21508</td>\n",
       "    </tr>\n",
       "  </tbody>\n",
       "</table>\n",
       "</div>"
      ],
      "text/plain": [
       "    threshold  f1_score  precision    recall  accuracy\n",
       "0        0.05  0.417094   0.293628  0.779705   0.08412\n",
       "1        0.10  0.503076   0.408181  0.710730   0.16168\n",
       "2        0.15  0.540232   0.480790  0.664141   0.22868\n",
       "3        0.20  0.558434   0.534166  0.625158   0.28080\n",
       "4        0.25  0.567039   0.578746  0.590728   0.31724\n",
       "5        0.30  0.568622   0.610766  0.560303   0.33892\n",
       "6        0.35  0.565671   0.645653  0.530713   0.35312\n",
       "7        0.40  0.558375   0.670524  0.502190   0.36152\n",
       "8        0.45  0.548313   0.701649  0.474617   0.36700\n",
       "9        0.50  0.532559   0.714527  0.444220   0.36772\n",
       "10       0.55  0.513306   0.735843  0.412815   0.36656\n",
       "11       0.60  0.486344   0.749936  0.378299   0.36064\n",
       "12       0.65  0.457189   0.764715  0.345252   0.35168\n",
       "13       0.70  0.422095   0.781029  0.310591   0.34208\n",
       "14       0.75  0.382800   0.798917  0.275066   0.32864\n",
       "15       0.80  0.342956   0.764700  0.240953   0.31456\n",
       "16       0.85  0.294416   0.752074  0.200127   0.29364\n",
       "17       0.90  0.224145   0.707024  0.145759   0.26252\n",
       "18       0.95  0.116780   0.651414  0.072375   0.21508"
      ]
     },
     "execution_count": 34,
     "metadata": {},
     "output_type": "execute_result"
    }
   ],
   "source": [
    "thresholds = [x/100.0 for x in range(5,100,5)]\n",
    "\n",
    "perf_thres = pd.DataFrame(columns=['threshold','f1_score','precision','recall','accuracy'])\n",
    "for thres in thresholds:\n",
    "    \n",
    "    evals = eval_metrics(y_test, y_cnn_predict>thres, print_metrics=False)\n",
    "    \n",
    "    perf_row = [thres]\n",
    "    perf_row.extend(evals)\n",
    "    \n",
    "    perf_thres.loc[len(perf_thres)] = perf_row\n",
    "\n",
    "perf_thres"
   ]
  },
  {
   "cell_type": "markdown",
   "metadata": {},
   "source": [
    "Seeing the results we can see that we get the best f1 score for the threshold value of . So we will stick with it in our current model. But depending on the use case, we can tune for higher precision or recall by adjusting the threshold value. "
   ]
  },
  {
   "cell_type": "markdown",
   "metadata": {},
   "source": [
    "### Examples\n",
    "\n",
    "Lets print some quesitons and see the tags predicted by the model. We can see that the convolutional model makes descent prediciton"
   ]
  },
  {
   "cell_type": "code",
   "execution_count": 35,
   "metadata": {},
   "outputs": [
    {
     "name": "stdout",
     "output_type": "stream",
     "text": [
      "Question:  why textview text is empty\n",
      "Tags:  ['android']\n",
      "Question:  return after   ajax call\n",
      "Tags:  ['ajax', 'javascript', 'jquery', 'php']\n",
      "Question:  opposite of hex   in sqlite \n",
      "Tags:  ['sqlite']\n",
      "Question:  progressdialog does not appear in method onprogressupdate\n",
      "Tags:  ['android', 'java']\n",
      "Question:  sitemappath breadcrump disappears when navigating to a child page\n",
      "Tags:  []\n",
      "Question:  chr 34  returning two double quotes characters instead of one\n",
      "Tags:  ['javascript']\n",
      "Question:  bootstrap div exceeds its content on image gallery\n",
      "Tags:  ['css', 'html', 'javascript', 'jquery', 'twitter-bootstrap']\n",
      "Question:  mysql getting last month instead of specific week\n",
      "Tags:  ['mysql', 'sql']\n",
      "Question:  nullability warnings in macos headers after updating to xcode 8 3\n",
      "Tags:  ['ios', 'xcode']\n",
      "Question:  exact value after floating point not rounding up\n",
      "Tags:  []\n",
      "Question:  laravel blade  include after  section\n",
      "Tags:  ['laravel', 'php']\n",
      "Question:  paramiko and nohup   \n",
      "Tags:  ['python']\n",
      "Question:  how to update a surfaceview between fixed intervals in android \n",
      "Tags:  ['android', 'java']\n",
      "Question:  use  dll to store other  dlls or  libs\n",
      "Tags:  ['c#', 'c++']\n",
      "Question:  my view isn t returning dropdownlist information\n",
      "Tags:  ['c#']\n",
      "Question:  checking mutual exclusivity of binary variables in spss\n",
      "Tags:  []\n",
      "Question:  java defining methods in objects\n",
      "Tags:  ['java']\n",
      "Question:  drop table if it exists in oracle  if exist \n",
      "Tags:  ['oracle', 'sql']\n",
      "Question:  use classes of php before declaring\n",
      "Tags:  ['php']\n",
      "Question:  mongodb collections to data frames\n",
      "Tags:  ['mongodb']\n"
     ]
    }
   ],
   "source": [
    "n_examples = 20\n",
    "thres = 0.25\n",
    "\n",
    "preds = y_cnn_predict[:n_examples,:]>thres\n",
    "\n",
    "for i in range(n_examples):\n",
    "    print('Question: ', X_test[i])\n",
    "    print('Tags: ', [tags_token[i] for i in np.where(preds[i,:] == 1)[0].tolist()])"
   ]
  },
  {
   "cell_type": "markdown",
   "metadata": {},
   "source": [
    "## Conclusion"
   ]
  },
  {
   "cell_type": "markdown",
   "metadata": {},
   "source": [
    "Here we tried two different NLP models to predict tags for the question on Stack Overflow from just the question title. We got about 0.05 improvement on the f1 score with CNN in comparison to bag of words methods. But the simple bag of words method also has a very great score. \n",
    "\n",
    "\n",
    "One reason why I think that the score of CNN model was not much higher is because it is really hard to understand the context of the question from just its title to predict the tag."
   ]
  }
 ],
 "metadata": {
  "kernelspec": {
   "display_name": "Python 3",
   "language": "python",
   "name": "python3"
  },
  "language_info": {
   "codemirror_mode": {
    "name": "ipython",
    "version": 3
   },
   "file_extension": ".py",
   "mimetype": "text/x-python",
   "name": "python",
   "nbconvert_exporter": "python",
   "pygments_lexer": "ipython3",
   "version": "3.6.6"
  }
 },
 "nbformat": 4,
 "nbformat_minor": 2
}
