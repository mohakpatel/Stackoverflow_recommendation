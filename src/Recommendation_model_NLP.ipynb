{
 "cells": [
  {
   "cell_type": "markdown",
   "metadata": {},
   "source": [
    "## Stackoverflow tag recommendation"
   ]
  },
  {
   "cell_type": "code",
   "execution_count": 39,
   "metadata": {},
   "outputs": [],
   "source": [
    "import numpy as np\n",
    "import pandas as pd\n",
    "import matplotlib.pyplot as plt\n",
    "import time\n",
    "import warnings; warnings.simplefilter('ignore')\n",
    "from sklearn.utils import shuffle\n",
    "from sklearn.feature_extraction.text import CountVectorizer\n",
    "from sklearn.model_selection import train_test_split\n",
    "from sklearn.utils.class_weight import compute_sample_weight\n",
    "from collections import Counter\n",
    "from sklearn.linear_model import LogisticRegression\n",
    "\n",
    "random_state = 123"
   ]
  },
  {
   "cell_type": "markdown",
   "metadata": {},
   "source": [
    "## Question Data\n",
    "\n",
    "Stackoverflow question data downloaded from Google BigQuery and aggregated into a single csv file. "
   ]
  },
  {
   "cell_type": "code",
   "execution_count": null,
   "metadata": {},
   "outputs": [],
   "source": [
    "file = '../../../Data/stackoverflow/questions.csv'\n",
    "df = pd.read_csv(file, usecols=['title', 'tags'])\n",
    "df.head(10)"
   ]
  },
  {
   "cell_type": "markdown",
   "metadata": {},
   "source": [
    "Data size"
   ]
  },
  {
   "cell_type": "code",
   "execution_count": null,
   "metadata": {},
   "outputs": [],
   "source": [
    "df.shape"
   ]
  },
  {
   "cell_type": "markdown",
   "metadata": {},
   "source": [
    "Data is too big for taining. We will only consider randomly selected 100,000 rows"
   ]
  },
  {
   "cell_type": "code",
   "execution_count": null,
   "metadata": {},
   "outputs": [],
   "source": [
    "df = shuffle(df, random_state=random_state)\n",
    "df = df[:100000]"
   ]
  },
  {
   "cell_type": "markdown",
   "metadata": {},
   "source": [
    "### Clean title text"
   ]
  },
  {
   "cell_type": "code",
   "execution_count": null,
   "metadata": {},
   "outputs": [],
   "source": [
    "def clean_title(text):\n",
    "    text = str(text)\n",
    "    text = text.replace(r\"[^A-Za-z0-9(),!?@\\'\\`\\\"\\_\\n]\", \" \")\n",
    "    text = text.lower()\n",
    "    return text\n",
    "\n",
    "df['title'] = df['title'].apply(clean_title)\n",
    "df.head(10)"
   ]
  },
  {
   "cell_type": "markdown",
   "metadata": {},
   "source": [
    "### Save for later use"
   ]
  },
  {
   "cell_type": "code",
   "execution_count": null,
   "metadata": {},
   "outputs": [],
   "source": [
    "df.to_csv('../../../Data/stackoverflow/clean_questions.csv')"
   ]
  },
  {
   "cell_type": "markdown",
   "metadata": {},
   "source": [
    "### Load data"
   ]
  },
  {
   "cell_type": "code",
   "execution_count": 17,
   "metadata": {},
   "outputs": [
    {
     "data": {
      "text/html": [
       "<div>\n",
       "<style scoped>\n",
       "    .dataframe tbody tr th:only-of-type {\n",
       "        vertical-align: middle;\n",
       "    }\n",
       "\n",
       "    .dataframe tbody tr th {\n",
       "        vertical-align: top;\n",
       "    }\n",
       "\n",
       "    .dataframe thead th {\n",
       "        text-align: right;\n",
       "    }\n",
       "</style>\n",
       "<table border=\"1\" class=\"dataframe\">\n",
       "  <thead>\n",
       "    <tr style=\"text-align: right;\">\n",
       "      <th></th>\n",
       "      <th>Unnamed: 0</th>\n",
       "      <th>title</th>\n",
       "      <th>tags</th>\n",
       "    </tr>\n",
       "  </thead>\n",
       "  <tbody>\n",
       "    <tr>\n",
       "      <th>0</th>\n",
       "      <td>6162563</td>\n",
       "      <td>gps returns one day ahead?</td>\n",
       "      <td>android|gps</td>\n",
       "    </tr>\n",
       "    <tr>\n",
       "      <th>1</th>\n",
       "      <td>1172178</td>\n",
       "      <td>how to convert files to .rar file node js</td>\n",
       "      <td>angularjs|node.js|rar</td>\n",
       "    </tr>\n",
       "    <tr>\n",
       "      <th>2</th>\n",
       "      <td>2996673</td>\n",
       "      <td>itextsharp not working in loop</td>\n",
       "      <td>c#|asp.net|itext</td>\n",
       "    </tr>\n",
       "    <tr>\n",
       "      <th>3</th>\n",
       "      <td>10409937</td>\n",
       "      <td>alter table modify &lt;column&gt; does not work in h...</td>\n",
       "      <td>java|sql|oracle|hsqldb|flyway</td>\n",
       "    </tr>\n",
       "    <tr>\n",
       "      <th>4</th>\n",
       "      <td>7895037</td>\n",
       "      <td>send data to broadcast receiver from mainactivity</td>\n",
       "      <td>android|broadcastreceiver</td>\n",
       "    </tr>\n",
       "    <tr>\n",
       "      <th>5</th>\n",
       "      <td>8374230</td>\n",
       "      <td>jquery mobile changepage failed</td>\n",
       "      <td>javascript|jquery|css3|jquery-mobile|dialog</td>\n",
       "    </tr>\n",
       "    <tr>\n",
       "      <th>6</th>\n",
       "      <td>7358055</td>\n",
       "      <td>jquery dynamic generate array</td>\n",
       "      <td>javascript|jquery</td>\n",
       "    </tr>\n",
       "    <tr>\n",
       "      <th>7</th>\n",
       "      <td>7333826</td>\n",
       "      <td>outside click on ipad device not working for a...</td>\n",
       "      <td>jquery|ipad</td>\n",
       "    </tr>\n",
       "    <tr>\n",
       "      <th>8</th>\n",
       "      <td>15668795</td>\n",
       "      <td>rails 4 - render previous template</td>\n",
       "      <td>ruby-on-rails|ruby|templates|ruby-on-rails-4</td>\n",
       "    </tr>\n",
       "    <tr>\n",
       "      <th>9</th>\n",
       "      <td>6026154</td>\n",
       "      <td>pulling an image online and rendering it throu...</td>\n",
       "      <td>django|image</td>\n",
       "    </tr>\n",
       "  </tbody>\n",
       "</table>\n",
       "</div>"
      ],
      "text/plain": [
       "   Unnamed: 0                                              title  \\\n",
       "0     6162563                         gps returns one day ahead?   \n",
       "1     1172178          how to convert files to .rar file node js   \n",
       "2     2996673                     itextsharp not working in loop   \n",
       "3    10409937  alter table modify <column> does not work in h...   \n",
       "4     7895037  send data to broadcast receiver from mainactivity   \n",
       "5     8374230                    jquery mobile changepage failed   \n",
       "6     7358055                      jquery dynamic generate array   \n",
       "7     7333826  outside click on ipad device not working for a...   \n",
       "8    15668795                 rails 4 - render previous template   \n",
       "9     6026154  pulling an image online and rendering it throu...   \n",
       "\n",
       "                                           tags  \n",
       "0                                   android|gps  \n",
       "1                         angularjs|node.js|rar  \n",
       "2                              c#|asp.net|itext  \n",
       "3                 java|sql|oracle|hsqldb|flyway  \n",
       "4                     android|broadcastreceiver  \n",
       "5   javascript|jquery|css3|jquery-mobile|dialog  \n",
       "6                             javascript|jquery  \n",
       "7                                   jquery|ipad  \n",
       "8  ruby-on-rails|ruby|templates|ruby-on-rails-4  \n",
       "9                                  django|image  "
      ]
     },
     "execution_count": 17,
     "metadata": {},
     "output_type": "execute_result"
    }
   ],
   "source": [
    "df = pd.read_csv('../../../Data/stackoverflow/clean_questions.csv')\n",
    "df.head(10)"
   ]
  },
  {
   "cell_type": "markdown",
   "metadata": {},
   "source": [
    "### Save data as list and basic exploration"
   ]
  },
  {
   "cell_type": "code",
   "execution_count": 18,
   "metadata": {},
   "outputs": [],
   "source": [
    "questions = df['title'].tolist()\n",
    "tags = df['tags'].tolist()"
   ]
  },
  {
   "cell_type": "markdown",
   "metadata": {},
   "source": [
    "Find the number of words in the vocabulary"
   ]
  },
  {
   "cell_type": "code",
   "execution_count": 20,
   "metadata": {},
   "outputs": [
    {
     "name": "stdout",
     "output_type": "stream",
     "text": [
      "The total number of words in the data is:  856701\n",
      "The number of words in the vocabulary is:  64637\n"
     ]
    }
   ],
   "source": [
    "print('The total number of words in the data is: ', sum([len(text.split()) for text in questions]))\n",
    "\n",
    "def tokenize_question(text):\n",
    "    return text.split()\n",
    "\n",
    "question_vect = CountVectorizer(tokenizer=tokenize_question)\n",
    "question_vect.fit(questions)\n",
    "\n",
    "print('The number of words in the vocabulary is: ', len(question_vect.vocabulary_))"
   ]
  },
  {
   "cell_type": "markdown",
   "metadata": {},
   "source": [
    "Find the number of tags"
   ]
  },
  {
   "cell_type": "code",
   "execution_count": 21,
   "metadata": {},
   "outputs": [
    {
     "name": "stdout",
     "output_type": "stream",
     "text": [
      "The total number of tags is:  18837\n"
     ]
    }
   ],
   "source": [
    "def tokenize_tags(text):\n",
    "    return text.split('|')\n",
    "\n",
    "tags_vect = CountVectorizer(tokenizer=tokenize_tags)\n",
    "tags_vect.fit(tags)\n",
    "\n",
    "print('The total number of tags is: ', len(tags_vect.vocabulary_))"
   ]
  },
  {
   "cell_type": "markdown",
   "metadata": {},
   "source": [
    "#### Save tag label as vectorized tokens.\n",
    "\n",
    "There are too many tags to predict. In our model we will only look at the top 100 tags and save the result"
   ]
  },
  {
   "cell_type": "code",
   "execution_count": 22,
   "metadata": {},
   "outputs": [
    {
     "name": "stdout",
     "output_type": "stream",
     "text": [
      "Number of tags:  100\n",
      "The list of tags with frequency is: \n",
      "{'.htaccess': 389, '.net': 1685, 'ajax': 1126, 'algorithm': 566, 'amazon-web-services': 375, 'android': 7088, 'angular': 764, 'angularjs': 1545, 'apache': 526, 'api': 349, 'arrays': 1752, 'asp.net': 2034, 'asp.net-mvc': 1038, 'azure': 399, 'bash': 622, 'c': 1734, 'c#': 7562, 'c++': 3463, 'codeigniter': 371, 'css': 3278, 'css3': 447, 'csv': 342, 'database': 888, 'django': 1088, 'eclipse': 779, 'entity-framework': 522, 'excel': 1079, 'excel-vba': 495, 'facebook': 516, 'file': 366, 'firebase': 357, 'forms': 583, 'function': 417, 'git': 631, 'hibernate': 458, 'html': 4715, 'html5': 693, 'image': 547, 'ios': 3478, 'iphone': 1312, 'java': 9043, 'javascript': 10054, 'jquery': 5592, 'json': 1469, 'laravel': 627, 'linq': 466, 'linux': 1006, 'list': 509, 'loops': 361, 'macos': 526, 'matlab': 507, 'maven': 358, 'mongodb': 653, 'multithreading': 681, 'mysql': 3205, 'node.js': 1493, 'objective-c': 1776, 'oracle': 600, 'pandas': 477, 'performance': 490, 'perl': 382, 'php': 7486, 'postgresql': 491, 'python': 6196, 'python-2.7': 524, 'python-3.x': 710, 'qt': 432, 'r': 1464, 'reactjs': 613, 'regex': 1196, 'rest': 423, 'ruby': 1236, 'ruby-on-rails': 1822, 'scala': 509, 'shell': 413, 'spring': 871, 'sql': 2786, 'sql-server': 1533, 'sql-server-2008': 344, 'sqlite': 412, 'string': 795, 'swift': 1235, 'swing': 410, 'symfony': 385, 'tsql': 353, 'twitter-bootstrap': 558, 'typescript': 375, 'uitableview': 361, 'unit-testing': 348, 'validation': 348, 'vb.net': 746, 'vba': 809, 'visual-studio': 491, 'web-services': 348, 'windows': 739, 'winforms': 507, 'wordpress': 819, 'wpf': 885, 'xcode': 747, 'xml': 999}\n"
     ]
    }
   ],
   "source": [
    "max_tags = 100\n",
    "\n",
    "def tokenize_tags(text):\n",
    "    return text.split('|')\n",
    "\n",
    "tags_vect = CountVectorizer(tokenizer=tokenize_tags, max_features=max_tags)\n",
    "tags = tags_vect.fit_transform(tags)\n",
    "tags = tags.toarray()\n",
    "print('Number of tags: ', len(tags_vect.vocabulary_))\n",
    "\n",
    "tags_token = tags_vect.get_feature_names()\n",
    "tag_frequency = tags.sum(axis=0)\n",
    "print('The list of tags with frequency is: ')\n",
    "print(dict(zip(tags_token, tag_frequency)))"
   ]
  },
  {
   "cell_type": "markdown",
   "metadata": {},
   "source": [
    "Histogram of number of tags in each question"
   ]
  },
  {
   "cell_type": "code",
   "execution_count": 23,
   "metadata": {},
   "outputs": [
    {
     "data": {
      "text/plain": [
       "Text(0,0.5,'Number of questions')"
      ]
     },
     "execution_count": 23,
     "metadata": {},
     "output_type": "execute_result"
    },
    {
     "data": {
      "image/png": "[encoded data removed]",
      "text/plain": [
       "<Figure size 432x288 with 1 Axes>"
      ]
     },
     "metadata": {
      "needs_background": "light"
     },
     "output_type": "display_data"
    }
   ],
   "source": [
    "plt.hist(tags.sum(axis=1))\n",
    "plt.xlabel('Number of tags for a question')\n",
    "plt.ylabel('Number of questions')"
   ]
  },
  {
   "cell_type": "markdown",
   "metadata": {},
   "source": [
    "### Split test and train data set"
   ]
  },
  {
   "cell_type": "code",
   "execution_count": 24,
   "metadata": {},
   "outputs": [],
   "source": [
    "X_train, X_test, y_train, y_test = train_test_split(questions, tags, \n",
    "                                                    test_size=0.1, \n",
    "                                                    random_state=random_state)"
   ]
  },
  {
   "cell_type": "markdown",
   "metadata": {},
   "source": [
    "### Sample weight\n",
    "Evaluate sample weight from y_train data"
   ]
  },
  {
   "cell_type": "code",
   "execution_count": 25,
   "metadata": {},
   "outputs": [],
   "source": [
    "sample_weight = compute_sample_weight('balanced', y_test)\n",
    "sample_weight"
   ]
  },
  {
   "cell_type": "markdown",
   "metadata": {},
   "source": [
    "### Evaluation metrics"
   ]
  },
  {
   "cell_type": "code",
   "execution_count": 11,
   "metadata": {},
   "outputs": [],
   "source": [
    "def eval_metrics(y_test, y_predicted, print_metrics=True):\n",
    "    \n",
    "    accuracy = accuracy_score(y_test, y_predicted)\n",
    "    precision = precision_score(y_test, y_predicted)\n",
    "    recall = recall_score(y_test, y_predicted)\n",
    "    f1 = f1_score(y_test, y_predicted)\n",
    "    \n",
    "    if print_metrics:\n",
    "        print(\"accuracy = %.3f, precision = %.3f, recall = %.3f, f1 = %.3f\" % (\n",
    "            accuracy, precision, recall, f1))\n",
    "    return accuracy, precision, recall, f1\n"
   ]
  },
  {
   "cell_type": "markdown",
   "metadata": {},
   "source": [
    "# Simple first order model: Bag of words with logistic regression\n"
   ]
  },
  {
   "cell_type": "markdown",
   "metadata": {},
   "source": [
    "### Bag of words embedding for quesitons\n",
    "\n",
    "Remove common words and words appearing very less number of times from the corpus"
   ]
  },
  {
   "cell_type": "code",
   "execution_count": 38,
   "metadata": {},
   "outputs": [],
   "source": [
    "def tokenize_question(text):\n",
    "    return text.split()\n",
    "\n",
    "question_vect = CountVectorizer(tokenizer=tokenize_question,\n",
    "                               stop_words='english',\n",
    "                               min_df=2,\n",
    "                               max_df=0.5)\n",
    "\n",
    "X_train_bag_log = question_vect.fit_transform(X_train)\n",
    "X_test_bag_log = question_vect.fit(X_test)"
   ]
  },
  {
   "cell_type": "code",
   "execution_count": null,
   "metadata": {},
   "outputs": [],
   "source": []
  }
 ],
 "metadata": {
  "kernelspec": {
   "display_name": "Python 3",
   "language": "python",
   "name": "python3"
  },
  "language_info": {
   "codemirror_mode": {
    "name": "ipython",
    "version": 3
   },
   "file_extension": ".py",
   "mimetype": "text/x-python",
   "name": "python",
   "nbconvert_exporter": "python",
   "pygments_lexer": "ipython3",
   "version": "3.6.6"
  }
 },
 "nbformat": 4,
 "nbformat_minor": 2
}
